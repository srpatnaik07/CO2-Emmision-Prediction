{
  "cells": [
    {
      "cell_type": "code",
      "execution_count": 1,
      "id": "e195e10a",
      "metadata": {
        "id": "e195e10a"
      },
      "outputs": [],
      "source": [
        "%matplotlib inline\n",
        "import numpy as np\n",
        "import pandas as pd\n",
        "import seaborn as sns\n",
        "import matplotlib.pylab\n",
        "import matplotlib.pyplot as plt\n",
        "import scipy.stats as stats\n",
        "import datetime\n",
        "import itertools\n",
        "\n",
        "import sklearn\n",
        "from sklearn.preprocessing import PowerTransformer\n",
        "from scipy.stats import boxcox \n",
        "\n",
        "import statsmodels\n",
        "import statsmodels.api as sm\n",
        "from statsmodels.tsa.stattools import coint, adfuller, kpss\n",
        "from statsmodels.tsa.seasonal import seasonal_decompose\n",
        "from statsmodels.tsa.stattools import acf, pacf\n",
        "\n",
        "import warnings\n",
        "from math import sqrt\n",
        "from pandas import read_csv\n",
        "from statsmodels.tsa.arima.model import ARIMA\n",
        "from sklearn.metrics import mean_squared_error\n",
        "from statsmodels.tsa.ar_model import AutoReg\n",
        "\n",
        "\n",
        "from statsmodels.tsa.holtwinters import SimpleExpSmoothing\n",
        "from statsmodels.tsa.holtwinters import Holt\n",
        "from statsmodels.tsa.holtwinters import ExponentialSmoothing\n",
        "from sklearn.preprocessing import MinMaxScaler\n",
        "from pandas.tseries.offsets import DateOffset\n",
        "import warnings\n",
        "warnings.filterwarnings(\"ignore\") # specify to ignore warning messages"
      ]
    },
    {
      "cell_type": "code",
      "source": [
        "from google.colab import files\n",
        "uploaded=files.upload()"
      ],
      "metadata": {
        "colab": {
          "base_uri": "https://localhost:8080/",
          "height": 73
        },
        "id": "EWbrFGVHm2ZW",
        "outputId": "453fd924-bf74-42bc-852e-39a4126b2ce0"
      },
      "id": "EWbrFGVHm2ZW",
      "execution_count": 2,
      "outputs": [
        {
          "output_type": "display_data",
          "data": {
            "text/plain": [
              "<IPython.core.display.HTML object>"
            ],
            "text/html": [
              "\n",
              "     <input type=\"file\" id=\"files-6ae9ad0d-c56d-4560-a054-f9a974da09c3\" name=\"files[]\" multiple disabled\n",
              "        style=\"border:none\" />\n",
              "     <output id=\"result-6ae9ad0d-c56d-4560-a054-f9a974da09c3\">\n",
              "      Upload widget is only available when the cell has been executed in the\n",
              "      current browser session. Please rerun this cell to enable.\n",
              "      </output>\n",
              "      <script>// Copyright 2017 Google LLC\n",
              "//\n",
              "// Licensed under the Apache License, Version 2.0 (the \"License\");\n",
              "// you may not use this file except in compliance with the License.\n",
              "// You may obtain a copy of the License at\n",
              "//\n",
              "//      http://www.apache.org/licenses/LICENSE-2.0\n",
              "//\n",
              "// Unless required by applicable law or agreed to in writing, software\n",
              "// distributed under the License is distributed on an \"AS IS\" BASIS,\n",
              "// WITHOUT WARRANTIES OR CONDITIONS OF ANY KIND, either express or implied.\n",
              "// See the License for the specific language governing permissions and\n",
              "// limitations under the License.\n",
              "\n",
              "/**\n",
              " * @fileoverview Helpers for google.colab Python module.\n",
              " */\n",
              "(function(scope) {\n",
              "function span(text, styleAttributes = {}) {\n",
              "  const element = document.createElement('span');\n",
              "  element.textContent = text;\n",
              "  for (const key of Object.keys(styleAttributes)) {\n",
              "    element.style[key] = styleAttributes[key];\n",
              "  }\n",
              "  return element;\n",
              "}\n",
              "\n",
              "// Max number of bytes which will be uploaded at a time.\n",
              "const MAX_PAYLOAD_SIZE = 100 * 1024;\n",
              "\n",
              "function _uploadFiles(inputId, outputId) {\n",
              "  const steps = uploadFilesStep(inputId, outputId);\n",
              "  const outputElement = document.getElementById(outputId);\n",
              "  // Cache steps on the outputElement to make it available for the next call\n",
              "  // to uploadFilesContinue from Python.\n",
              "  outputElement.steps = steps;\n",
              "\n",
              "  return _uploadFilesContinue(outputId);\n",
              "}\n",
              "\n",
              "// This is roughly an async generator (not supported in the browser yet),\n",
              "// where there are multiple asynchronous steps and the Python side is going\n",
              "// to poll for completion of each step.\n",
              "// This uses a Promise to block the python side on completion of each step,\n",
              "// then passes the result of the previous step as the input to the next step.\n",
              "function _uploadFilesContinue(outputId) {\n",
              "  const outputElement = document.getElementById(outputId);\n",
              "  const steps = outputElement.steps;\n",
              "\n",
              "  const next = steps.next(outputElement.lastPromiseValue);\n",
              "  return Promise.resolve(next.value.promise).then((value) => {\n",
              "    // Cache the last promise value to make it available to the next\n",
              "    // step of the generator.\n",
              "    outputElement.lastPromiseValue = value;\n",
              "    return next.value.response;\n",
              "  });\n",
              "}\n",
              "\n",
              "/**\n",
              " * Generator function which is called between each async step of the upload\n",
              " * process.\n",
              " * @param {string} inputId Element ID of the input file picker element.\n",
              " * @param {string} outputId Element ID of the output display.\n",
              " * @return {!Iterable<!Object>} Iterable of next steps.\n",
              " */\n",
              "function* uploadFilesStep(inputId, outputId) {\n",
              "  const inputElement = document.getElementById(inputId);\n",
              "  inputElement.disabled = false;\n",
              "\n",
              "  const outputElement = document.getElementById(outputId);\n",
              "  outputElement.innerHTML = '';\n",
              "\n",
              "  const pickedPromise = new Promise((resolve) => {\n",
              "    inputElement.addEventListener('change', (e) => {\n",
              "      resolve(e.target.files);\n",
              "    });\n",
              "  });\n",
              "\n",
              "  const cancel = document.createElement('button');\n",
              "  inputElement.parentElement.appendChild(cancel);\n",
              "  cancel.textContent = 'Cancel upload';\n",
              "  const cancelPromise = new Promise((resolve) => {\n",
              "    cancel.onclick = () => {\n",
              "      resolve(null);\n",
              "    };\n",
              "  });\n",
              "\n",
              "  // Wait for the user to pick the files.\n",
              "  const files = yield {\n",
              "    promise: Promise.race([pickedPromise, cancelPromise]),\n",
              "    response: {\n",
              "      action: 'starting',\n",
              "    }\n",
              "  };\n",
              "\n",
              "  cancel.remove();\n",
              "\n",
              "  // Disable the input element since further picks are not allowed.\n",
              "  inputElement.disabled = true;\n",
              "\n",
              "  if (!files) {\n",
              "    return {\n",
              "      response: {\n",
              "        action: 'complete',\n",
              "      }\n",
              "    };\n",
              "  }\n",
              "\n",
              "  for (const file of files) {\n",
              "    const li = document.createElement('li');\n",
              "    li.append(span(file.name, {fontWeight: 'bold'}));\n",
              "    li.append(span(\n",
              "        `(${file.type || 'n/a'}) - ${file.size} bytes, ` +\n",
              "        `last modified: ${\n",
              "            file.lastModifiedDate ? file.lastModifiedDate.toLocaleDateString() :\n",
              "                                    'n/a'} - `));\n",
              "    const percent = span('0% done');\n",
              "    li.appendChild(percent);\n",
              "\n",
              "    outputElement.appendChild(li);\n",
              "\n",
              "    const fileDataPromise = new Promise((resolve) => {\n",
              "      const reader = new FileReader();\n",
              "      reader.onload = (e) => {\n",
              "        resolve(e.target.result);\n",
              "      };\n",
              "      reader.readAsArrayBuffer(file);\n",
              "    });\n",
              "    // Wait for the data to be ready.\n",
              "    let fileData = yield {\n",
              "      promise: fileDataPromise,\n",
              "      response: {\n",
              "        action: 'continue',\n",
              "      }\n",
              "    };\n",
              "\n",
              "    // Use a chunked sending to avoid message size limits. See b/62115660.\n",
              "    let position = 0;\n",
              "    do {\n",
              "      const length = Math.min(fileData.byteLength - position, MAX_PAYLOAD_SIZE);\n",
              "      const chunk = new Uint8Array(fileData, position, length);\n",
              "      position += length;\n",
              "\n",
              "      const base64 = btoa(String.fromCharCode.apply(null, chunk));\n",
              "      yield {\n",
              "        response: {\n",
              "          action: 'append',\n",
              "          file: file.name,\n",
              "          data: base64,\n",
              "        },\n",
              "      };\n",
              "\n",
              "      let percentDone = fileData.byteLength === 0 ?\n",
              "          100 :\n",
              "          Math.round((position / fileData.byteLength) * 100);\n",
              "      percent.textContent = `${percentDone}% done`;\n",
              "\n",
              "    } while (position < fileData.byteLength);\n",
              "  }\n",
              "\n",
              "  // All done.\n",
              "  yield {\n",
              "    response: {\n",
              "      action: 'complete',\n",
              "    }\n",
              "  };\n",
              "}\n",
              "\n",
              "scope.google = scope.google || {};\n",
              "scope.google.colab = scope.google.colab || {};\n",
              "scope.google.colab._files = {\n",
              "  _uploadFiles,\n",
              "  _uploadFilesContinue,\n",
              "};\n",
              "})(self);\n",
              "</script> "
            ]
          },
          "metadata": {}
        },
        {
          "output_type": "stream",
          "name": "stdout",
          "text": [
            "Saving CO2 dataset.xlsx to CO2 dataset.xlsx\n"
          ]
        }
      ]
    },
    {
      "cell_type": "code",
      "execution_count": 3,
      "id": "26888d53",
      "metadata": {
        "colab": {
          "base_uri": "https://localhost:8080/",
          "height": 455
        },
        "id": "26888d53",
        "outputId": "b3b9e765-7e32-4786-e3cf-627eafd0b03d"
      },
      "outputs": [
        {
          "output_type": "execute_result",
          "data": {
            "text/plain": [
              "             CO2\n",
              "Year            \n",
              "1800.0   0.00568\n",
              "1801.0   0.00561\n",
              "1802.0   0.00555\n",
              "1803.0   0.00548\n",
              "1804.0   0.00542\n",
              "...          ...\n",
              "2010.0  15.60000\n",
              "2011.0  15.60000\n",
              "2012.0  14.80000\n",
              "2013.0  14.70000\n",
              "2014.0  15.10000\n",
              "\n",
              "[215 rows x 1 columns]"
            ],
            "text/html": [
              "\n",
              "  <div id=\"df-23802fe3-779d-48c2-ad79-ab98d7536eac\">\n",
              "    <div class=\"colab-df-container\">\n",
              "      <div>\n",
              "<style scoped>\n",
              "    .dataframe tbody tr th:only-of-type {\n",
              "        vertical-align: middle;\n",
              "    }\n",
              "\n",
              "    .dataframe tbody tr th {\n",
              "        vertical-align: top;\n",
              "    }\n",
              "\n",
              "    .dataframe thead th {\n",
              "        text-align: right;\n",
              "    }\n",
              "</style>\n",
              "<table border=\"1\" class=\"dataframe\">\n",
              "  <thead>\n",
              "    <tr style=\"text-align: right;\">\n",
              "      <th></th>\n",
              "      <th>CO2</th>\n",
              "    </tr>\n",
              "    <tr>\n",
              "      <th>Year</th>\n",
              "      <th></th>\n",
              "    </tr>\n",
              "  </thead>\n",
              "  <tbody>\n",
              "    <tr>\n",
              "      <th>1800.0</th>\n",
              "      <td>0.00568</td>\n",
              "    </tr>\n",
              "    <tr>\n",
              "      <th>1801.0</th>\n",
              "      <td>0.00561</td>\n",
              "    </tr>\n",
              "    <tr>\n",
              "      <th>1802.0</th>\n",
              "      <td>0.00555</td>\n",
              "    </tr>\n",
              "    <tr>\n",
              "      <th>1803.0</th>\n",
              "      <td>0.00548</td>\n",
              "    </tr>\n",
              "    <tr>\n",
              "      <th>1804.0</th>\n",
              "      <td>0.00542</td>\n",
              "    </tr>\n",
              "    <tr>\n",
              "      <th>...</th>\n",
              "      <td>...</td>\n",
              "    </tr>\n",
              "    <tr>\n",
              "      <th>2010.0</th>\n",
              "      <td>15.60000</td>\n",
              "    </tr>\n",
              "    <tr>\n",
              "      <th>2011.0</th>\n",
              "      <td>15.60000</td>\n",
              "    </tr>\n",
              "    <tr>\n",
              "      <th>2012.0</th>\n",
              "      <td>14.80000</td>\n",
              "    </tr>\n",
              "    <tr>\n",
              "      <th>2013.0</th>\n",
              "      <td>14.70000</td>\n",
              "    </tr>\n",
              "    <tr>\n",
              "      <th>2014.0</th>\n",
              "      <td>15.10000</td>\n",
              "    </tr>\n",
              "  </tbody>\n",
              "</table>\n",
              "<p>215 rows × 1 columns</p>\n",
              "</div>\n",
              "      <button class=\"colab-df-convert\" onclick=\"convertToInteractive('df-23802fe3-779d-48c2-ad79-ab98d7536eac')\"\n",
              "              title=\"Convert this dataframe to an interactive table.\"\n",
              "              style=\"display:none;\">\n",
              "        \n",
              "  <svg xmlns=\"http://www.w3.org/2000/svg\" height=\"24px\"viewBox=\"0 0 24 24\"\n",
              "       width=\"24px\">\n",
              "    <path d=\"M0 0h24v24H0V0z\" fill=\"none\"/>\n",
              "    <path d=\"M18.56 5.44l.94 2.06.94-2.06 2.06-.94-2.06-.94-.94-2.06-.94 2.06-2.06.94zm-11 1L8.5 8.5l.94-2.06 2.06-.94-2.06-.94L8.5 2.5l-.94 2.06-2.06.94zm10 10l.94 2.06.94-2.06 2.06-.94-2.06-.94-.94-2.06-.94 2.06-2.06.94z\"/><path d=\"M17.41 7.96l-1.37-1.37c-.4-.4-.92-.59-1.43-.59-.52 0-1.04.2-1.43.59L10.3 9.45l-7.72 7.72c-.78.78-.78 2.05 0 2.83L4 21.41c.39.39.9.59 1.41.59.51 0 1.02-.2 1.41-.59l7.78-7.78 2.81-2.81c.8-.78.8-2.07 0-2.86zM5.41 20L4 18.59l7.72-7.72 1.47 1.35L5.41 20z\"/>\n",
              "  </svg>\n",
              "      </button>\n",
              "      \n",
              "  <style>\n",
              "    .colab-df-container {\n",
              "      display:flex;\n",
              "      flex-wrap:wrap;\n",
              "      gap: 12px;\n",
              "    }\n",
              "\n",
              "    .colab-df-convert {\n",
              "      background-color: #E8F0FE;\n",
              "      border: none;\n",
              "      border-radius: 50%;\n",
              "      cursor: pointer;\n",
              "      display: none;\n",
              "      fill: #1967D2;\n",
              "      height: 32px;\n",
              "      padding: 0 0 0 0;\n",
              "      width: 32px;\n",
              "    }\n",
              "\n",
              "    .colab-df-convert:hover {\n",
              "      background-color: #E2EBFA;\n",
              "      box-shadow: 0px 1px 2px rgba(60, 64, 67, 0.3), 0px 1px 3px 1px rgba(60, 64, 67, 0.15);\n",
              "      fill: #174EA6;\n",
              "    }\n",
              "\n",
              "    [theme=dark] .colab-df-convert {\n",
              "      background-color: #3B4455;\n",
              "      fill: #D2E3FC;\n",
              "    }\n",
              "\n",
              "    [theme=dark] .colab-df-convert:hover {\n",
              "      background-color: #434B5C;\n",
              "      box-shadow: 0px 1px 3px 1px rgba(0, 0, 0, 0.15);\n",
              "      filter: drop-shadow(0px 1px 2px rgba(0, 0, 0, 0.3));\n",
              "      fill: #FFFFFF;\n",
              "    }\n",
              "  </style>\n",
              "\n",
              "      <script>\n",
              "        const buttonEl =\n",
              "          document.querySelector('#df-23802fe3-779d-48c2-ad79-ab98d7536eac button.colab-df-convert');\n",
              "        buttonEl.style.display =\n",
              "          google.colab.kernel.accessAllowed ? 'block' : 'none';\n",
              "\n",
              "        async function convertToInteractive(key) {\n",
              "          const element = document.querySelector('#df-23802fe3-779d-48c2-ad79-ab98d7536eac');\n",
              "          const dataTable =\n",
              "            await google.colab.kernel.invokeFunction('convertToInteractive',\n",
              "                                                     [key], {});\n",
              "          if (!dataTable) return;\n",
              "\n",
              "          const docLinkHtml = 'Like what you see? Visit the ' +\n",
              "            '<a target=\"_blank\" href=https://colab.research.google.com/notebooks/data_table.ipynb>data table notebook</a>'\n",
              "            + ' to learn more about interactive tables.';\n",
              "          element.innerHTML = '';\n",
              "          dataTable['output_type'] = 'display_data';\n",
              "          await google.colab.output.renderOutput(dataTable, element);\n",
              "          const docLink = document.createElement('div');\n",
              "          docLink.innerHTML = docLinkHtml;\n",
              "          element.appendChild(docLink);\n",
              "        }\n",
              "      </script>\n",
              "    </div>\n",
              "  </div>\n",
              "  "
            ]
          },
          "metadata": {},
          "execution_count": 3
        }
      ],
      "source": [
        "df=pd.read_excel(r\"CO2 dataset.xlsx\",header=0,index_col=0,parse_dates=True)\n",
        "df"
      ]
    },
    {
      "cell_type": "markdown",
      "id": "807e0bb8",
      "metadata": {
        "id": "807e0bb8"
      },
      "source": [
        "# EDA"
      ]
    },
    {
      "cell_type": "code",
      "execution_count": 4,
      "id": "d6f9f095",
      "metadata": {
        "colab": {
          "base_uri": "https://localhost:8080/"
        },
        "id": "d6f9f095",
        "outputId": "63f33d19-f19d-4ae7-8245-34e121021243"
      },
      "outputs": [
        {
          "output_type": "execute_result",
          "data": {
            "text/plain": [
              "(215, 1)"
            ]
          },
          "metadata": {},
          "execution_count": 4
        }
      ],
      "source": [
        "df.shape"
      ]
    },
    {
      "cell_type": "code",
      "execution_count": 5,
      "id": "198f3cbb",
      "metadata": {
        "colab": {
          "base_uri": "https://localhost:8080/"
        },
        "id": "198f3cbb",
        "outputId": "b61c5d8d-cb5d-45fb-d427-37149c4f588d"
      },
      "outputs": [
        {
          "output_type": "execute_result",
          "data": {
            "text/plain": [
              "CO2    0\n",
              "dtype: int64"
            ]
          },
          "metadata": {},
          "execution_count": 5
        }
      ],
      "source": [
        "df.isnull().sum()"
      ]
    },
    {
      "cell_type": "code",
      "execution_count": 6,
      "id": "6c6b7871",
      "metadata": {
        "colab": {
          "base_uri": "https://localhost:8080/",
          "height": 300
        },
        "id": "6c6b7871",
        "outputId": "456b215e-3e1e-4010-8684-ac6ab07e5431"
      },
      "outputs": [
        {
          "output_type": "execute_result",
          "data": {
            "text/plain": [
              "              CO2\n",
              "count  215.000000\n",
              "mean     6.741970\n",
              "std      6.522437\n",
              "min      0.001750\n",
              "25%      0.041050\n",
              "50%      6.390000\n",
              "75%     11.500000\n",
              "max     18.200000"
            ],
            "text/html": [
              "\n",
              "  <div id=\"df-0b0eacc2-af6b-44ac-91aa-cd0a0ab403d7\">\n",
              "    <div class=\"colab-df-container\">\n",
              "      <div>\n",
              "<style scoped>\n",
              "    .dataframe tbody tr th:only-of-type {\n",
              "        vertical-align: middle;\n",
              "    }\n",
              "\n",
              "    .dataframe tbody tr th {\n",
              "        vertical-align: top;\n",
              "    }\n",
              "\n",
              "    .dataframe thead th {\n",
              "        text-align: right;\n",
              "    }\n",
              "</style>\n",
              "<table border=\"1\" class=\"dataframe\">\n",
              "  <thead>\n",
              "    <tr style=\"text-align: right;\">\n",
              "      <th></th>\n",
              "      <th>CO2</th>\n",
              "    </tr>\n",
              "  </thead>\n",
              "  <tbody>\n",
              "    <tr>\n",
              "      <th>count</th>\n",
              "      <td>215.000000</td>\n",
              "    </tr>\n",
              "    <tr>\n",
              "      <th>mean</th>\n",
              "      <td>6.741970</td>\n",
              "    </tr>\n",
              "    <tr>\n",
              "      <th>std</th>\n",
              "      <td>6.522437</td>\n",
              "    </tr>\n",
              "    <tr>\n",
              "      <th>min</th>\n",
              "      <td>0.001750</td>\n",
              "    </tr>\n",
              "    <tr>\n",
              "      <th>25%</th>\n",
              "      <td>0.041050</td>\n",
              "    </tr>\n",
              "    <tr>\n",
              "      <th>50%</th>\n",
              "      <td>6.390000</td>\n",
              "    </tr>\n",
              "    <tr>\n",
              "      <th>75%</th>\n",
              "      <td>11.500000</td>\n",
              "    </tr>\n",
              "    <tr>\n",
              "      <th>max</th>\n",
              "      <td>18.200000</td>\n",
              "    </tr>\n",
              "  </tbody>\n",
              "</table>\n",
              "</div>\n",
              "      <button class=\"colab-df-convert\" onclick=\"convertToInteractive('df-0b0eacc2-af6b-44ac-91aa-cd0a0ab403d7')\"\n",
              "              title=\"Convert this dataframe to an interactive table.\"\n",
              "              style=\"display:none;\">\n",
              "        \n",
              "  <svg xmlns=\"http://www.w3.org/2000/svg\" height=\"24px\"viewBox=\"0 0 24 24\"\n",
              "       width=\"24px\">\n",
              "    <path d=\"M0 0h24v24H0V0z\" fill=\"none\"/>\n",
              "    <path d=\"M18.56 5.44l.94 2.06.94-2.06 2.06-.94-2.06-.94-.94-2.06-.94 2.06-2.06.94zm-11 1L8.5 8.5l.94-2.06 2.06-.94-2.06-.94L8.5 2.5l-.94 2.06-2.06.94zm10 10l.94 2.06.94-2.06 2.06-.94-2.06-.94-.94-2.06-.94 2.06-2.06.94z\"/><path d=\"M17.41 7.96l-1.37-1.37c-.4-.4-.92-.59-1.43-.59-.52 0-1.04.2-1.43.59L10.3 9.45l-7.72 7.72c-.78.78-.78 2.05 0 2.83L4 21.41c.39.39.9.59 1.41.59.51 0 1.02-.2 1.41-.59l7.78-7.78 2.81-2.81c.8-.78.8-2.07 0-2.86zM5.41 20L4 18.59l7.72-7.72 1.47 1.35L5.41 20z\"/>\n",
              "  </svg>\n",
              "      </button>\n",
              "      \n",
              "  <style>\n",
              "    .colab-df-container {\n",
              "      display:flex;\n",
              "      flex-wrap:wrap;\n",
              "      gap: 12px;\n",
              "    }\n",
              "\n",
              "    .colab-df-convert {\n",
              "      background-color: #E8F0FE;\n",
              "      border: none;\n",
              "      border-radius: 50%;\n",
              "      cursor: pointer;\n",
              "      display: none;\n",
              "      fill: #1967D2;\n",
              "      height: 32px;\n",
              "      padding: 0 0 0 0;\n",
              "      width: 32px;\n",
              "    }\n",
              "\n",
              "    .colab-df-convert:hover {\n",
              "      background-color: #E2EBFA;\n",
              "      box-shadow: 0px 1px 2px rgba(60, 64, 67, 0.3), 0px 1px 3px 1px rgba(60, 64, 67, 0.15);\n",
              "      fill: #174EA6;\n",
              "    }\n",
              "\n",
              "    [theme=dark] .colab-df-convert {\n",
              "      background-color: #3B4455;\n",
              "      fill: #D2E3FC;\n",
              "    }\n",
              "\n",
              "    [theme=dark] .colab-df-convert:hover {\n",
              "      background-color: #434B5C;\n",
              "      box-shadow: 0px 1px 3px 1px rgba(0, 0, 0, 0.15);\n",
              "      filter: drop-shadow(0px 1px 2px rgba(0, 0, 0, 0.3));\n",
              "      fill: #FFFFFF;\n",
              "    }\n",
              "  </style>\n",
              "\n",
              "      <script>\n",
              "        const buttonEl =\n",
              "          document.querySelector('#df-0b0eacc2-af6b-44ac-91aa-cd0a0ab403d7 button.colab-df-convert');\n",
              "        buttonEl.style.display =\n",
              "          google.colab.kernel.accessAllowed ? 'block' : 'none';\n",
              "\n",
              "        async function convertToInteractive(key) {\n",
              "          const element = document.querySelector('#df-0b0eacc2-af6b-44ac-91aa-cd0a0ab403d7');\n",
              "          const dataTable =\n",
              "            await google.colab.kernel.invokeFunction('convertToInteractive',\n",
              "                                                     [key], {});\n",
              "          if (!dataTable) return;\n",
              "\n",
              "          const docLinkHtml = 'Like what you see? Visit the ' +\n",
              "            '<a target=\"_blank\" href=https://colab.research.google.com/notebooks/data_table.ipynb>data table notebook</a>'\n",
              "            + ' to learn more about interactive tables.';\n",
              "          element.innerHTML = '';\n",
              "          dataTable['output_type'] = 'display_data';\n",
              "          await google.colab.output.renderOutput(dataTable, element);\n",
              "          const docLink = document.createElement('div');\n",
              "          docLink.innerHTML = docLinkHtml;\n",
              "          element.appendChild(docLink);\n",
              "        }\n",
              "      </script>\n",
              "    </div>\n",
              "  </div>\n",
              "  "
            ]
          },
          "metadata": {},
          "execution_count": 6
        }
      ],
      "source": [
        "df.describe()"
      ]
    },
    {
      "cell_type": "code",
      "execution_count": 7,
      "id": "13d9f5b7",
      "metadata": {
        "colab": {
          "base_uri": "https://localhost:8080/",
          "height": 296
        },
        "id": "13d9f5b7",
        "outputId": "bb244d35-18c4-4010-ce62-17529bcad052"
      },
      "outputs": [
        {
          "output_type": "execute_result",
          "data": {
            "text/plain": [
              "<AxesSubplot:xlabel='Year'>"
            ]
          },
          "metadata": {},
          "execution_count": 7
        },
        {
          "output_type": "display_data",
          "data": {
            "text/plain": [
              "<Figure size 432x288 with 1 Axes>"
            ],
            "image/png": "[encoded data removed]"
          },
          "metadata": {
            "needs_background": "light"
          }
        }
      ],
      "source": [
        "df.plot()"
      ]
    },
    {
      "cell_type": "code",
      "execution_count": 8,
      "id": "a2af33d6",
      "metadata": {
        "colab": {
          "base_uri": "https://localhost:8080/",
          "height": 282
        },
        "id": "a2af33d6",
        "outputId": "8b377ffb-ec75-4499-9ff5-aa1a5155c02c"
      },
      "outputs": [
        {
          "output_type": "execute_result",
          "data": {
            "text/plain": [
              "<AxesSubplot:>"
            ]
          },
          "metadata": {},
          "execution_count": 8
        },
        {
          "output_type": "display_data",
          "data": {
            "text/plain": [
              "<Figure size 432x288 with 1 Axes>"
            ],
            "image/png": "[encoded data removed]"
          },
          "metadata": {
            "needs_background": "light"
          }
        }
      ],
      "source": [
        "df['CO2'].hist()"
      ]
    },
    {
      "cell_type": "code",
      "execution_count": 9,
      "id": "c95eb608",
      "metadata": {
        "scrolled": true,
        "colab": {
          "base_uri": "https://localhost:8080/",
          "height": 296
        },
        "id": "c95eb608",
        "outputId": "eeeaadcf-60fc-415b-e3d6-f598694f0549"
      },
      "outputs": [
        {
          "output_type": "execute_result",
          "data": {
            "text/plain": [
              "<AxesSubplot:xlabel='CO2', ylabel='Density'>"
            ]
          },
          "metadata": {},
          "execution_count": 9
        },
        {
          "output_type": "display_data",
          "data": {
            "text/plain": [
              "<Figure size 432x288 with 1 Axes>"
            ],
            "image/png": "[encoded data removed]"
          },
          "metadata": {
            "needs_background": "light"
          }
        }
      ],
      "source": [
        "sns.distplot(df['CO2'])\n"
      ]
    },
    {
      "cell_type": "markdown",
      "id": "2ee92050",
      "metadata": {
        "id": "2ee92050"
      },
      "source": [
        "#### Data distribution is not normal. So we apply some transformations and visualize the data."
      ]
    },
    {
      "cell_type": "markdown",
      "id": "c96d9321",
      "metadata": {
        "id": "c96d9321"
      },
      "source": [
        "### Box-Cox Transformation"
      ]
    },
    {
      "cell_type": "code",
      "execution_count": 10,
      "id": "9362c6e3",
      "metadata": {
        "colab": {
          "base_uri": "https://localhost:8080/",
          "height": 455
        },
        "id": "9362c6e3",
        "outputId": "0aca2f4f-130b-4b64-d6d2-091997305eb2"
      },
      "outputs": [
        {
          "output_type": "execute_result",
          "data": {
            "text/plain": [
              "             CO2  co2_boxcox\n",
              "Year                        \n",
              "1800.0   0.00568   -3.094412\n",
              "1801.0   0.00561   -3.098401\n",
              "1802.0   0.00555   -3.101852\n",
              "1803.0   0.00548   -3.105915\n",
              "1804.0   0.00542   -3.109430\n",
              "...          ...         ...\n",
              "2010.0  15.60000    3.767993\n",
              "2011.0  15.60000    3.767993\n",
              "2012.0  14.80000    3.672451\n",
              "2013.0  14.70000    3.660226\n",
              "2014.0  15.10000    3.708741\n",
              "\n",
              "[215 rows x 2 columns]"
            ],
            "text/html": [
              "\n",
              "  <div id=\"df-5a1f7a9d-9e91-4ffd-bdfa-588fdd568758\">\n",
              "    <div class=\"colab-df-container\">\n",
              "      <div>\n",
              "<style scoped>\n",
              "    .dataframe tbody tr th:only-of-type {\n",
              "        vertical-align: middle;\n",
              "    }\n",
              "\n",
              "    .dataframe tbody tr th {\n",
              "        vertical-align: top;\n",
              "    }\n",
              "\n",
              "    .dataframe thead th {\n",
              "        text-align: right;\n",
              "    }\n",
              "</style>\n",
              "<table border=\"1\" class=\"dataframe\">\n",
              "  <thead>\n",
              "    <tr style=\"text-align: right;\">\n",
              "      <th></th>\n",
              "      <th>CO2</th>\n",
              "      <th>co2_boxcox</th>\n",
              "    </tr>\n",
              "    <tr>\n",
              "      <th>Year</th>\n",
              "      <th></th>\n",
              "      <th></th>\n",
              "    </tr>\n",
              "  </thead>\n",
              "  <tbody>\n",
              "    <tr>\n",
              "      <th>1800.0</th>\n",
              "      <td>0.00568</td>\n",
              "      <td>-3.094412</td>\n",
              "    </tr>\n",
              "    <tr>\n",
              "      <th>1801.0</th>\n",
              "      <td>0.00561</td>\n",
              "      <td>-3.098401</td>\n",
              "    </tr>\n",
              "    <tr>\n",
              "      <th>1802.0</th>\n",
              "      <td>0.00555</td>\n",
              "      <td>-3.101852</td>\n",
              "    </tr>\n",
              "    <tr>\n",
              "      <th>1803.0</th>\n",
              "      <td>0.00548</td>\n",
              "      <td>-3.105915</td>\n",
              "    </tr>\n",
              "    <tr>\n",
              "      <th>1804.0</th>\n",
              "      <td>0.00542</td>\n",
              "      <td>-3.109430</td>\n",
              "    </tr>\n",
              "    <tr>\n",
              "      <th>...</th>\n",
              "      <td>...</td>\n",
              "      <td>...</td>\n",
              "    </tr>\n",
              "    <tr>\n",
              "      <th>2010.0</th>\n",
              "      <td>15.60000</td>\n",
              "      <td>3.767993</td>\n",
              "    </tr>\n",
              "    <tr>\n",
              "      <th>2011.0</th>\n",
              "      <td>15.60000</td>\n",
              "      <td>3.767993</td>\n",
              "    </tr>\n",
              "    <tr>\n",
              "      <th>2012.0</th>\n",
              "      <td>14.80000</td>\n",
              "      <td>3.672451</td>\n",
              "    </tr>\n",
              "    <tr>\n",
              "      <th>2013.0</th>\n",
              "      <td>14.70000</td>\n",
              "      <td>3.660226</td>\n",
              "    </tr>\n",
              "    <tr>\n",
              "      <th>2014.0</th>\n",
              "      <td>15.10000</td>\n",
              "      <td>3.708741</td>\n",
              "    </tr>\n",
              "  </tbody>\n",
              "</table>\n",
              "<p>215 rows × 2 columns</p>\n",
              "</div>\n",
              "      <button class=\"colab-df-convert\" onclick=\"convertToInteractive('df-5a1f7a9d-9e91-4ffd-bdfa-588fdd568758')\"\n",
              "              title=\"Convert this dataframe to an interactive table.\"\n",
              "              style=\"display:none;\">\n",
              "        \n",
              "  <svg xmlns=\"http://www.w3.org/2000/svg\" height=\"24px\"viewBox=\"0 0 24 24\"\n",
              "       width=\"24px\">\n",
              "    <path d=\"M0 0h24v24H0V0z\" fill=\"none\"/>\n",
              "    <path d=\"M18.56 5.44l.94 2.06.94-2.06 2.06-.94-2.06-.94-.94-2.06-.94 2.06-2.06.94zm-11 1L8.5 8.5l.94-2.06 2.06-.94-2.06-.94L8.5 2.5l-.94 2.06-2.06.94zm10 10l.94 2.06.94-2.06 2.06-.94-2.06-.94-.94-2.06-.94 2.06-2.06.94z\"/><path d=\"M17.41 7.96l-1.37-1.37c-.4-.4-.92-.59-1.43-.59-.52 0-1.04.2-1.43.59L10.3 9.45l-7.72 7.72c-.78.78-.78 2.05 0 2.83L4 21.41c.39.39.9.59 1.41.59.51 0 1.02-.2 1.41-.59l7.78-7.78 2.81-2.81c.8-.78.8-2.07 0-2.86zM5.41 20L4 18.59l7.72-7.72 1.47 1.35L5.41 20z\"/>\n",
              "  </svg>\n",
              "      </button>\n",
              "      \n",
              "  <style>\n",
              "    .colab-df-container {\n",
              "      display:flex;\n",
              "      flex-wrap:wrap;\n",
              "      gap: 12px;\n",
              "    }\n",
              "\n",
              "    .colab-df-convert {\n",
              "      background-color: #E8F0FE;\n",
              "      border: none;\n",
              "      border-radius: 50%;\n",
              "      cursor: pointer;\n",
              "      display: none;\n",
              "      fill: #1967D2;\n",
              "      height: 32px;\n",
              "      padding: 0 0 0 0;\n",
              "      width: 32px;\n",
              "    }\n",
              "\n",
              "    .colab-df-convert:hover {\n",
              "      background-color: #E2EBFA;\n",
              "      box-shadow: 0px 1px 2px rgba(60, 64, 67, 0.3), 0px 1px 3px 1px rgba(60, 64, 67, 0.15);\n",
              "      fill: #174EA6;\n",
              "    }\n",
              "\n",
              "    [theme=dark] .colab-df-convert {\n",
              "      background-color: #3B4455;\n",
              "      fill: #D2E3FC;\n",
              "    }\n",
              "\n",
              "    [theme=dark] .colab-df-convert:hover {\n",
              "      background-color: #434B5C;\n",
              "      box-shadow: 0px 1px 3px 1px rgba(0, 0, 0, 0.15);\n",
              "      filter: drop-shadow(0px 1px 2px rgba(0, 0, 0, 0.3));\n",
              "      fill: #FFFFFF;\n",
              "    }\n",
              "  </style>\n",
              "\n",
              "      <script>\n",
              "        const buttonEl =\n",
              "          document.querySelector('#df-5a1f7a9d-9e91-4ffd-bdfa-588fdd568758 button.colab-df-convert');\n",
              "        buttonEl.style.display =\n",
              "          google.colab.kernel.accessAllowed ? 'block' : 'none';\n",
              "\n",
              "        async function convertToInteractive(key) {\n",
              "          const element = document.querySelector('#df-5a1f7a9d-9e91-4ffd-bdfa-588fdd568758');\n",
              "          const dataTable =\n",
              "            await google.colab.kernel.invokeFunction('convertToInteractive',\n",
              "                                                     [key], {});\n",
              "          if (!dataTable) return;\n",
              "\n",
              "          const docLinkHtml = 'Like what you see? Visit the ' +\n",
              "            '<a target=\"_blank\" href=https://colab.research.google.com/notebooks/data_table.ipynb>data table notebook</a>'\n",
              "            + ' to learn more about interactive tables.';\n",
              "          element.innerHTML = '';\n",
              "          dataTable['output_type'] = 'display_data';\n",
              "          await google.colab.output.renderOutput(dataTable, element);\n",
              "          const docLink = document.createElement('div');\n",
              "          docLink.innerHTML = docLinkHtml;\n",
              "          element.appendChild(docLink);\n",
              "        }\n",
              "      </script>\n",
              "    </div>\n",
              "  </div>\n",
              "  "
            ]
          },
          "metadata": {},
          "execution_count": 10
        }
      ],
      "source": [
        "df['co2_boxcox'] ,_=stats.boxcox(df['CO2'])\n",
        "df"
      ]
    },
    {
      "cell_type": "code",
      "execution_count": 11,
      "id": "879feb8e",
      "metadata": {
        "colab": {
          "base_uri": "https://localhost:8080/",
          "height": 352
        },
        "id": "879feb8e",
        "outputId": "cd4d3601-bd58-43ce-96de-8ddcbd4f64a8"
      },
      "outputs": [
        {
          "output_type": "execute_result",
          "data": {
            "text/plain": [
              "(array([49.,  9.,  8., 14.,  2.,  8., 13., 16., 44., 52.]),\n",
              " array([-3.42876031, -2.68046638, -1.93217246, -1.18387854, -0.43558462,\n",
              "         0.3127093 ,  1.06100323,  1.80929715,  2.55759107,  3.30588499,\n",
              "         4.05417892]),\n",
              " <BarContainer object of 10 artists>)"
            ]
          },
          "metadata": {},
          "execution_count": 11
        },
        {
          "output_type": "display_data",
          "data": {
            "text/plain": [
              "<Figure size 432x288 with 1 Axes>"
            ],
            "image/png": "[encoded data removed]"
          },
          "metadata": {
            "needs_background": "light"
          }
        }
      ],
      "source": [
        "plt.hist(df['co2_boxcox'])"
      ]
    },
    {
      "cell_type": "markdown",
      "id": "24240ef7",
      "metadata": {
        "id": "24240ef7"
      },
      "source": [
        "### Log Transform"
      ]
    },
    {
      "cell_type": "code",
      "execution_count": 12,
      "id": "59b07c52",
      "metadata": {
        "colab": {
          "base_uri": "https://localhost:8080/",
          "height": 455
        },
        "id": "59b07c52",
        "outputId": "d72d1edd-9cc7-4519-b732-fec6fa7efe79"
      },
      "outputs": [
        {
          "output_type": "execute_result",
          "data": {
            "text/plain": [
              "             CO2  co2_boxcox   log_co2\n",
              "Year                                  \n",
              "1800.0   0.00568   -3.094412 -5.170804\n",
              "1801.0   0.00561   -3.098401 -5.183205\n",
              "1802.0   0.00555   -3.101852 -5.193957\n",
              "1803.0   0.00548   -3.105915 -5.206650\n",
              "1804.0   0.00542   -3.109430 -5.217659\n",
              "...          ...         ...       ...\n",
              "2010.0  15.60000    3.767993  2.747271\n",
              "2011.0  15.60000    3.767993  2.747271\n",
              "2012.0  14.80000    3.672451  2.694627\n",
              "2013.0  14.70000    3.660226  2.687847\n",
              "2014.0  15.10000    3.708741  2.714695\n",
              "\n",
              "[215 rows x 3 columns]"
            ],
            "text/html": [
              "\n",
              "  <div id=\"df-ff31a2f5-ec91-4a10-bcb0-8ff1f18840e2\">\n",
              "    <div class=\"colab-df-container\">\n",
              "      <div>\n",
              "<style scoped>\n",
              "    .dataframe tbody tr th:only-of-type {\n",
              "        vertical-align: middle;\n",
              "    }\n",
              "\n",
              "    .dataframe tbody tr th {\n",
              "        vertical-align: top;\n",
              "    }\n",
              "\n",
              "    .dataframe thead th {\n",
              "        text-align: right;\n",
              "    }\n",
              "</style>\n",
              "<table border=\"1\" class=\"dataframe\">\n",
              "  <thead>\n",
              "    <tr style=\"text-align: right;\">\n",
              "      <th></th>\n",
              "      <th>CO2</th>\n",
              "      <th>co2_boxcox</th>\n",
              "      <th>log_co2</th>\n",
              "    </tr>\n",
              "    <tr>\n",
              "      <th>Year</th>\n",
              "      <th></th>\n",
              "      <th></th>\n",
              "      <th></th>\n",
              "    </tr>\n",
              "  </thead>\n",
              "  <tbody>\n",
              "    <tr>\n",
              "      <th>1800.0</th>\n",
              "      <td>0.00568</td>\n",
              "      <td>-3.094412</td>\n",
              "      <td>-5.170804</td>\n",
              "    </tr>\n",
              "    <tr>\n",
              "      <th>1801.0</th>\n",
              "      <td>0.00561</td>\n",
              "      <td>-3.098401</td>\n",
              "      <td>-5.183205</td>\n",
              "    </tr>\n",
              "    <tr>\n",
              "      <th>1802.0</th>\n",
              "      <td>0.00555</td>\n",
              "      <td>-3.101852</td>\n",
              "      <td>-5.193957</td>\n",
              "    </tr>\n",
              "    <tr>\n",
              "      <th>1803.0</th>\n",
              "      <td>0.00548</td>\n",
              "      <td>-3.105915</td>\n",
              "      <td>-5.206650</td>\n",
              "    </tr>\n",
              "    <tr>\n",
              "      <th>1804.0</th>\n",
              "      <td>0.00542</td>\n",
              "      <td>-3.109430</td>\n",
              "      <td>-5.217659</td>\n",
              "    </tr>\n",
              "    <tr>\n",
              "      <th>...</th>\n",
              "      <td>...</td>\n",
              "      <td>...</td>\n",
              "      <td>...</td>\n",
              "    </tr>\n",
              "    <tr>\n",
              "      <th>2010.0</th>\n",
              "      <td>15.60000</td>\n",
              "      <td>3.767993</td>\n",
              "      <td>2.747271</td>\n",
              "    </tr>\n",
              "    <tr>\n",
              "      <th>2011.0</th>\n",
              "      <td>15.60000</td>\n",
              "      <td>3.767993</td>\n",
              "      <td>2.747271</td>\n",
              "    </tr>\n",
              "    <tr>\n",
              "      <th>2012.0</th>\n",
              "      <td>14.80000</td>\n",
              "      <td>3.672451</td>\n",
              "      <td>2.694627</td>\n",
              "    </tr>\n",
              "    <tr>\n",
              "      <th>2013.0</th>\n",
              "      <td>14.70000</td>\n",
              "      <td>3.660226</td>\n",
              "      <td>2.687847</td>\n",
              "    </tr>\n",
              "    <tr>\n",
              "      <th>2014.0</th>\n",
              "      <td>15.10000</td>\n",
              "      <td>3.708741</td>\n",
              "      <td>2.714695</td>\n",
              "    </tr>\n",
              "  </tbody>\n",
              "</table>\n",
              "<p>215 rows × 3 columns</p>\n",
              "</div>\n",
              "      <button class=\"colab-df-convert\" onclick=\"convertToInteractive('df-ff31a2f5-ec91-4a10-bcb0-8ff1f18840e2')\"\n",
              "              title=\"Convert this dataframe to an interactive table.\"\n",
              "              style=\"display:none;\">\n",
              "        \n",
              "  <svg xmlns=\"http://www.w3.org/2000/svg\" height=\"24px\"viewBox=\"0 0 24 24\"\n",
              "       width=\"24px\">\n",
              "    <path d=\"M0 0h24v24H0V0z\" fill=\"none\"/>\n",
              "    <path d=\"M18.56 5.44l.94 2.06.94-2.06 2.06-.94-2.06-.94-.94-2.06-.94 2.06-2.06.94zm-11 1L8.5 8.5l.94-2.06 2.06-.94-2.06-.94L8.5 2.5l-.94 2.06-2.06.94zm10 10l.94 2.06.94-2.06 2.06-.94-2.06-.94-.94-2.06-.94 2.06-2.06.94z\"/><path d=\"M17.41 7.96l-1.37-1.37c-.4-.4-.92-.59-1.43-.59-.52 0-1.04.2-1.43.59L10.3 9.45l-7.72 7.72c-.78.78-.78 2.05 0 2.83L4 21.41c.39.39.9.59 1.41.59.51 0 1.02-.2 1.41-.59l7.78-7.78 2.81-2.81c.8-.78.8-2.07 0-2.86zM5.41 20L4 18.59l7.72-7.72 1.47 1.35L5.41 20z\"/>\n",
              "  </svg>\n",
              "      </button>\n",
              "      \n",
              "  <style>\n",
              "    .colab-df-container {\n",
              "      display:flex;\n",
              "      flex-wrap:wrap;\n",
              "      gap: 12px;\n",
              "    }\n",
              "\n",
              "    .colab-df-convert {\n",
              "      background-color: #E8F0FE;\n",
              "      border: none;\n",
              "      border-radius: 50%;\n",
              "      cursor: pointer;\n",
              "      display: none;\n",
              "      fill: #1967D2;\n",
              "      height: 32px;\n",
              "      padding: 0 0 0 0;\n",
              "      width: 32px;\n",
              "    }\n",
              "\n",
              "    .colab-df-convert:hover {\n",
              "      background-color: #E2EBFA;\n",
              "      box-shadow: 0px 1px 2px rgba(60, 64, 67, 0.3), 0px 1px 3px 1px rgba(60, 64, 67, 0.15);\n",
              "      fill: #174EA6;\n",
              "    }\n",
              "\n",
              "    [theme=dark] .colab-df-convert {\n",
              "      background-color: #3B4455;\n",
              "      fill: #D2E3FC;\n",
              "    }\n",
              "\n",
              "    [theme=dark] .colab-df-convert:hover {\n",
              "      background-color: #434B5C;\n",
              "      box-shadow: 0px 1px 3px 1px rgba(0, 0, 0, 0.15);\n",
              "      filter: drop-shadow(0px 1px 2px rgba(0, 0, 0, 0.3));\n",
              "      fill: #FFFFFF;\n",
              "    }\n",
              "  </style>\n",
              "\n",
              "      <script>\n",
              "        const buttonEl =\n",
              "          document.querySelector('#df-ff31a2f5-ec91-4a10-bcb0-8ff1f18840e2 button.colab-df-convert');\n",
              "        buttonEl.style.display =\n",
              "          google.colab.kernel.accessAllowed ? 'block' : 'none';\n",
              "\n",
              "        async function convertToInteractive(key) {\n",
              "          const element = document.querySelector('#df-ff31a2f5-ec91-4a10-bcb0-8ff1f18840e2');\n",
              "          const dataTable =\n",
              "            await google.colab.kernel.invokeFunction('convertToInteractive',\n",
              "                                                     [key], {});\n",
              "          if (!dataTable) return;\n",
              "\n",
              "          const docLinkHtml = 'Like what you see? Visit the ' +\n",
              "            '<a target=\"_blank\" href=https://colab.research.google.com/notebooks/data_table.ipynb>data table notebook</a>'\n",
              "            + ' to learn more about interactive tables.';\n",
              "          element.innerHTML = '';\n",
              "          dataTable['output_type'] = 'display_data';\n",
              "          await google.colab.output.renderOutput(dataTable, element);\n",
              "          const docLink = document.createElement('div');\n",
              "          docLink.innerHTML = docLinkHtml;\n",
              "          element.appendChild(docLink);\n",
              "        }\n",
              "      </script>\n",
              "    </div>\n",
              "  </div>\n",
              "  "
            ]
          },
          "metadata": {},
          "execution_count": 12
        }
      ],
      "source": [
        "df['log_co2']=pd.Series(np.log(df['CO2']))\n",
        "df"
      ]
    },
    {
      "cell_type": "code",
      "execution_count": 13,
      "id": "eac038c8",
      "metadata": {
        "colab": {
          "base_uri": "https://localhost:8080/",
          "height": 352
        },
        "id": "eac038c8",
        "outputId": "7bdbd9be-4841-4672-a6c0-2c0191e94e73"
      },
      "outputs": [
        {
          "output_type": "execute_result",
          "data": {
            "text/plain": [
              "(array([ 28.,  18.,   6.,   5.,   6.,  11.,   6.,  17.,  18., 100.]),\n",
              " array([-6.34813949, -5.42318338, -4.49822727, -3.57327117, -2.64831506,\n",
              "        -1.72335895, -0.79840284,  0.12655327,  1.05150938,  1.97646549,\n",
              "         2.90142159]),\n",
              " <BarContainer object of 10 artists>)"
            ]
          },
          "metadata": {},
          "execution_count": 13
        },
        {
          "output_type": "display_data",
          "data": {
            "text/plain": [
              "<Figure size 432x288 with 1 Axes>"
            ],
            "image/png": "[encoded data removed]"
          },
          "metadata": {
            "needs_background": "light"
          }
        }
      ],
      "source": [
        "plt.hist(df['log_co2'])"
      ]
    },
    {
      "cell_type": "markdown",
      "id": "f795e54c",
      "metadata": {
        "id": "f795e54c"
      },
      "source": [
        "### Square-root transform"
      ]
    },
    {
      "cell_type": "code",
      "execution_count": 14,
      "id": "8499317a",
      "metadata": {
        "colab": {
          "base_uri": "https://localhost:8080/",
          "height": 455
        },
        "id": "8499317a",
        "outputId": "9cc7f9b3-8013-473a-9281-a42893db341d"
      },
      "outputs": [
        {
          "output_type": "execute_result",
          "data": {
            "text/plain": [
              "             CO2  co2_boxcox   log_co2  square_co2\n",
              "Year                                              \n",
              "1800.0   0.00568   -3.094412 -5.170804    0.075366\n",
              "1801.0   0.00561   -3.098401 -5.183205    0.074900\n",
              "1802.0   0.00555   -3.101852 -5.193957    0.074498\n",
              "1803.0   0.00548   -3.105915 -5.206650    0.074027\n",
              "1804.0   0.00542   -3.109430 -5.217659    0.073621\n",
              "...          ...         ...       ...         ...\n",
              "2010.0  15.60000    3.767993  2.747271    3.949684\n",
              "2011.0  15.60000    3.767993  2.747271    3.949684\n",
              "2012.0  14.80000    3.672451  2.694627    3.847077\n",
              "2013.0  14.70000    3.660226  2.687847    3.834058\n",
              "2014.0  15.10000    3.708741  2.714695    3.885872\n",
              "\n",
              "[215 rows x 4 columns]"
            ],
            "text/html": [
              "\n",
              "  <div id=\"df-2e5a6cd3-1638-40ec-b1c2-16e20ad561bc\">\n",
              "    <div class=\"colab-df-container\">\n",
              "      <div>\n",
              "<style scoped>\n",
              "    .dataframe tbody tr th:only-of-type {\n",
              "        vertical-align: middle;\n",
              "    }\n",
              "\n",
              "    .dataframe tbody tr th {\n",
              "        vertical-align: top;\n",
              "    }\n",
              "\n",
              "    .dataframe thead th {\n",
              "        text-align: right;\n",
              "    }\n",
              "</style>\n",
              "<table border=\"1\" class=\"dataframe\">\n",
              "  <thead>\n",
              "    <tr style=\"text-align: right;\">\n",
              "      <th></th>\n",
              "      <th>CO2</th>\n",
              "      <th>co2_boxcox</th>\n",
              "      <th>log_co2</th>\n",
              "      <th>square_co2</th>\n",
              "    </tr>\n",
              "    <tr>\n",
              "      <th>Year</th>\n",
              "      <th></th>\n",
              "      <th></th>\n",
              "      <th></th>\n",
              "      <th></th>\n",
              "    </tr>\n",
              "  </thead>\n",
              "  <tbody>\n",
              "    <tr>\n",
              "      <th>1800.0</th>\n",
              "      <td>0.00568</td>\n",
              "      <td>-3.094412</td>\n",
              "      <td>-5.170804</td>\n",
              "      <td>0.075366</td>\n",
              "    </tr>\n",
              "    <tr>\n",
              "      <th>1801.0</th>\n",
              "      <td>0.00561</td>\n",
              "      <td>-3.098401</td>\n",
              "      <td>-5.183205</td>\n",
              "      <td>0.074900</td>\n",
              "    </tr>\n",
              "    <tr>\n",
              "      <th>1802.0</th>\n",
              "      <td>0.00555</td>\n",
              "      <td>-3.101852</td>\n",
              "      <td>-5.193957</td>\n",
              "      <td>0.074498</td>\n",
              "    </tr>\n",
              "    <tr>\n",
              "      <th>1803.0</th>\n",
              "      <td>0.00548</td>\n",
              "      <td>-3.105915</td>\n",
              "      <td>-5.206650</td>\n",
              "      <td>0.074027</td>\n",
              "    </tr>\n",
              "    <tr>\n",
              "      <th>1804.0</th>\n",
              "      <td>0.00542</td>\n",
              "      <td>-3.109430</td>\n",
              "      <td>-5.217659</td>\n",
              "      <td>0.073621</td>\n",
              "    </tr>\n",
              "    <tr>\n",
              "      <th>...</th>\n",
              "      <td>...</td>\n",
              "      <td>...</td>\n",
              "      <td>...</td>\n",
              "      <td>...</td>\n",
              "    </tr>\n",
              "    <tr>\n",
              "      <th>2010.0</th>\n",
              "      <td>15.60000</td>\n",
              "      <td>3.767993</td>\n",
              "      <td>2.747271</td>\n",
              "      <td>3.949684</td>\n",
              "    </tr>\n",
              "    <tr>\n",
              "      <th>2011.0</th>\n",
              "      <td>15.60000</td>\n",
              "      <td>3.767993</td>\n",
              "      <td>2.747271</td>\n",
              "      <td>3.949684</td>\n",
              "    </tr>\n",
              "    <tr>\n",
              "      <th>2012.0</th>\n",
              "      <td>14.80000</td>\n",
              "      <td>3.672451</td>\n",
              "      <td>2.694627</td>\n",
              "      <td>3.847077</td>\n",
              "    </tr>\n",
              "    <tr>\n",
              "      <th>2013.0</th>\n",
              "      <td>14.70000</td>\n",
              "      <td>3.660226</td>\n",
              "      <td>2.687847</td>\n",
              "      <td>3.834058</td>\n",
              "    </tr>\n",
              "    <tr>\n",
              "      <th>2014.0</th>\n",
              "      <td>15.10000</td>\n",
              "      <td>3.708741</td>\n",
              "      <td>2.714695</td>\n",
              "      <td>3.885872</td>\n",
              "    </tr>\n",
              "  </tbody>\n",
              "</table>\n",
              "<p>215 rows × 4 columns</p>\n",
              "</div>\n",
              "      <button class=\"colab-df-convert\" onclick=\"convertToInteractive('df-2e5a6cd3-1638-40ec-b1c2-16e20ad561bc')\"\n",
              "              title=\"Convert this dataframe to an interactive table.\"\n",
              "              style=\"display:none;\">\n",
              "        \n",
              "  <svg xmlns=\"http://www.w3.org/2000/svg\" height=\"24px\"viewBox=\"0 0 24 24\"\n",
              "       width=\"24px\">\n",
              "    <path d=\"M0 0h24v24H0V0z\" fill=\"none\"/>\n",
              "    <path d=\"M18.56 5.44l.94 2.06.94-2.06 2.06-.94-2.06-.94-.94-2.06-.94 2.06-2.06.94zm-11 1L8.5 8.5l.94-2.06 2.06-.94-2.06-.94L8.5 2.5l-.94 2.06-2.06.94zm10 10l.94 2.06.94-2.06 2.06-.94-2.06-.94-.94-2.06-.94 2.06-2.06.94z\"/><path d=\"M17.41 7.96l-1.37-1.37c-.4-.4-.92-.59-1.43-.59-.52 0-1.04.2-1.43.59L10.3 9.45l-7.72 7.72c-.78.78-.78 2.05 0 2.83L4 21.41c.39.39.9.59 1.41.59.51 0 1.02-.2 1.41-.59l7.78-7.78 2.81-2.81c.8-.78.8-2.07 0-2.86zM5.41 20L4 18.59l7.72-7.72 1.47 1.35L5.41 20z\"/>\n",
              "  </svg>\n",
              "      </button>\n",
              "      \n",
              "  <style>\n",
              "    .colab-df-container {\n",
              "      display:flex;\n",
              "      flex-wrap:wrap;\n",
              "      gap: 12px;\n",
              "    }\n",
              "\n",
              "    .colab-df-convert {\n",
              "      background-color: #E8F0FE;\n",
              "      border: none;\n",
              "      border-radius: 50%;\n",
              "      cursor: pointer;\n",
              "      display: none;\n",
              "      fill: #1967D2;\n",
              "      height: 32px;\n",
              "      padding: 0 0 0 0;\n",
              "      width: 32px;\n",
              "    }\n",
              "\n",
              "    .colab-df-convert:hover {\n",
              "      background-color: #E2EBFA;\n",
              "      box-shadow: 0px 1px 2px rgba(60, 64, 67, 0.3), 0px 1px 3px 1px rgba(60, 64, 67, 0.15);\n",
              "      fill: #174EA6;\n",
              "    }\n",
              "\n",
              "    [theme=dark] .colab-df-convert {\n",
              "      background-color: #3B4455;\n",
              "      fill: #D2E3FC;\n",
              "    }\n",
              "\n",
              "    [theme=dark] .colab-df-convert:hover {\n",
              "      background-color: #434B5C;\n",
              "      box-shadow: 0px 1px 3px 1px rgba(0, 0, 0, 0.15);\n",
              "      filter: drop-shadow(0px 1px 2px rgba(0, 0, 0, 0.3));\n",
              "      fill: #FFFFFF;\n",
              "    }\n",
              "  </style>\n",
              "\n",
              "      <script>\n",
              "        const buttonEl =\n",
              "          document.querySelector('#df-2e5a6cd3-1638-40ec-b1c2-16e20ad561bc button.colab-df-convert');\n",
              "        buttonEl.style.display =\n",
              "          google.colab.kernel.accessAllowed ? 'block' : 'none';\n",
              "\n",
              "        async function convertToInteractive(key) {\n",
              "          const element = document.querySelector('#df-2e5a6cd3-1638-40ec-b1c2-16e20ad561bc');\n",
              "          const dataTable =\n",
              "            await google.colab.kernel.invokeFunction('convertToInteractive',\n",
              "                                                     [key], {});\n",
              "          if (!dataTable) return;\n",
              "\n",
              "          const docLinkHtml = 'Like what you see? Visit the ' +\n",
              "            '<a target=\"_blank\" href=https://colab.research.google.com/notebooks/data_table.ipynb>data table notebook</a>'\n",
              "            + ' to learn more about interactive tables.';\n",
              "          element.innerHTML = '';\n",
              "          dataTable['output_type'] = 'display_data';\n",
              "          await google.colab.output.renderOutput(dataTable, element);\n",
              "          const docLink = document.createElement('div');\n",
              "          docLink.innerHTML = docLinkHtml;\n",
              "          element.appendChild(docLink);\n",
              "        }\n",
              "      </script>\n",
              "    </div>\n",
              "  </div>\n",
              "  "
            ]
          },
          "metadata": {},
          "execution_count": 14
        }
      ],
      "source": [
        "df['square_co2']=np.sqrt(df['CO2'])\n",
        "df"
      ]
    },
    {
      "cell_type": "code",
      "execution_count": 15,
      "id": "73e469d0",
      "metadata": {
        "colab": {
          "base_uri": "https://localhost:8080/",
          "height": 352
        },
        "id": "73e469d0",
        "outputId": "08382319-c120-4c87-a63b-0e343aba5d6c"
      },
      "outputs": [
        {
          "output_type": "execute_result",
          "data": {
            "text/plain": [
              "(array([65., 15.,  4., 15.,  4.,  7., 20., 33.,  8., 44.]),\n",
              " array([0.041833  , 0.46426428, 0.88669556, 1.30912684, 1.73155812,\n",
              "        2.1539894 , 2.57642068, 2.99885196, 3.42128324, 3.84371452,\n",
              "        4.2661458 ]),\n",
              " <BarContainer object of 10 artists>)"
            ]
          },
          "metadata": {},
          "execution_count": 15
        },
        {
          "output_type": "display_data",
          "data": {
            "text/plain": [
              "<Figure size 432x288 with 1 Axes>"
            ],
            "image/png": "[encoded data removed]"
          },
          "metadata": {
            "needs_background": "light"
          }
        }
      ],
      "source": [
        "plt.hist(df['square_co2'])"
      ]
    },
    {
      "cell_type": "markdown",
      "id": "22784b23",
      "metadata": {
        "id": "22784b23"
      },
      "source": [
        "### Reciprocal Transformation"
      ]
    },
    {
      "cell_type": "code",
      "execution_count": 16,
      "id": "890eaadf",
      "metadata": {
        "colab": {
          "base_uri": "https://localhost:8080/",
          "height": 352
        },
        "id": "890eaadf",
        "outputId": "17db480f-5b05-48cd-992a-af7e4c132118"
      },
      "outputs": [
        {
          "output_type": "execute_result",
          "data": {
            "text/plain": [
              "(array([166.,   3.,   0.,  19.,   8.,   5.,   4.,   3.,   4.,   3.]),\n",
              " array([5.49450549e-02, 5.71923077e+01, 1.14329670e+02, 1.71467033e+02,\n",
              "        2.28604396e+02, 2.85741758e+02, 3.42879121e+02, 4.00016484e+02,\n",
              "        4.57153846e+02, 5.14291209e+02, 5.71428571e+02]),\n",
              " <BarContainer object of 10 artists>)"
            ]
          },
          "metadata": {},
          "execution_count": 16
        },
        {
          "output_type": "display_data",
          "data": {
            "text/plain": [
              "<Figure size 432x288 with 1 Axes>"
            ],
            "image/png": "[encoded data removed]"
          },
          "metadata": {
            "needs_background": "light"
          }
        }
      ],
      "source": [
        "df['rec_co2']=1/df['CO2']\n",
        "plt.hist(df['rec_co2'])"
      ]
    },
    {
      "cell_type": "markdown",
      "id": "3caa00d8",
      "metadata": {
        "id": "3caa00d8"
      },
      "source": [
        "### Exponential Transformation"
      ]
    },
    {
      "cell_type": "code",
      "execution_count": 17,
      "id": "09b8f3be",
      "metadata": {
        "colab": {
          "base_uri": "https://localhost:8080/",
          "height": 455
        },
        "id": "09b8f3be",
        "outputId": "6e38b963-b3b1-41ba-9d8a-377b35478986"
      },
      "outputs": [
        {
          "output_type": "execute_result",
          "data": {
            "text/plain": [
              "             CO2  co2_boxcox   log_co2  square_co2     rec_co2       exp_co2\n",
              "Year                                                                        \n",
              "1800.0   0.00568   -3.094412 -5.170804    0.075366  176.056338  1.005696e+00\n",
              "1801.0   0.00561   -3.098401 -5.183205    0.074900  178.253119  1.005626e+00\n",
              "1802.0   0.00555   -3.101852 -5.193957    0.074498  180.180180  1.005565e+00\n",
              "1803.0   0.00548   -3.105915 -5.206650    0.074027  182.481752  1.005495e+00\n",
              "1804.0   0.00542   -3.109430 -5.217659    0.073621  184.501845  1.005435e+00\n",
              "...          ...         ...       ...         ...         ...           ...\n",
              "2010.0  15.60000    3.767993  2.747271    3.949684    0.064103  5.956538e+06\n",
              "2011.0  15.60000    3.767993  2.747271    3.949684    0.064103  5.956538e+06\n",
              "2012.0  14.80000    3.672451  2.694627    3.847077    0.067568  2.676445e+06\n",
              "2013.0  14.70000    3.660226  2.687847    3.834058    0.068027  2.421748e+06\n",
              "2014.0  15.10000    3.708741  2.714695    3.885872    0.066225  3.612823e+06\n",
              "\n",
              "[215 rows x 6 columns]"
            ],
            "text/html": [
              "\n",
              "  <div id=\"df-023defb4-7c1a-42c4-9e78-a08399c57fbd\">\n",
              "    <div class=\"colab-df-container\">\n",
              "      <div>\n",
              "<style scoped>\n",
              "    .dataframe tbody tr th:only-of-type {\n",
              "        vertical-align: middle;\n",
              "    }\n",
              "\n",
              "    .dataframe tbody tr th {\n",
              "        vertical-align: top;\n",
              "    }\n",
              "\n",
              "    .dataframe thead th {\n",
              "        text-align: right;\n",
              "    }\n",
              "</style>\n",
              "<table border=\"1\" class=\"dataframe\">\n",
              "  <thead>\n",
              "    <tr style=\"text-align: right;\">\n",
              "      <th></th>\n",
              "      <th>CO2</th>\n",
              "      <th>co2_boxcox</th>\n",
              "      <th>log_co2</th>\n",
              "      <th>square_co2</th>\n",
              "      <th>rec_co2</th>\n",
              "      <th>exp_co2</th>\n",
              "    </tr>\n",
              "    <tr>\n",
              "      <th>Year</th>\n",
              "      <th></th>\n",
              "      <th></th>\n",
              "      <th></th>\n",
              "      <th></th>\n",
              "      <th></th>\n",
              "      <th></th>\n",
              "    </tr>\n",
              "  </thead>\n",
              "  <tbody>\n",
              "    <tr>\n",
              "      <th>1800.0</th>\n",
              "      <td>0.00568</td>\n",
              "      <td>-3.094412</td>\n",
              "      <td>-5.170804</td>\n",
              "      <td>0.075366</td>\n",
              "      <td>176.056338</td>\n",
              "      <td>1.005696e+00</td>\n",
              "    </tr>\n",
              "    <tr>\n",
              "      <th>1801.0</th>\n",
              "      <td>0.00561</td>\n",
              "      <td>-3.098401</td>\n",
              "      <td>-5.183205</td>\n",
              "      <td>0.074900</td>\n",
              "      <td>178.253119</td>\n",
              "      <td>1.005626e+00</td>\n",
              "    </tr>\n",
              "    <tr>\n",
              "      <th>1802.0</th>\n",
              "      <td>0.00555</td>\n",
              "      <td>-3.101852</td>\n",
              "      <td>-5.193957</td>\n",
              "      <td>0.074498</td>\n",
              "      <td>180.180180</td>\n",
              "      <td>1.005565e+00</td>\n",
              "    </tr>\n",
              "    <tr>\n",
              "      <th>1803.0</th>\n",
              "      <td>0.00548</td>\n",
              "      <td>-3.105915</td>\n",
              "      <td>-5.206650</td>\n",
              "      <td>0.074027</td>\n",
              "      <td>182.481752</td>\n",
              "      <td>1.005495e+00</td>\n",
              "    </tr>\n",
              "    <tr>\n",
              "      <th>1804.0</th>\n",
              "      <td>0.00542</td>\n",
              "      <td>-3.109430</td>\n",
              "      <td>-5.217659</td>\n",
              "      <td>0.073621</td>\n",
              "      <td>184.501845</td>\n",
              "      <td>1.005435e+00</td>\n",
              "    </tr>\n",
              "    <tr>\n",
              "      <th>...</th>\n",
              "      <td>...</td>\n",
              "      <td>...</td>\n",
              "      <td>...</td>\n",
              "      <td>...</td>\n",
              "      <td>...</td>\n",
              "      <td>...</td>\n",
              "    </tr>\n",
              "    <tr>\n",
              "      <th>2010.0</th>\n",
              "      <td>15.60000</td>\n",
              "      <td>3.767993</td>\n",
              "      <td>2.747271</td>\n",
              "      <td>3.949684</td>\n",
              "      <td>0.064103</td>\n",
              "      <td>5.956538e+06</td>\n",
              "    </tr>\n",
              "    <tr>\n",
              "      <th>2011.0</th>\n",
              "      <td>15.60000</td>\n",
              "      <td>3.767993</td>\n",
              "      <td>2.747271</td>\n",
              "      <td>3.949684</td>\n",
              "      <td>0.064103</td>\n",
              "      <td>5.956538e+06</td>\n",
              "    </tr>\n",
              "    <tr>\n",
              "      <th>2012.0</th>\n",
              "      <td>14.80000</td>\n",
              "      <td>3.672451</td>\n",
              "      <td>2.694627</td>\n",
              "      <td>3.847077</td>\n",
              "      <td>0.067568</td>\n",
              "      <td>2.676445e+06</td>\n",
              "    </tr>\n",
              "    <tr>\n",
              "      <th>2013.0</th>\n",
              "      <td>14.70000</td>\n",
              "      <td>3.660226</td>\n",
              "      <td>2.687847</td>\n",
              "      <td>3.834058</td>\n",
              "      <td>0.068027</td>\n",
              "      <td>2.421748e+06</td>\n",
              "    </tr>\n",
              "    <tr>\n",
              "      <th>2014.0</th>\n",
              "      <td>15.10000</td>\n",
              "      <td>3.708741</td>\n",
              "      <td>2.714695</td>\n",
              "      <td>3.885872</td>\n",
              "      <td>0.066225</td>\n",
              "      <td>3.612823e+06</td>\n",
              "    </tr>\n",
              "  </tbody>\n",
              "</table>\n",
              "<p>215 rows × 6 columns</p>\n",
              "</div>\n",
              "      <button class=\"colab-df-convert\" onclick=\"convertToInteractive('df-023defb4-7c1a-42c4-9e78-a08399c57fbd')\"\n",
              "              title=\"Convert this dataframe to an interactive table.\"\n",
              "              style=\"display:none;\">\n",
              "        \n",
              "  <svg xmlns=\"http://www.w3.org/2000/svg\" height=\"24px\"viewBox=\"0 0 24 24\"\n",
              "       width=\"24px\">\n",
              "    <path d=\"M0 0h24v24H0V0z\" fill=\"none\"/>\n",
              "    <path d=\"M18.56 5.44l.94 2.06.94-2.06 2.06-.94-2.06-.94-.94-2.06-.94 2.06-2.06.94zm-11 1L8.5 8.5l.94-2.06 2.06-.94-2.06-.94L8.5 2.5l-.94 2.06-2.06.94zm10 10l.94 2.06.94-2.06 2.06-.94-2.06-.94-.94-2.06-.94 2.06-2.06.94z\"/><path d=\"M17.41 7.96l-1.37-1.37c-.4-.4-.92-.59-1.43-.59-.52 0-1.04.2-1.43.59L10.3 9.45l-7.72 7.72c-.78.78-.78 2.05 0 2.83L4 21.41c.39.39.9.59 1.41.59.51 0 1.02-.2 1.41-.59l7.78-7.78 2.81-2.81c.8-.78.8-2.07 0-2.86zM5.41 20L4 18.59l7.72-7.72 1.47 1.35L5.41 20z\"/>\n",
              "  </svg>\n",
              "      </button>\n",
              "      \n",
              "  <style>\n",
              "    .colab-df-container {\n",
              "      display:flex;\n",
              "      flex-wrap:wrap;\n",
              "      gap: 12px;\n",
              "    }\n",
              "\n",
              "    .colab-df-convert {\n",
              "      background-color: #E8F0FE;\n",
              "      border: none;\n",
              "      border-radius: 50%;\n",
              "      cursor: pointer;\n",
              "      display: none;\n",
              "      fill: #1967D2;\n",
              "      height: 32px;\n",
              "      padding: 0 0 0 0;\n",
              "      width: 32px;\n",
              "    }\n",
              "\n",
              "    .colab-df-convert:hover {\n",
              "      background-color: #E2EBFA;\n",
              "      box-shadow: 0px 1px 2px rgba(60, 64, 67, 0.3), 0px 1px 3px 1px rgba(60, 64, 67, 0.15);\n",
              "      fill: #174EA6;\n",
              "    }\n",
              "\n",
              "    [theme=dark] .colab-df-convert {\n",
              "      background-color: #3B4455;\n",
              "      fill: #D2E3FC;\n",
              "    }\n",
              "\n",
              "    [theme=dark] .colab-df-convert:hover {\n",
              "      background-color: #434B5C;\n",
              "      box-shadow: 0px 1px 3px 1px rgba(0, 0, 0, 0.15);\n",
              "      filter: drop-shadow(0px 1px 2px rgba(0, 0, 0, 0.3));\n",
              "      fill: #FFFFFF;\n",
              "    }\n",
              "  </style>\n",
              "\n",
              "      <script>\n",
              "        const buttonEl =\n",
              "          document.querySelector('#df-023defb4-7c1a-42c4-9e78-a08399c57fbd button.colab-df-convert');\n",
              "        buttonEl.style.display =\n",
              "          google.colab.kernel.accessAllowed ? 'block' : 'none';\n",
              "\n",
              "        async function convertToInteractive(key) {\n",
              "          const element = document.querySelector('#df-023defb4-7c1a-42c4-9e78-a08399c57fbd');\n",
              "          const dataTable =\n",
              "            await google.colab.kernel.invokeFunction('convertToInteractive',\n",
              "                                                     [key], {});\n",
              "          if (!dataTable) return;\n",
              "\n",
              "          const docLinkHtml = 'Like what you see? Visit the ' +\n",
              "            '<a target=\"_blank\" href=https://colab.research.google.com/notebooks/data_table.ipynb>data table notebook</a>'\n",
              "            + ' to learn more about interactive tables.';\n",
              "          element.innerHTML = '';\n",
              "          dataTable['output_type'] = 'display_data';\n",
              "          await google.colab.output.renderOutput(dataTable, element);\n",
              "          const docLink = document.createElement('div');\n",
              "          docLink.innerHTML = docLinkHtml;\n",
              "          element.appendChild(docLink);\n",
              "        }\n",
              "      </script>\n",
              "    </div>\n",
              "  </div>\n",
              "  "
            ]
          },
          "metadata": {},
          "execution_count": 17
        }
      ],
      "source": [
        "df['exp_co2']=np.exp(df['CO2'])\n",
        "df"
      ]
    },
    {
      "cell_type": "code",
      "execution_count": 18,
      "id": "d91e7b03",
      "metadata": {
        "colab": {
          "base_uri": "https://localhost:8080/",
          "height": 365
        },
        "id": "d91e7b03",
        "outputId": "e2dd8422-9dbd-41c7-d723-8e0b92d879d0"
      },
      "outputs": [
        {
          "output_type": "execute_result",
          "data": {
            "text/plain": [
              "(array([181.,   8.,  10.,   8.,   6.,   0.,   0.,   0.,   0.,   2.]),\n",
              " array([1.00175153e+00, 8.01972764e+06, 1.60394543e+07, 2.40591809e+07,\n",
              "        3.20789076e+07, 4.00986342e+07, 4.81183608e+07, 5.61380875e+07,\n",
              "        6.41578141e+07, 7.21775408e+07, 8.01972674e+07]),\n",
              " <BarContainer object of 10 artists>)"
            ]
          },
          "metadata": {},
          "execution_count": 18
        },
        {
          "output_type": "display_data",
          "data": {
            "text/plain": [
              "<Figure size 432x288 with 1 Axes>"
            ],
            "image/png": "[encoded data removed]"
          },
          "metadata": {
            "needs_background": "light"
          }
        }
      ],
      "source": [
        "plt.hist(df['exp_co2'])"
      ]
    },
    {
      "cell_type": "code",
      "execution_count": 19,
      "id": "a442f428",
      "metadata": {
        "colab": {
          "base_uri": "https://localhost:8080/",
          "height": 398
        },
        "id": "a442f428",
        "outputId": "9d7330ec-8f53-4327-be25-9e71ecb507dd"
      },
      "outputs": [
        {
          "output_type": "execute_result",
          "data": {
            "text/plain": [
              "array([[<AxesSubplot:title={'center':'CO2'}>,\n",
              "        <AxesSubplot:title={'center':'co2_boxcox'}>],\n",
              "       [<AxesSubplot:title={'center':'log_co2'}>,\n",
              "        <AxesSubplot:title={'center':'square_co2'}>],\n",
              "       [<AxesSubplot:title={'center':'rec_co2'}>,\n",
              "        <AxesSubplot:title={'center':'exp_co2'}>]], dtype=object)"
            ]
          },
          "metadata": {},
          "execution_count": 19
        },
        {
          "output_type": "display_data",
          "data": {
            "text/plain": [
              "<Figure size 432x288 with 6 Axes>"
            ],
            "image/png": "[encoded data removed]"
          },
          "metadata": {
            "needs_background": "light"
          }
        }
      ],
      "source": [
        "df.hist()"
      ]
    },
    {
      "cell_type": "markdown",
      "id": "26c0f453",
      "metadata": {
        "id": "26c0f453"
      },
      "source": [
        "#### Since we did not get any conclusive evidence of being normal distribution. We have decided to move on without transforming it to normal distribution."
      ]
    },
    {
      "cell_type": "code",
      "execution_count": 20,
      "id": "9e97c7c7",
      "metadata": {
        "colab": {
          "base_uri": "https://localhost:8080/",
          "height": 455
        },
        "id": "9e97c7c7",
        "outputId": "ca49161d-aeee-41c0-ccb9-a1528ae62be7"
      },
      "outputs": [
        {
          "output_type": "execute_result",
          "data": {
            "text/plain": [
              "             CO2\n",
              "Year            \n",
              "1800.0   0.00568\n",
              "1801.0   0.00561\n",
              "1802.0   0.00555\n",
              "1803.0   0.00548\n",
              "1804.0   0.00542\n",
              "...          ...\n",
              "2010.0  15.60000\n",
              "2011.0  15.60000\n",
              "2012.0  14.80000\n",
              "2013.0  14.70000\n",
              "2014.0  15.10000\n",
              "\n",
              "[215 rows x 1 columns]"
            ],
            "text/html": [
              "\n",
              "  <div id=\"df-119d785f-ac1b-49cb-bc2b-e827b4004759\">\n",
              "    <div class=\"colab-df-container\">\n",
              "      <div>\n",
              "<style scoped>\n",
              "    .dataframe tbody tr th:only-of-type {\n",
              "        vertical-align: middle;\n",
              "    }\n",
              "\n",
              "    .dataframe tbody tr th {\n",
              "        vertical-align: top;\n",
              "    }\n",
              "\n",
              "    .dataframe thead th {\n",
              "        text-align: right;\n",
              "    }\n",
              "</style>\n",
              "<table border=\"1\" class=\"dataframe\">\n",
              "  <thead>\n",
              "    <tr style=\"text-align: right;\">\n",
              "      <th></th>\n",
              "      <th>CO2</th>\n",
              "    </tr>\n",
              "    <tr>\n",
              "      <th>Year</th>\n",
              "      <th></th>\n",
              "    </tr>\n",
              "  </thead>\n",
              "  <tbody>\n",
              "    <tr>\n",
              "      <th>1800.0</th>\n",
              "      <td>0.00568</td>\n",
              "    </tr>\n",
              "    <tr>\n",
              "      <th>1801.0</th>\n",
              "      <td>0.00561</td>\n",
              "    </tr>\n",
              "    <tr>\n",
              "      <th>1802.0</th>\n",
              "      <td>0.00555</td>\n",
              "    </tr>\n",
              "    <tr>\n",
              "      <th>1803.0</th>\n",
              "      <td>0.00548</td>\n",
              "    </tr>\n",
              "    <tr>\n",
              "      <th>1804.0</th>\n",
              "      <td>0.00542</td>\n",
              "    </tr>\n",
              "    <tr>\n",
              "      <th>...</th>\n",
              "      <td>...</td>\n",
              "    </tr>\n",
              "    <tr>\n",
              "      <th>2010.0</th>\n",
              "      <td>15.60000</td>\n",
              "    </tr>\n",
              "    <tr>\n",
              "      <th>2011.0</th>\n",
              "      <td>15.60000</td>\n",
              "    </tr>\n",
              "    <tr>\n",
              "      <th>2012.0</th>\n",
              "      <td>14.80000</td>\n",
              "    </tr>\n",
              "    <tr>\n",
              "      <th>2013.0</th>\n",
              "      <td>14.70000</td>\n",
              "    </tr>\n",
              "    <tr>\n",
              "      <th>2014.0</th>\n",
              "      <td>15.10000</td>\n",
              "    </tr>\n",
              "  </tbody>\n",
              "</table>\n",
              "<p>215 rows × 1 columns</p>\n",
              "</div>\n",
              "      <button class=\"colab-df-convert\" onclick=\"convertToInteractive('df-119d785f-ac1b-49cb-bc2b-e827b4004759')\"\n",
              "              title=\"Convert this dataframe to an interactive table.\"\n",
              "              style=\"display:none;\">\n",
              "        \n",
              "  <svg xmlns=\"http://www.w3.org/2000/svg\" height=\"24px\"viewBox=\"0 0 24 24\"\n",
              "       width=\"24px\">\n",
              "    <path d=\"M0 0h24v24H0V0z\" fill=\"none\"/>\n",
              "    <path d=\"M18.56 5.44l.94 2.06.94-2.06 2.06-.94-2.06-.94-.94-2.06-.94 2.06-2.06.94zm-11 1L8.5 8.5l.94-2.06 2.06-.94-2.06-.94L8.5 2.5l-.94 2.06-2.06.94zm10 10l.94 2.06.94-2.06 2.06-.94-2.06-.94-.94-2.06-.94 2.06-2.06.94z\"/><path d=\"M17.41 7.96l-1.37-1.37c-.4-.4-.92-.59-1.43-.59-.52 0-1.04.2-1.43.59L10.3 9.45l-7.72 7.72c-.78.78-.78 2.05 0 2.83L4 21.41c.39.39.9.59 1.41.59.51 0 1.02-.2 1.41-.59l7.78-7.78 2.81-2.81c.8-.78.8-2.07 0-2.86zM5.41 20L4 18.59l7.72-7.72 1.47 1.35L5.41 20z\"/>\n",
              "  </svg>\n",
              "      </button>\n",
              "      \n",
              "  <style>\n",
              "    .colab-df-container {\n",
              "      display:flex;\n",
              "      flex-wrap:wrap;\n",
              "      gap: 12px;\n",
              "    }\n",
              "\n",
              "    .colab-df-convert {\n",
              "      background-color: #E8F0FE;\n",
              "      border: none;\n",
              "      border-radius: 50%;\n",
              "      cursor: pointer;\n",
              "      display: none;\n",
              "      fill: #1967D2;\n",
              "      height: 32px;\n",
              "      padding: 0 0 0 0;\n",
              "      width: 32px;\n",
              "    }\n",
              "\n",
              "    .colab-df-convert:hover {\n",
              "      background-color: #E2EBFA;\n",
              "      box-shadow: 0px 1px 2px rgba(60, 64, 67, 0.3), 0px 1px 3px 1px rgba(60, 64, 67, 0.15);\n",
              "      fill: #174EA6;\n",
              "    }\n",
              "\n",
              "    [theme=dark] .colab-df-convert {\n",
              "      background-color: #3B4455;\n",
              "      fill: #D2E3FC;\n",
              "    }\n",
              "\n",
              "    [theme=dark] .colab-df-convert:hover {\n",
              "      background-color: #434B5C;\n",
              "      box-shadow: 0px 1px 3px 1px rgba(0, 0, 0, 0.15);\n",
              "      filter: drop-shadow(0px 1px 2px rgba(0, 0, 0, 0.3));\n",
              "      fill: #FFFFFF;\n",
              "    }\n",
              "  </style>\n",
              "\n",
              "      <script>\n",
              "        const buttonEl =\n",
              "          document.querySelector('#df-119d785f-ac1b-49cb-bc2b-e827b4004759 button.colab-df-convert');\n",
              "        buttonEl.style.display =\n",
              "          google.colab.kernel.accessAllowed ? 'block' : 'none';\n",
              "\n",
              "        async function convertToInteractive(key) {\n",
              "          const element = document.querySelector('#df-119d785f-ac1b-49cb-bc2b-e827b4004759');\n",
              "          const dataTable =\n",
              "            await google.colab.kernel.invokeFunction('convertToInteractive',\n",
              "                                                     [key], {});\n",
              "          if (!dataTable) return;\n",
              "\n",
              "          const docLinkHtml = 'Like what you see? Visit the ' +\n",
              "            '<a target=\"_blank\" href=https://colab.research.google.com/notebooks/data_table.ipynb>data table notebook</a>'\n",
              "            + ' to learn more about interactive tables.';\n",
              "          element.innerHTML = '';\n",
              "          dataTable['output_type'] = 'display_data';\n",
              "          await google.colab.output.renderOutput(dataTable, element);\n",
              "          const docLink = document.createElement('div');\n",
              "          docLink.innerHTML = docLinkHtml;\n",
              "          element.appendChild(docLink);\n",
              "        }\n",
              "      </script>\n",
              "    </div>\n",
              "  </div>\n",
              "  "
            ]
          },
          "metadata": {},
          "execution_count": 20
        }
      ],
      "source": [
        "df=df.drop(['co2_boxcox','log_co2','square_co2','rec_co2','exp_co2'],axis=1)\n",
        "df\n"
      ]
    },
    {
      "cell_type": "code",
      "execution_count": 21,
      "id": "0aff718a",
      "metadata": {
        "colab": {
          "base_uri": "https://localhost:8080/",
          "height": 296
        },
        "id": "0aff718a",
        "outputId": "93e9ef73-a405-4566-8522-6252e75f7118"
      },
      "outputs": [
        {
          "output_type": "execute_result",
          "data": {
            "text/plain": [
              "<AxesSubplot:xlabel='Year'>"
            ]
          },
          "metadata": {},
          "execution_count": 21
        },
        {
          "output_type": "display_data",
          "data": {
            "text/plain": [
              "<Figure size 432x288 with 1 Axes>"
            ],
            "image/png": "[encoded data removed]"
          },
          "metadata": {
            "needs_background": "light"
          }
        }
      ],
      "source": [
        "df.plot()"
      ]
    },
    {
      "cell_type": "markdown",
      "id": "12d8c0f7",
      "metadata": {
        "id": "12d8c0f7"
      },
      "source": [
        "# Data Preprocessing\n"
      ]
    },
    {
      "cell_type": "code",
      "execution_count": 22,
      "id": "eccd4b9b",
      "metadata": {
        "colab": {
          "base_uri": "https://localhost:8080/"
        },
        "id": "eccd4b9b",
        "outputId": "250e2dfb-fb4b-4479-ed45-2c88f675097d"
      },
      "outputs": [
        {
          "output_type": "stream",
          "name": "stdout",
          "text": [
            "mean1=0.888644, mean2=12.650000\n",
            "variance1=2.399437, variance2=13.176064\n"
          ]
        }
      ],
      "source": [
        "X=df.values\n",
        "split=round(len(X)/2)\n",
        "X1,X2=X[0:split],X[split:]\n",
        "mean1,mean2=X1.mean(),X2.mean()\n",
        "var1,var2=X1.var(),X2.var()\n",
        "print('mean1=%f, mean2=%f' % (mean1, mean2))\n",
        "print('variance1=%f, variance2=%f' % (var1, var2))"
      ]
    },
    {
      "cell_type": "code",
      "execution_count": 23,
      "id": "18b395ab",
      "metadata": {
        "id": "18b395ab"
      },
      "outputs": [],
      "source": [
        "def TestStationaryPlot(df):\n",
        "    rol_mean = df.rolling(window = 20, center = False).mean()\n",
        "    rol_std = df.rolling(window = 20, center = False).std()\n",
        "    \n",
        "    plt.plot(df, color = 'blue',label = 'Original Data')\n",
        "    plt.plot(rol_mean, color = 'red', label = 'Rolling Mean')\n",
        "    plt.plot(rol_std, color ='black', label = 'Rolling Std')\n",
        "    plt.xticks(fontsize = 10)\n",
        "    plt.yticks(fontsize = 10)\n",
        "    \n",
        "    plt.xlabel('Time in Years', fontsize = 10)\n",
        "    plt.ylabel('Total Emissions', fontsize = 10)\n",
        "    plt.legend(loc='best', fontsize = 10)\n",
        "    plt.title('Rolling Mean & Standard Deviation', fontsize = 10)\n",
        "    plt.show(block= True)"
      ]
    },
    {
      "cell_type": "markdown",
      "id": "709315d9",
      "metadata": {
        "id": "709315d9"
      },
      "source": [
        "###  null Hypothesis : Data is stationary\n",
        "### alternate hypothesis : Data is not stationary"
      ]
    },
    {
      "cell_type": "code",
      "execution_count": 24,
      "id": "ef62d808",
      "metadata": {
        "id": "ef62d808"
      },
      "outputs": [],
      "source": [
        "def TestStationaryAdfuller(df, cutoff = 0.01):\n",
        "    df_test = adfuller(df, autolag = 'AIC')\n",
        "    df_test_output = pd.Series(df_test[0:4], index=['Test Statistic','p-value','#Lags Used','Number of Observations Used'])\n",
        "    \n",
        "    for key,value in df_test[4].items():\n",
        "        df_test_output['Critical Value (%s)'%key] = value\n",
        "    print(df_test_output)\n",
        "    \n",
        "    if df_test[1] <= cutoff:\n",
        "        print(\"Failed to reject null hypothesis. Data is stationary\")\n",
        "    else:\n",
        "        print(\"Failed to accept null hypothesis. Data is non-stationary \")"
      ]
    },
    {
      "cell_type": "code",
      "execution_count": 25,
      "id": "72949b5b",
      "metadata": {
        "colab": {
          "base_uri": "https://localhost:8080/",
          "height": 293
        },
        "id": "72949b5b",
        "outputId": "ac93b7d9-8a90-468c-c392-a90710cfe1a3"
      },
      "outputs": [
        {
          "output_type": "display_data",
          "data": {
            "text/plain": [
              "<Figure size 432x288 with 1 Axes>"
            ],
            "image/png": "[encoded data removed]"
          },
          "metadata": {
            "needs_background": "light"
          }
        }
      ],
      "source": [
        "TestStationaryPlot(df)"
      ]
    },
    {
      "cell_type": "code",
      "execution_count": 26,
      "id": "e40f1b94",
      "metadata": {
        "colab": {
          "base_uri": "https://localhost:8080/"
        },
        "id": "e40f1b94",
        "outputId": "caee1c76-1f6e-4101-f5ff-9e474ff3a171"
      },
      "outputs": [
        {
          "output_type": "stream",
          "name": "stdout",
          "text": [
            "Test Statistic                  -0.378463\n",
            "p-value                          0.913633\n",
            "#Lags Used                       0.000000\n",
            "Number of Observations Used    214.000000\n",
            "Critical Value (1%)             -3.461282\n",
            "Critical Value (5%)             -2.875143\n",
            "Critical Value (10%)            -2.574020\n",
            "dtype: float64\n",
            "Failed to accept null hypothesis. Data is non-stationary \n"
          ]
        }
      ],
      "source": [
        "TestStationaryAdfuller(df)"
      ]
    },
    {
      "cell_type": "markdown",
      "id": "68948d72",
      "metadata": {
        "id": "68948d72"
      },
      "source": [
        "### Transforming data to Stationary by using moving average, differencing and decompostion"
      ]
    },
    {
      "cell_type": "markdown",
      "id": "992d5a12",
      "metadata": {
        "id": "992d5a12"
      },
      "source": [
        "### Moving Average"
      ]
    },
    {
      "cell_type": "code",
      "execution_count": 27,
      "id": "6a8bc9f0",
      "metadata": {
        "colab": {
          "base_uri": "https://localhost:8080/",
          "height": 293
        },
        "id": "6a8bc9f0",
        "outputId": "90638832-c275-4e46-c093-974fb1b85b26"
      },
      "outputs": [
        {
          "output_type": "display_data",
          "data": {
            "text/plain": [
              "<Figure size 432x288 with 1 Axes>"
            ],
            "image/png": "[encoded data removed]"
          },
          "metadata": {
            "needs_background": "light"
          }
        }
      ],
      "source": [
        "moving_avg = df.rolling(5).mean()\n",
        "plt.plot(df)\n",
        "plt.plot(moving_avg, color='red')\n",
        "plt.xticks(fontsize = 10)\n",
        "plt.yticks(fontsize = 10)\n",
        "plt.xlabel('Time (years)', fontsize = 10)\n",
        "plt.ylabel('CO2 Emission (MMT)', fontsize = 10)\n",
        "plt.title('CO2 emission', fontsize = 10)\n",
        "plt.show()"
      ]
    },
    {
      "cell_type": "code",
      "execution_count": 28,
      "id": "41df70db",
      "metadata": {
        "colab": {
          "base_uri": "https://localhost:8080/",
          "height": 708
        },
        "id": "41df70db",
        "outputId": "b9886f19-fdf1-494c-92cd-c7aad8ceb792"
      },
      "outputs": [
        {
          "output_type": "execute_result",
          "data": {
            "text/plain": [
              "             CO2\n",
              "Year            \n",
              "1800.0       NaN\n",
              "1801.0       NaN\n",
              "1802.0       NaN\n",
              "1803.0       NaN\n",
              "1804.0 -0.000128\n",
              "1805.0 -0.000124\n",
              "1806.0 -0.000130\n",
              "1807.0 -0.000126\n",
              "1808.0 -0.000124\n",
              "1809.0 -0.000122\n",
              "1810.0 -0.000128\n",
              "1811.0 -0.000134\n",
              "1812.0 -0.000138\n",
              "1813.0 -0.000140\n",
              "1814.0 -0.000148\n",
              "1815.0 -0.000162\n",
              "1816.0 -0.000172\n",
              "1817.0 -0.000186\n",
              "1818.0 -0.000186\n",
              "1819.0 -0.000200"
            ],
            "text/html": [
              "\n",
              "  <div id=\"df-e7f0e7bf-83a3-4b5f-86d8-e473a776829e\">\n",
              "    <div class=\"colab-df-container\">\n",
              "      <div>\n",
              "<style scoped>\n",
              "    .dataframe tbody tr th:only-of-type {\n",
              "        vertical-align: middle;\n",
              "    }\n",
              "\n",
              "    .dataframe tbody tr th {\n",
              "        vertical-align: top;\n",
              "    }\n",
              "\n",
              "    .dataframe thead th {\n",
              "        text-align: right;\n",
              "    }\n",
              "</style>\n",
              "<table border=\"1\" class=\"dataframe\">\n",
              "  <thead>\n",
              "    <tr style=\"text-align: right;\">\n",
              "      <th></th>\n",
              "      <th>CO2</th>\n",
              "    </tr>\n",
              "    <tr>\n",
              "      <th>Year</th>\n",
              "      <th></th>\n",
              "    </tr>\n",
              "  </thead>\n",
              "  <tbody>\n",
              "    <tr>\n",
              "      <th>1800.0</th>\n",
              "      <td>NaN</td>\n",
              "    </tr>\n",
              "    <tr>\n",
              "      <th>1801.0</th>\n",
              "      <td>NaN</td>\n",
              "    </tr>\n",
              "    <tr>\n",
              "      <th>1802.0</th>\n",
              "      <td>NaN</td>\n",
              "    </tr>\n",
              "    <tr>\n",
              "      <th>1803.0</th>\n",
              "      <td>NaN</td>\n",
              "    </tr>\n",
              "    <tr>\n",
              "      <th>1804.0</th>\n",
              "      <td>-0.000128</td>\n",
              "    </tr>\n",
              "    <tr>\n",
              "      <th>1805.0</th>\n",
              "      <td>-0.000124</td>\n",
              "    </tr>\n",
              "    <tr>\n",
              "      <th>1806.0</th>\n",
              "      <td>-0.000130</td>\n",
              "    </tr>\n",
              "    <tr>\n",
              "      <th>1807.0</th>\n",
              "      <td>-0.000126</td>\n",
              "    </tr>\n",
              "    <tr>\n",
              "      <th>1808.0</th>\n",
              "      <td>-0.000124</td>\n",
              "    </tr>\n",
              "    <tr>\n",
              "      <th>1809.0</th>\n",
              "      <td>-0.000122</td>\n",
              "    </tr>\n",
              "    <tr>\n",
              "      <th>1810.0</th>\n",
              "      <td>-0.000128</td>\n",
              "    </tr>\n",
              "    <tr>\n",
              "      <th>1811.0</th>\n",
              "      <td>-0.000134</td>\n",
              "    </tr>\n",
              "    <tr>\n",
              "      <th>1812.0</th>\n",
              "      <td>-0.000138</td>\n",
              "    </tr>\n",
              "    <tr>\n",
              "      <th>1813.0</th>\n",
              "      <td>-0.000140</td>\n",
              "    </tr>\n",
              "    <tr>\n",
              "      <th>1814.0</th>\n",
              "      <td>-0.000148</td>\n",
              "    </tr>\n",
              "    <tr>\n",
              "      <th>1815.0</th>\n",
              "      <td>-0.000162</td>\n",
              "    </tr>\n",
              "    <tr>\n",
              "      <th>1816.0</th>\n",
              "      <td>-0.000172</td>\n",
              "    </tr>\n",
              "    <tr>\n",
              "      <th>1817.0</th>\n",
              "      <td>-0.000186</td>\n",
              "    </tr>\n",
              "    <tr>\n",
              "      <th>1818.0</th>\n",
              "      <td>-0.000186</td>\n",
              "    </tr>\n",
              "    <tr>\n",
              "      <th>1819.0</th>\n",
              "      <td>-0.000200</td>\n",
              "    </tr>\n",
              "  </tbody>\n",
              "</table>\n",
              "</div>\n",
              "      <button class=\"colab-df-convert\" onclick=\"convertToInteractive('df-e7f0e7bf-83a3-4b5f-86d8-e473a776829e')\"\n",
              "              title=\"Convert this dataframe to an interactive table.\"\n",
              "              style=\"display:none;\">\n",
              "        \n",
              "  <svg xmlns=\"http://www.w3.org/2000/svg\" height=\"24px\"viewBox=\"0 0 24 24\"\n",
              "       width=\"24px\">\n",
              "    <path d=\"M0 0h24v24H0V0z\" fill=\"none\"/>\n",
              "    <path d=\"M18.56 5.44l.94 2.06.94-2.06 2.06-.94-2.06-.94-.94-2.06-.94 2.06-2.06.94zm-11 1L8.5 8.5l.94-2.06 2.06-.94-2.06-.94L8.5 2.5l-.94 2.06-2.06.94zm10 10l.94 2.06.94-2.06 2.06-.94-2.06-.94-.94-2.06-.94 2.06-2.06.94z\"/><path d=\"M17.41 7.96l-1.37-1.37c-.4-.4-.92-.59-1.43-.59-.52 0-1.04.2-1.43.59L10.3 9.45l-7.72 7.72c-.78.78-.78 2.05 0 2.83L4 21.41c.39.39.9.59 1.41.59.51 0 1.02-.2 1.41-.59l7.78-7.78 2.81-2.81c.8-.78.8-2.07 0-2.86zM5.41 20L4 18.59l7.72-7.72 1.47 1.35L5.41 20z\"/>\n",
              "  </svg>\n",
              "      </button>\n",
              "      \n",
              "  <style>\n",
              "    .colab-df-container {\n",
              "      display:flex;\n",
              "      flex-wrap:wrap;\n",
              "      gap: 12px;\n",
              "    }\n",
              "\n",
              "    .colab-df-convert {\n",
              "      background-color: #E8F0FE;\n",
              "      border: none;\n",
              "      border-radius: 50%;\n",
              "      cursor: pointer;\n",
              "      display: none;\n",
              "      fill: #1967D2;\n",
              "      height: 32px;\n",
              "      padding: 0 0 0 0;\n",
              "      width: 32px;\n",
              "    }\n",
              "\n",
              "    .colab-df-convert:hover {\n",
              "      background-color: #E2EBFA;\n",
              "      box-shadow: 0px 1px 2px rgba(60, 64, 67, 0.3), 0px 1px 3px 1px rgba(60, 64, 67, 0.15);\n",
              "      fill: #174EA6;\n",
              "    }\n",
              "\n",
              "    [theme=dark] .colab-df-convert {\n",
              "      background-color: #3B4455;\n",
              "      fill: #D2E3FC;\n",
              "    }\n",
              "\n",
              "    [theme=dark] .colab-df-convert:hover {\n",
              "      background-color: #434B5C;\n",
              "      box-shadow: 0px 1px 3px 1px rgba(0, 0, 0, 0.15);\n",
              "      filter: drop-shadow(0px 1px 2px rgba(0, 0, 0, 0.3));\n",
              "      fill: #FFFFFF;\n",
              "    }\n",
              "  </style>\n",
              "\n",
              "      <script>\n",
              "        const buttonEl =\n",
              "          document.querySelector('#df-e7f0e7bf-83a3-4b5f-86d8-e473a776829e button.colab-df-convert');\n",
              "        buttonEl.style.display =\n",
              "          google.colab.kernel.accessAllowed ? 'block' : 'none';\n",
              "\n",
              "        async function convertToInteractive(key) {\n",
              "          const element = document.querySelector('#df-e7f0e7bf-83a3-4b5f-86d8-e473a776829e');\n",
              "          const dataTable =\n",
              "            await google.colab.kernel.invokeFunction('convertToInteractive',\n",
              "                                                     [key], {});\n",
              "          if (!dataTable) return;\n",
              "\n",
              "          const docLinkHtml = 'Like what you see? Visit the ' +\n",
              "            '<a target=\"_blank\" href=https://colab.research.google.com/notebooks/data_table.ipynb>data table notebook</a>'\n",
              "            + ' to learn more about interactive tables.';\n",
              "          element.innerHTML = '';\n",
              "          dataTable['output_type'] = 'display_data';\n",
              "          await google.colab.output.renderOutput(dataTable, element);\n",
              "          const docLink = document.createElement('div');\n",
              "          docLink.innerHTML = docLinkHtml;\n",
              "          element.appendChild(docLink);\n",
              "        }\n",
              "      </script>\n",
              "    </div>\n",
              "  </div>\n",
              "  "
            ]
          },
          "metadata": {},
          "execution_count": 28
        }
      ],
      "source": [
        "moving_avg_diff = df - moving_avg\n",
        "moving_avg_diff.head(20)"
      ]
    },
    {
      "cell_type": "code",
      "execution_count": 29,
      "id": "242125c4",
      "metadata": {
        "colab": {
          "base_uri": "https://localhost:8080/",
          "height": 293
        },
        "id": "242125c4",
        "outputId": "03bdeb25-56c4-457e-ab7e-8d2e20e0caf2"
      },
      "outputs": [
        {
          "output_type": "display_data",
          "data": {
            "text/plain": [
              "<Figure size 432x288 with 1 Axes>"
            ],
            "image/png": "[encoded data removed]"
          },
          "metadata": {
            "needs_background": "light"
          }
        }
      ],
      "source": [
        "moving_avg_diff.dropna(inplace=True)\n",
        "TestStationaryPlot(moving_avg_diff)"
      ]
    },
    {
      "cell_type": "code",
      "execution_count": 30,
      "id": "fb90462b",
      "metadata": {
        "colab": {
          "base_uri": "https://localhost:8080/"
        },
        "id": "fb90462b",
        "outputId": "d50fe411-3908-4714-f8cb-4d9d39a181dd"
      },
      "outputs": [
        {
          "output_type": "stream",
          "name": "stdout",
          "text": [
            "Test Statistic                  -3.944115\n",
            "p-value                          0.001733\n",
            "#Lags Used                       4.000000\n",
            "Number of Observations Used    206.000000\n",
            "Critical Value (1%)             -3.462499\n",
            "Critical Value (5%)             -2.875675\n",
            "Critical Value (10%)            -2.574304\n",
            "dtype: float64\n",
            "Failed to reject null hypothesis. Data is stationary\n"
          ]
        }
      ],
      "source": [
        "TestStationaryAdfuller(moving_avg_diff)"
      ]
    },
    {
      "cell_type": "markdown",
      "id": "8a98ef4c",
      "metadata": {
        "id": "8a98ef4c"
      },
      "source": [
        "### First order differencing"
      ]
    },
    {
      "cell_type": "code",
      "execution_count": 31,
      "id": "64e08fe0",
      "metadata": {
        "colab": {
          "base_uri": "https://localhost:8080/",
          "height": 293
        },
        "id": "64e08fe0",
        "outputId": "daa16893-ba4f-4e45-c01b-75081d0cf6ba"
      },
      "outputs": [
        {
          "output_type": "display_data",
          "data": {
            "text/plain": [
              "<Figure size 432x288 with 1 Axes>"
            ],
            "image/png": "[encoded data removed]"
          },
          "metadata": {
            "needs_background": "light"
          }
        }
      ],
      "source": [
        "df_first_difference = df - df.shift(1)  \n",
        "TestStationaryPlot(df_first_difference.dropna(inplace=False))"
      ]
    },
    {
      "cell_type": "code",
      "execution_count": 32,
      "id": "4ea42fef",
      "metadata": {
        "colab": {
          "base_uri": "https://localhost:8080/"
        },
        "id": "4ea42fef",
        "outputId": "d8432fe5-2d22-4737-83fc-420f17d270dc"
      },
      "outputs": [
        {
          "output_type": "stream",
          "name": "stdout",
          "text": [
            "Test Statistic                  -3.780005\n",
            "p-value                          0.003119\n",
            "#Lags Used                      15.000000\n",
            "Number of Observations Used    198.000000\n",
            "Critical Value (1%)             -3.463815\n",
            "Critical Value (5%)             -2.876251\n",
            "Critical Value (10%)            -2.574611\n",
            "dtype: float64\n",
            "Failed to reject null hypothesis. Data is stationary\n"
          ]
        }
      ],
      "source": [
        "TestStationaryAdfuller(df_first_difference.dropna(inplace=False))"
      ]
    },
    {
      "cell_type": "markdown",
      "id": "be5ab6fa",
      "metadata": {
        "id": "be5ab6fa"
      },
      "source": [
        "### Seasonal First order differencing"
      ]
    },
    {
      "cell_type": "code",
      "execution_count": 33,
      "id": "4585995c",
      "metadata": {
        "colab": {
          "base_uri": "https://localhost:8080/",
          "height": 293
        },
        "id": "4585995c",
        "outputId": "39f443cd-0e36-4474-9b98-b5529baca0e4"
      },
      "outputs": [
        {
          "output_type": "display_data",
          "data": {
            "text/plain": [
              "<Figure size 432x288 with 1 Axes>"
            ],
            "image/png": "[encoded data removed]"
          },
          "metadata": {
            "needs_background": "light"
          }
        }
      ],
      "source": [
        "df_seasonal_first_difference = df_first_difference - df_first_difference.shift(1)  \n",
        "TestStationaryPlot(df_seasonal_first_difference.dropna(inplace=False))"
      ]
    },
    {
      "cell_type": "code",
      "execution_count": 34,
      "id": "18a6f723",
      "metadata": {
        "colab": {
          "base_uri": "https://localhost:8080/"
        },
        "id": "18a6f723",
        "outputId": "85389689-da50-485d-979e-8a094fc879d1"
      },
      "outputs": [
        {
          "output_type": "stream",
          "name": "stdout",
          "text": [
            "Test Statistic                  -5.536081\n",
            "p-value                          0.000002\n",
            "#Lags Used                      14.000000\n",
            "Number of Observations Used    198.000000\n",
            "Critical Value (1%)             -3.463815\n",
            "Critical Value (5%)             -2.876251\n",
            "Critical Value (10%)            -2.574611\n",
            "dtype: float64\n",
            "Failed to reject null hypothesis. Data is stationary\n"
          ]
        }
      ],
      "source": [
        "TestStationaryAdfuller(df_seasonal_first_difference.dropna(inplace=False))"
      ]
    },
    {
      "cell_type": "markdown",
      "source": [
        "#### We are considering this seasonal first difference for further analysis because it looks more stationary"
      ],
      "metadata": {
        "id": "wDl4dzAZsBLG"
      },
      "id": "wDl4dzAZsBLG"
    },
    {
      "cell_type": "markdown",
      "source": [
        "### Eliminating trend and seasonality: Decomposing"
      ],
      "metadata": {
        "id": "tPFdh0aupVKx"
      },
      "id": "tPFdh0aupVKx"
    },
    {
      "cell_type": "code",
      "execution_count": 35,
      "id": "9a756d52",
      "metadata": {
        "colab": {
          "base_uri": "https://localhost:8080/",
          "height": 297
        },
        "id": "9a756d52",
        "outputId": "85fd3631-b95c-4587-81f9-1bef7f690e7f"
      },
      "outputs": [
        {
          "output_type": "display_data",
          "data": {
            "text/plain": [
              "<Figure size 432x288 with 4 Axes>"
            ],
            "image/png": "[encoded data removed]"
          },
          "metadata": {
            "needs_background": "light"
          }
        }
      ],
      "source": [
        "decomposition = seasonal_decompose(df,model=\"multiplicative\",filt=None,period=1,two_sided=True,extrapolate_trend=0)\n",
        "\n",
        "trend = decomposition.trend\n",
        "seasonal = decomposition.seasonal\n",
        "residual = decomposition.resid\n",
        "\n",
        "plt.subplot(411)\n",
        "plt.plot(df, label='Original')\n",
        "plt.legend(loc='best')\n",
        "plt.subplot(412)\n",
        "plt.plot(trend, label='Trend')\n",
        "plt.legend(loc='best')\n",
        "plt.subplot(413)\n",
        "plt.plot(seasonal,label='Seasonality')\n",
        "plt.legend(loc='best')\n",
        "plt.subplot(414)\n",
        "plt.plot(residual, label='Residuals')\n",
        "plt.legend(loc='best')\n",
        "plt.tight_layout()"
      ]
    },
    {
      "cell_type": "markdown",
      "source": [
        "#### Here we can see that the trend, no seasonaltiy in data and we can model the trend. Here original data and trend both are equal."
      ],
      "metadata": {
        "id": "6nHY2KBR9wu_"
      },
      "id": "6nHY2KBR9wu_"
    },
    {
      "cell_type": "code",
      "execution_count": 36,
      "id": "2f7ea954",
      "metadata": {
        "colab": {
          "base_uri": "https://localhost:8080/",
          "height": 449
        },
        "id": "2f7ea954",
        "outputId": "2ae5d58b-2349-4e67-95b7-c8f6b584b3a9"
      },
      "outputs": [
        {
          "output_type": "display_data",
          "data": {
            "text/plain": [
              "<Figure size 432x288 with 1 Axes>"
            ],
            "image/png": "[encoded data removed]"
          },
          "metadata": {
            "needs_background": "light"
          }
        },
        {
          "output_type": "stream",
          "name": "stdout",
          "text": [
            "Test Statistic                  -0.378463\n",
            "p-value                          0.913633\n",
            "#Lags Used                       0.000000\n",
            "Number of Observations Used    214.000000\n",
            "Critical Value (1%)             -3.461282\n",
            "Critical Value (5%)             -2.875143\n",
            "Critical Value (10%)            -2.574020\n",
            "dtype: float64\n",
            "Failed to accept null hypothesis. Data is non-stationary \n"
          ]
        }
      ],
      "source": [
        "df_decompose = trend\n",
        "df_decompose.dropna(inplace=True)\n",
        "TestStationaryPlot(df_decompose)\n",
        "TestStationaryAdfuller(df_decompose)"
      ]
    },
    {
      "cell_type": "markdown",
      "source": [
        "#ACF & PACF plot for seasonal first order difference"
      ],
      "metadata": {
        "id": "a2eeupT5ooL9"
      },
      "id": "a2eeupT5ooL9"
    },
    {
      "cell_type": "code",
      "source": [
        "#ACF and PACF plots:\n",
        "fig = plt.figure(figsize=(12,8))\n",
        "ax1 = fig.add_subplot(211)\n",
        "fig = sm.graphics.tsa.plot_acf(df_seasonal_first_difference.dropna(inplace=False), lags=40, ax=ax1)\n",
        "ax2 = fig.add_subplot(212)\n",
        "fig = sm.graphics.tsa.plot_pacf(df_seasonal_first_difference.dropna(inplace=False), lags=40, ax=ax2)\n"
      ],
      "metadata": {
        "colab": {
          "base_uri": "https://localhost:8080/",
          "height": 499
        },
        "id": "C_7bj3B0oPol",
        "outputId": "27395a93-d213-4965-9c74-c4efe8e6a810"
      },
      "id": "C_7bj3B0oPol",
      "execution_count": 37,
      "outputs": [
        {
          "output_type": "display_data",
          "data": {
            "text/plain": [
              "<Figure size 864x576 with 2 Axes>"
            ],
            "image/png": "[encoded data removed]"
          },
          "metadata": {
            "needs_background": "light"
          }
        }
      ]
    },
    {
      "cell_type": "markdown",
      "source": [
        "##### We will find optimal parameters (p,d,q) using grid search later"
      ],
      "metadata": {
        "id": "awRydunZ0tyd"
      },
      "id": "awRydunZ0tyd"
    },
    {
      "cell_type": "markdown",
      "source": [
        "# Data Partitioning"
      ],
      "metadata": {
        "id": "sKfGrTe6hi5j"
      },
      "id": "sKfGrTe6hi5j"
    },
    {
      "cell_type": "code",
      "source": [
        "#use seasonal first order difference\n",
        "df_seasonal_first_difference.head()"
      ],
      "metadata": {
        "colab": {
          "base_uri": "https://localhost:8080/",
          "height": 238
        },
        "id": "mMKc0NXyhheb",
        "outputId": "02243870-8b1b-4f2f-a106-634e271098b2"
      },
      "id": "mMKc0NXyhheb",
      "execution_count": 38,
      "outputs": [
        {
          "output_type": "execute_result",
          "data": {
            "text/plain": [
              "            CO2\n",
              "Year           \n",
              "1800.0      NaN\n",
              "1801.0      NaN\n",
              "1802.0  0.00001\n",
              "1803.0 -0.00001\n",
              "1804.0  0.00001"
            ],
            "text/html": [
              "\n",
              "  <div id=\"df-6c4bdec3-b112-4ff6-ad4e-2f385962a14a\">\n",
              "    <div class=\"colab-df-container\">\n",
              "      <div>\n",
              "<style scoped>\n",
              "    .dataframe tbody tr th:only-of-type {\n",
              "        vertical-align: middle;\n",
              "    }\n",
              "\n",
              "    .dataframe tbody tr th {\n",
              "        vertical-align: top;\n",
              "    }\n",
              "\n",
              "    .dataframe thead th {\n",
              "        text-align: right;\n",
              "    }\n",
              "</style>\n",
              "<table border=\"1\" class=\"dataframe\">\n",
              "  <thead>\n",
              "    <tr style=\"text-align: right;\">\n",
              "      <th></th>\n",
              "      <th>CO2</th>\n",
              "    </tr>\n",
              "    <tr>\n",
              "      <th>Year</th>\n",
              "      <th></th>\n",
              "    </tr>\n",
              "  </thead>\n",
              "  <tbody>\n",
              "    <tr>\n",
              "      <th>1800.0</th>\n",
              "      <td>NaN</td>\n",
              "    </tr>\n",
              "    <tr>\n",
              "      <th>1801.0</th>\n",
              "      <td>NaN</td>\n",
              "    </tr>\n",
              "    <tr>\n",
              "      <th>1802.0</th>\n",
              "      <td>0.00001</td>\n",
              "    </tr>\n",
              "    <tr>\n",
              "      <th>1803.0</th>\n",
              "      <td>-0.00001</td>\n",
              "    </tr>\n",
              "    <tr>\n",
              "      <th>1804.0</th>\n",
              "      <td>0.00001</td>\n",
              "    </tr>\n",
              "  </tbody>\n",
              "</table>\n",
              "</div>\n",
              "      <button class=\"colab-df-convert\" onclick=\"convertToInteractive('df-6c4bdec3-b112-4ff6-ad4e-2f385962a14a')\"\n",
              "              title=\"Convert this dataframe to an interactive table.\"\n",
              "              style=\"display:none;\">\n",
              "        \n",
              "  <svg xmlns=\"http://www.w3.org/2000/svg\" height=\"24px\"viewBox=\"0 0 24 24\"\n",
              "       width=\"24px\">\n",
              "    <path d=\"M0 0h24v24H0V0z\" fill=\"none\"/>\n",
              "    <path d=\"M18.56 5.44l.94 2.06.94-2.06 2.06-.94-2.06-.94-.94-2.06-.94 2.06-2.06.94zm-11 1L8.5 8.5l.94-2.06 2.06-.94-2.06-.94L8.5 2.5l-.94 2.06-2.06.94zm10 10l.94 2.06.94-2.06 2.06-.94-2.06-.94-.94-2.06-.94 2.06-2.06.94z\"/><path d=\"M17.41 7.96l-1.37-1.37c-.4-.4-.92-.59-1.43-.59-.52 0-1.04.2-1.43.59L10.3 9.45l-7.72 7.72c-.78.78-.78 2.05 0 2.83L4 21.41c.39.39.9.59 1.41.59.51 0 1.02-.2 1.41-.59l7.78-7.78 2.81-2.81c.8-.78.8-2.07 0-2.86zM5.41 20L4 18.59l7.72-7.72 1.47 1.35L5.41 20z\"/>\n",
              "  </svg>\n",
              "      </button>\n",
              "      \n",
              "  <style>\n",
              "    .colab-df-container {\n",
              "      display:flex;\n",
              "      flex-wrap:wrap;\n",
              "      gap: 12px;\n",
              "    }\n",
              "\n",
              "    .colab-df-convert {\n",
              "      background-color: #E8F0FE;\n",
              "      border: none;\n",
              "      border-radius: 50%;\n",
              "      cursor: pointer;\n",
              "      display: none;\n",
              "      fill: #1967D2;\n",
              "      height: 32px;\n",
              "      padding: 0 0 0 0;\n",
              "      width: 32px;\n",
              "    }\n",
              "\n",
              "    .colab-df-convert:hover {\n",
              "      background-color: #E2EBFA;\n",
              "      box-shadow: 0px 1px 2px rgba(60, 64, 67, 0.3), 0px 1px 3px 1px rgba(60, 64, 67, 0.15);\n",
              "      fill: #174EA6;\n",
              "    }\n",
              "\n",
              "    [theme=dark] .colab-df-convert {\n",
              "      background-color: #3B4455;\n",
              "      fill: #D2E3FC;\n",
              "    }\n",
              "\n",
              "    [theme=dark] .colab-df-convert:hover {\n",
              "      background-color: #434B5C;\n",
              "      box-shadow: 0px 1px 3px 1px rgba(0, 0, 0, 0.15);\n",
              "      filter: drop-shadow(0px 1px 2px rgba(0, 0, 0, 0.3));\n",
              "      fill: #FFFFFF;\n",
              "    }\n",
              "  </style>\n",
              "\n",
              "      <script>\n",
              "        const buttonEl =\n",
              "          document.querySelector('#df-6c4bdec3-b112-4ff6-ad4e-2f385962a14a button.colab-df-convert');\n",
              "        buttonEl.style.display =\n",
              "          google.colab.kernel.accessAllowed ? 'block' : 'none';\n",
              "\n",
              "        async function convertToInteractive(key) {\n",
              "          const element = document.querySelector('#df-6c4bdec3-b112-4ff6-ad4e-2f385962a14a');\n",
              "          const dataTable =\n",
              "            await google.colab.kernel.invokeFunction('convertToInteractive',\n",
              "                                                     [key], {});\n",
              "          if (!dataTable) return;\n",
              "\n",
              "          const docLinkHtml = 'Like what you see? Visit the ' +\n",
              "            '<a target=\"_blank\" href=https://colab.research.google.com/notebooks/data_table.ipynb>data table notebook</a>'\n",
              "            + ' to learn more about interactive tables.';\n",
              "          element.innerHTML = '';\n",
              "          dataTable['output_type'] = 'display_data';\n",
              "          await google.colab.output.renderOutput(dataTable, element);\n",
              "          const docLink = document.createElement('div');\n",
              "          docLink.innerHTML = docLinkHtml;\n",
              "          element.appendChild(docLink);\n",
              "        }\n",
              "      </script>\n",
              "    </div>\n",
              "  </div>\n",
              "  "
            ]
          },
          "metadata": {},
          "execution_count": 38
        }
      ]
    },
    {
      "cell_type": "code",
      "source": [
        "X=df_seasonal_first_difference.dropna(inplace=False)"
      ],
      "metadata": {
        "id": "Au0HoIT2h_Cg"
      },
      "id": "Au0HoIT2h_Cg",
      "execution_count": 39,
      "outputs": []
    },
    {
      "cell_type": "code",
      "source": [
        "X.head()"
      ],
      "metadata": {
        "colab": {
          "base_uri": "https://localhost:8080/",
          "height": 238
        },
        "id": "fp9MUJmYifjt",
        "outputId": "79c11fd3-d723-4d0b-958c-9bef8e17a53b"
      },
      "id": "fp9MUJmYifjt",
      "execution_count": 40,
      "outputs": [
        {
          "output_type": "execute_result",
          "data": {
            "text/plain": [
              "                 CO2\n",
              "Year                \n",
              "1802.0  1.000000e-05\n",
              "1803.0 -1.000000e-05\n",
              "1804.0  1.000000e-05\n",
              "1805.0 -8.673617e-19\n",
              "1806.0 -1.000000e-05"
            ],
            "text/html": [
              "\n",
              "  <div id=\"df-e7470ace-367b-499d-813e-8cfd445fe807\">\n",
              "    <div class=\"colab-df-container\">\n",
              "      <div>\n",
              "<style scoped>\n",
              "    .dataframe tbody tr th:only-of-type {\n",
              "        vertical-align: middle;\n",
              "    }\n",
              "\n",
              "    .dataframe tbody tr th {\n",
              "        vertical-align: top;\n",
              "    }\n",
              "\n",
              "    .dataframe thead th {\n",
              "        text-align: right;\n",
              "    }\n",
              "</style>\n",
              "<table border=\"1\" class=\"dataframe\">\n",
              "  <thead>\n",
              "    <tr style=\"text-align: right;\">\n",
              "      <th></th>\n",
              "      <th>CO2</th>\n",
              "    </tr>\n",
              "    <tr>\n",
              "      <th>Year</th>\n",
              "      <th></th>\n",
              "    </tr>\n",
              "  </thead>\n",
              "  <tbody>\n",
              "    <tr>\n",
              "      <th>1802.0</th>\n",
              "      <td>1.000000e-05</td>\n",
              "    </tr>\n",
              "    <tr>\n",
              "      <th>1803.0</th>\n",
              "      <td>-1.000000e-05</td>\n",
              "    </tr>\n",
              "    <tr>\n",
              "      <th>1804.0</th>\n",
              "      <td>1.000000e-05</td>\n",
              "    </tr>\n",
              "    <tr>\n",
              "      <th>1805.0</th>\n",
              "      <td>-8.673617e-19</td>\n",
              "    </tr>\n",
              "    <tr>\n",
              "      <th>1806.0</th>\n",
              "      <td>-1.000000e-05</td>\n",
              "    </tr>\n",
              "  </tbody>\n",
              "</table>\n",
              "</div>\n",
              "      <button class=\"colab-df-convert\" onclick=\"convertToInteractive('df-e7470ace-367b-499d-813e-8cfd445fe807')\"\n",
              "              title=\"Convert this dataframe to an interactive table.\"\n",
              "              style=\"display:none;\">\n",
              "        \n",
              "  <svg xmlns=\"http://www.w3.org/2000/svg\" height=\"24px\"viewBox=\"0 0 24 24\"\n",
              "       width=\"24px\">\n",
              "    <path d=\"M0 0h24v24H0V0z\" fill=\"none\"/>\n",
              "    <path d=\"M18.56 5.44l.94 2.06.94-2.06 2.06-.94-2.06-.94-.94-2.06-.94 2.06-2.06.94zm-11 1L8.5 8.5l.94-2.06 2.06-.94-2.06-.94L8.5 2.5l-.94 2.06-2.06.94zm10 10l.94 2.06.94-2.06 2.06-.94-2.06-.94-.94-2.06-.94 2.06-2.06.94z\"/><path d=\"M17.41 7.96l-1.37-1.37c-.4-.4-.92-.59-1.43-.59-.52 0-1.04.2-1.43.59L10.3 9.45l-7.72 7.72c-.78.78-.78 2.05 0 2.83L4 21.41c.39.39.9.59 1.41.59.51 0 1.02-.2 1.41-.59l7.78-7.78 2.81-2.81c.8-.78.8-2.07 0-2.86zM5.41 20L4 18.59l7.72-7.72 1.47 1.35L5.41 20z\"/>\n",
              "  </svg>\n",
              "      </button>\n",
              "      \n",
              "  <style>\n",
              "    .colab-df-container {\n",
              "      display:flex;\n",
              "      flex-wrap:wrap;\n",
              "      gap: 12px;\n",
              "    }\n",
              "\n",
              "    .colab-df-convert {\n",
              "      background-color: #E8F0FE;\n",
              "      border: none;\n",
              "      border-radius: 50%;\n",
              "      cursor: pointer;\n",
              "      display: none;\n",
              "      fill: #1967D2;\n",
              "      height: 32px;\n",
              "      padding: 0 0 0 0;\n",
              "      width: 32px;\n",
              "    }\n",
              "\n",
              "    .colab-df-convert:hover {\n",
              "      background-color: #E2EBFA;\n",
              "      box-shadow: 0px 1px 2px rgba(60, 64, 67, 0.3), 0px 1px 3px 1px rgba(60, 64, 67, 0.15);\n",
              "      fill: #174EA6;\n",
              "    }\n",
              "\n",
              "    [theme=dark] .colab-df-convert {\n",
              "      background-color: #3B4455;\n",
              "      fill: #D2E3FC;\n",
              "    }\n",
              "\n",
              "    [theme=dark] .colab-df-convert:hover {\n",
              "      background-color: #434B5C;\n",
              "      box-shadow: 0px 1px 3px 1px rgba(0, 0, 0, 0.15);\n",
              "      filter: drop-shadow(0px 1px 2px rgba(0, 0, 0, 0.3));\n",
              "      fill: #FFFFFF;\n",
              "    }\n",
              "  </style>\n",
              "\n",
              "      <script>\n",
              "        const buttonEl =\n",
              "          document.querySelector('#df-e7470ace-367b-499d-813e-8cfd445fe807 button.colab-df-convert');\n",
              "        buttonEl.style.display =\n",
              "          google.colab.kernel.accessAllowed ? 'block' : 'none';\n",
              "\n",
              "        async function convertToInteractive(key) {\n",
              "          const element = document.querySelector('#df-e7470ace-367b-499d-813e-8cfd445fe807');\n",
              "          const dataTable =\n",
              "            await google.colab.kernel.invokeFunction('convertToInteractive',\n",
              "                                                     [key], {});\n",
              "          if (!dataTable) return;\n",
              "\n",
              "          const docLinkHtml = 'Like what you see? Visit the ' +\n",
              "            '<a target=\"_blank\" href=https://colab.research.google.com/notebooks/data_table.ipynb>data table notebook</a>'\n",
              "            + ' to learn more about interactive tables.';\n",
              "          element.innerHTML = '';\n",
              "          dataTable['output_type'] = 'display_data';\n",
              "          await google.colab.output.renderOutput(dataTable, element);\n",
              "          const docLink = document.createElement('div');\n",
              "          docLink.innerHTML = docLinkHtml;\n",
              "          element.appendChild(docLink);\n",
              "        }\n",
              "      </script>\n",
              "    </div>\n",
              "  </div>\n",
              "  "
            ]
          },
          "metadata": {},
          "execution_count": 40
        }
      ]
    },
    {
      "cell_type": "code",
      "source": [
        "X.shape"
      ],
      "metadata": {
        "colab": {
          "base_uri": "https://localhost:8080/"
        },
        "id": "Eq-j-myyiiIK",
        "outputId": "3b6f50f0-1e67-4e74-e526-7215c81eae9b"
      },
      "id": "Eq-j-myyiiIK",
      "execution_count": 41,
      "outputs": [
        {
          "output_type": "execute_result",
          "data": {
            "text/plain": [
              "(213, 1)"
            ]
          },
          "metadata": {},
          "execution_count": 41
        }
      ]
    },
    {
      "cell_type": "code",
      "source": [
        "train=X.iloc[:-20]  ##will create a new DataFrame train that includes all rows of X except for the last 20 rows.\n",
        "\n",
        "test=X.iloc[-20:]  ##will create a new DataFrame test that includes only the last 20 rows of X."
      ],
      "metadata": {
        "id": "iGrjH0mPjDPV"
      },
      "id": "iGrjH0mPjDPV",
      "execution_count": 42,
      "outputs": []
    },
    {
      "cell_type": "code",
      "source": [
        "train.shape"
      ],
      "metadata": {
        "colab": {
          "base_uri": "https://localhost:8080/"
        },
        "id": "XDCPTBXbkpW-",
        "outputId": "b4733516-4aad-42da-8213-8949d3267fa5"
      },
      "id": "XDCPTBXbkpW-",
      "execution_count": 43,
      "outputs": [
        {
          "output_type": "execute_result",
          "data": {
            "text/plain": [
              "(193, 1)"
            ]
          },
          "metadata": {},
          "execution_count": 43
        }
      ]
    },
    {
      "cell_type": "code",
      "source": [
        "test.shape"
      ],
      "metadata": {
        "colab": {
          "base_uri": "https://localhost:8080/"
        },
        "id": "J1cbH-pAkrkj",
        "outputId": "218a5c43-4e73-4c7b-d55f-656237075a75"
      },
      "id": "J1cbH-pAkrkj",
      "execution_count": 44,
      "outputs": [
        {
          "output_type": "execute_result",
          "data": {
            "text/plain": [
              "(20, 1)"
            ]
          },
          "metadata": {},
          "execution_count": 44
        }
      ]
    },
    {
      "cell_type": "code",
      "source": [
        "train.head()"
      ],
      "metadata": {
        "colab": {
          "base_uri": "https://localhost:8080/",
          "height": 238
        },
        "id": "HSWThGvrks-S",
        "outputId": "f17551e1-354e-4f5b-edd1-7b9700d73d79"
      },
      "id": "HSWThGvrks-S",
      "execution_count": 45,
      "outputs": [
        {
          "output_type": "execute_result",
          "data": {
            "text/plain": [
              "                 CO2\n",
              "Year                \n",
              "1802.0  1.000000e-05\n",
              "1803.0 -1.000000e-05\n",
              "1804.0  1.000000e-05\n",
              "1805.0 -8.673617e-19\n",
              "1806.0 -1.000000e-05"
            ],
            "text/html": [
              "\n",
              "  <div id=\"df-8972a4cd-7931-4aa5-aae3-319e8df8c8e3\">\n",
              "    <div class=\"colab-df-container\">\n",
              "      <div>\n",
              "<style scoped>\n",
              "    .dataframe tbody tr th:only-of-type {\n",
              "        vertical-align: middle;\n",
              "    }\n",
              "\n",
              "    .dataframe tbody tr th {\n",
              "        vertical-align: top;\n",
              "    }\n",
              "\n",
              "    .dataframe thead th {\n",
              "        text-align: right;\n",
              "    }\n",
              "</style>\n",
              "<table border=\"1\" class=\"dataframe\">\n",
              "  <thead>\n",
              "    <tr style=\"text-align: right;\">\n",
              "      <th></th>\n",
              "      <th>CO2</th>\n",
              "    </tr>\n",
              "    <tr>\n",
              "      <th>Year</th>\n",
              "      <th></th>\n",
              "    </tr>\n",
              "  </thead>\n",
              "  <tbody>\n",
              "    <tr>\n",
              "      <th>1802.0</th>\n",
              "      <td>1.000000e-05</td>\n",
              "    </tr>\n",
              "    <tr>\n",
              "      <th>1803.0</th>\n",
              "      <td>-1.000000e-05</td>\n",
              "    </tr>\n",
              "    <tr>\n",
              "      <th>1804.0</th>\n",
              "      <td>1.000000e-05</td>\n",
              "    </tr>\n",
              "    <tr>\n",
              "      <th>1805.0</th>\n",
              "      <td>-8.673617e-19</td>\n",
              "    </tr>\n",
              "    <tr>\n",
              "      <th>1806.0</th>\n",
              "      <td>-1.000000e-05</td>\n",
              "    </tr>\n",
              "  </tbody>\n",
              "</table>\n",
              "</div>\n",
              "      <button class=\"colab-df-convert\" onclick=\"convertToInteractive('df-8972a4cd-7931-4aa5-aae3-319e8df8c8e3')\"\n",
              "              title=\"Convert this dataframe to an interactive table.\"\n",
              "              style=\"display:none;\">\n",
              "        \n",
              "  <svg xmlns=\"http://www.w3.org/2000/svg\" height=\"24px\"viewBox=\"0 0 24 24\"\n",
              "       width=\"24px\">\n",
              "    <path d=\"M0 0h24v24H0V0z\" fill=\"none\"/>\n",
              "    <path d=\"M18.56 5.44l.94 2.06.94-2.06 2.06-.94-2.06-.94-.94-2.06-.94 2.06-2.06.94zm-11 1L8.5 8.5l.94-2.06 2.06-.94-2.06-.94L8.5 2.5l-.94 2.06-2.06.94zm10 10l.94 2.06.94-2.06 2.06-.94-2.06-.94-.94-2.06-.94 2.06-2.06.94z\"/><path d=\"M17.41 7.96l-1.37-1.37c-.4-.4-.92-.59-1.43-.59-.52 0-1.04.2-1.43.59L10.3 9.45l-7.72 7.72c-.78.78-.78 2.05 0 2.83L4 21.41c.39.39.9.59 1.41.59.51 0 1.02-.2 1.41-.59l7.78-7.78 2.81-2.81c.8-.78.8-2.07 0-2.86zM5.41 20L4 18.59l7.72-7.72 1.47 1.35L5.41 20z\"/>\n",
              "  </svg>\n",
              "      </button>\n",
              "      \n",
              "  <style>\n",
              "    .colab-df-container {\n",
              "      display:flex;\n",
              "      flex-wrap:wrap;\n",
              "      gap: 12px;\n",
              "    }\n",
              "\n",
              "    .colab-df-convert {\n",
              "      background-color: #E8F0FE;\n",
              "      border: none;\n",
              "      border-radius: 50%;\n",
              "      cursor: pointer;\n",
              "      display: none;\n",
              "      fill: #1967D2;\n",
              "      height: 32px;\n",
              "      padding: 0 0 0 0;\n",
              "      width: 32px;\n",
              "    }\n",
              "\n",
              "    .colab-df-convert:hover {\n",
              "      background-color: #E2EBFA;\n",
              "      box-shadow: 0px 1px 2px rgba(60, 64, 67, 0.3), 0px 1px 3px 1px rgba(60, 64, 67, 0.15);\n",
              "      fill: #174EA6;\n",
              "    }\n",
              "\n",
              "    [theme=dark] .colab-df-convert {\n",
              "      background-color: #3B4455;\n",
              "      fill: #D2E3FC;\n",
              "    }\n",
              "\n",
              "    [theme=dark] .colab-df-convert:hover {\n",
              "      background-color: #434B5C;\n",
              "      box-shadow: 0px 1px 3px 1px rgba(0, 0, 0, 0.15);\n",
              "      filter: drop-shadow(0px 1px 2px rgba(0, 0, 0, 0.3));\n",
              "      fill: #FFFFFF;\n",
              "    }\n",
              "  </style>\n",
              "\n",
              "      <script>\n",
              "        const buttonEl =\n",
              "          document.querySelector('#df-8972a4cd-7931-4aa5-aae3-319e8df8c8e3 button.colab-df-convert');\n",
              "        buttonEl.style.display =\n",
              "          google.colab.kernel.accessAllowed ? 'block' : 'none';\n",
              "\n",
              "        async function convertToInteractive(key) {\n",
              "          const element = document.querySelector('#df-8972a4cd-7931-4aa5-aae3-319e8df8c8e3');\n",
              "          const dataTable =\n",
              "            await google.colab.kernel.invokeFunction('convertToInteractive',\n",
              "                                                     [key], {});\n",
              "          if (!dataTable) return;\n",
              "\n",
              "          const docLinkHtml = 'Like what you see? Visit the ' +\n",
              "            '<a target=\"_blank\" href=https://colab.research.google.com/notebooks/data_table.ipynb>data table notebook</a>'\n",
              "            + ' to learn more about interactive tables.';\n",
              "          element.innerHTML = '';\n",
              "          dataTable['output_type'] = 'display_data';\n",
              "          await google.colab.output.renderOutput(dataTable, element);\n",
              "          const docLink = document.createElement('div');\n",
              "          docLink.innerHTML = docLinkHtml;\n",
              "          element.appendChild(docLink);\n",
              "        }\n",
              "      </script>\n",
              "    </div>\n",
              "  </div>\n",
              "  "
            ]
          },
          "metadata": {},
          "execution_count": 45
        }
      ]
    },
    {
      "cell_type": "code",
      "source": [
        "test.head()"
      ],
      "metadata": {
        "colab": {
          "base_uri": "https://localhost:8080/",
          "height": 238
        },
        "id": "nNnLqwsPkzT6",
        "outputId": "704e4051-b084-4e6a-d94b-3e3bbcbb0842"
      },
      "id": "nNnLqwsPkzT6",
      "execution_count": 46,
      "outputs": [
        {
          "output_type": "execute_result",
          "data": {
            "text/plain": [
              "                 CO2\n",
              "Year                \n",
              "1995.0  1.776357e-15\n",
              "1996.0  1.000000e-01\n",
              "1997.0  1.000000e-01\n",
              "1998.0 -2.000000e-01\n",
              "1999.0 -1.000000e-01"
            ],
            "text/html": [
              "\n",
              "  <div id=\"df-409e32b9-0630-48ce-9cad-2580198ab7bd\">\n",
              "    <div class=\"colab-df-container\">\n",
              "      <div>\n",
              "<style scoped>\n",
              "    .dataframe tbody tr th:only-of-type {\n",
              "        vertical-align: middle;\n",
              "    }\n",
              "\n",
              "    .dataframe tbody tr th {\n",
              "        vertical-align: top;\n",
              "    }\n",
              "\n",
              "    .dataframe thead th {\n",
              "        text-align: right;\n",
              "    }\n",
              "</style>\n",
              "<table border=\"1\" class=\"dataframe\">\n",
              "  <thead>\n",
              "    <tr style=\"text-align: right;\">\n",
              "      <th></th>\n",
              "      <th>CO2</th>\n",
              "    </tr>\n",
              "    <tr>\n",
              "      <th>Year</th>\n",
              "      <th></th>\n",
              "    </tr>\n",
              "  </thead>\n",
              "  <tbody>\n",
              "    <tr>\n",
              "      <th>1995.0</th>\n",
              "      <td>1.776357e-15</td>\n",
              "    </tr>\n",
              "    <tr>\n",
              "      <th>1996.0</th>\n",
              "      <td>1.000000e-01</td>\n",
              "    </tr>\n",
              "    <tr>\n",
              "      <th>1997.0</th>\n",
              "      <td>1.000000e-01</td>\n",
              "    </tr>\n",
              "    <tr>\n",
              "      <th>1998.0</th>\n",
              "      <td>-2.000000e-01</td>\n",
              "    </tr>\n",
              "    <tr>\n",
              "      <th>1999.0</th>\n",
              "      <td>-1.000000e-01</td>\n",
              "    </tr>\n",
              "  </tbody>\n",
              "</table>\n",
              "</div>\n",
              "      <button class=\"colab-df-convert\" onclick=\"convertToInteractive('df-409e32b9-0630-48ce-9cad-2580198ab7bd')\"\n",
              "              title=\"Convert this dataframe to an interactive table.\"\n",
              "              style=\"display:none;\">\n",
              "        \n",
              "  <svg xmlns=\"http://www.w3.org/2000/svg\" height=\"24px\"viewBox=\"0 0 24 24\"\n",
              "       width=\"24px\">\n",
              "    <path d=\"M0 0h24v24H0V0z\" fill=\"none\"/>\n",
              "    <path d=\"M18.56 5.44l.94 2.06.94-2.06 2.06-.94-2.06-.94-.94-2.06-.94 2.06-2.06.94zm-11 1L8.5 8.5l.94-2.06 2.06-.94-2.06-.94L8.5 2.5l-.94 2.06-2.06.94zm10 10l.94 2.06.94-2.06 2.06-.94-2.06-.94-.94-2.06-.94 2.06-2.06.94z\"/><path d=\"M17.41 7.96l-1.37-1.37c-.4-.4-.92-.59-1.43-.59-.52 0-1.04.2-1.43.59L10.3 9.45l-7.72 7.72c-.78.78-.78 2.05 0 2.83L4 21.41c.39.39.9.59 1.41.59.51 0 1.02-.2 1.41-.59l7.78-7.78 2.81-2.81c.8-.78.8-2.07 0-2.86zM5.41 20L4 18.59l7.72-7.72 1.47 1.35L5.41 20z\"/>\n",
              "  </svg>\n",
              "      </button>\n",
              "      \n",
              "  <style>\n",
              "    .colab-df-container {\n",
              "      display:flex;\n",
              "      flex-wrap:wrap;\n",
              "      gap: 12px;\n",
              "    }\n",
              "\n",
              "    .colab-df-convert {\n",
              "      background-color: #E8F0FE;\n",
              "      border: none;\n",
              "      border-radius: 50%;\n",
              "      cursor: pointer;\n",
              "      display: none;\n",
              "      fill: #1967D2;\n",
              "      height: 32px;\n",
              "      padding: 0 0 0 0;\n",
              "      width: 32px;\n",
              "    }\n",
              "\n",
              "    .colab-df-convert:hover {\n",
              "      background-color: #E2EBFA;\n",
              "      box-shadow: 0px 1px 2px rgba(60, 64, 67, 0.3), 0px 1px 3px 1px rgba(60, 64, 67, 0.15);\n",
              "      fill: #174EA6;\n",
              "    }\n",
              "\n",
              "    [theme=dark] .colab-df-convert {\n",
              "      background-color: #3B4455;\n",
              "      fill: #D2E3FC;\n",
              "    }\n",
              "\n",
              "    [theme=dark] .colab-df-convert:hover {\n",
              "      background-color: #434B5C;\n",
              "      box-shadow: 0px 1px 3px 1px rgba(0, 0, 0, 0.15);\n",
              "      filter: drop-shadow(0px 1px 2px rgba(0, 0, 0, 0.3));\n",
              "      fill: #FFFFFF;\n",
              "    }\n",
              "  </style>\n",
              "\n",
              "      <script>\n",
              "        const buttonEl =\n",
              "          document.querySelector('#df-409e32b9-0630-48ce-9cad-2580198ab7bd button.colab-df-convert');\n",
              "        buttonEl.style.display =\n",
              "          google.colab.kernel.accessAllowed ? 'block' : 'none';\n",
              "\n",
              "        async function convertToInteractive(key) {\n",
              "          const element = document.querySelector('#df-409e32b9-0630-48ce-9cad-2580198ab7bd');\n",
              "          const dataTable =\n",
              "            await google.colab.kernel.invokeFunction('convertToInteractive',\n",
              "                                                     [key], {});\n",
              "          if (!dataTable) return;\n",
              "\n",
              "          const docLinkHtml = 'Like what you see? Visit the ' +\n",
              "            '<a target=\"_blank\" href=https://colab.research.google.com/notebooks/data_table.ipynb>data table notebook</a>'\n",
              "            + ' to learn more about interactive tables.';\n",
              "          element.innerHTML = '';\n",
              "          dataTable['output_type'] = 'display_data';\n",
              "          await google.colab.output.renderOutput(dataTable, element);\n",
              "          const docLink = document.createElement('div');\n",
              "          docLink.innerHTML = docLinkHtml;\n",
              "          element.appendChild(docLink);\n",
              "        }\n",
              "      </script>\n",
              "    </div>\n",
              "  </div>\n",
              "  "
            ]
          },
          "metadata": {},
          "execution_count": 46
        }
      ]
    },
    {
      "cell_type": "markdown",
      "source": [
        "# Hyper-parameter tunning"
      ],
      "metadata": {
        "id": "dCvsng2tlHF2"
      },
      "id": "dCvsng2tlHF2"
    },
    {
      "cell_type": "code",
      "source": [
        "# evaluate an ARIMA model for a given order (p,d,q)\n",
        "def evaluate_arima_model(train, test, arima_order):\n",
        "    history = [x for x in train]\n",
        "    # make predictions\n",
        "    predictions = list()\n",
        "    for t in range(len(test)):\n",
        "        model = ARIMA(history, order=arima_order)\n",
        "        model_fit = model.fit()\n",
        "        yhat = model_fit.forecast()[0]\n",
        "        predictions.append(yhat)\n",
        "        history.append(test[t])\n",
        "    # calculate out of sample error\n",
        "    rmse = sqrt(mean_squared_error(test, predictions))\n",
        "    return rmse"
      ],
      "metadata": {
        "id": "PdRiHrrPk0-s"
      },
      "id": "PdRiHrrPk0-s",
      "execution_count": 47,
      "outputs": []
    },
    {
      "cell_type": "code",
      "source": [
        "# evaluate combinations of p, d and q values for an ARIMA model\n",
        "def evaluate_models(train, test, p_values, d_values, q_values):\n",
        "    #dataset = dataset.astype('float32')\n",
        "    best_score, best_cfg = float(\"inf\"), None\n",
        "    for p in p_values:\n",
        "        for d in d_values:\n",
        "            for q in q_values:\n",
        "                order = (p,d,q)\n",
        "                try:\n",
        "                    rmse = evaluate_arima_model(train, test, order)\n",
        "                    if rmse < best_score:\n",
        "                        best_score, best_cfg = rmse, order\n",
        "                    print('ARIMA%s RMSE=%.3f' % (order,rmse))\n",
        "                except:\n",
        "                    continue\n",
        "    print('Best ARIMA%s RMSE=%.3f' % (best_cfg, best_score))"
      ],
      "metadata": {
        "id": "9nss4AQdpLm0"
      },
      "id": "9nss4AQdpLm0",
      "execution_count": 48,
      "outputs": []
    },
    {
      "cell_type": "code",
      "source": [
        "# evaluate parameters\n",
        "p_values = [0, 1, 2, 3, 4, 5]\n",
        "d_values = range(0, 3)\n",
        "q_values = range(0, 3)\n",
        "warnings.filterwarnings(\"ignore\")\n",
        "evaluate_models(train.values, test.values, p_values, d_values, q_values)"
      ],
      "metadata": {
        "colab": {
          "base_uri": "https://localhost:8080/"
        },
        "id": "3_qkJF_6pTKn",
        "outputId": "c6462f5d-8eda-49fa-bd22-f4baf7084912"
      },
      "id": "3_qkJF_6pTKn",
      "execution_count": 49,
      "outputs": [
        {
          "output_type": "stream",
          "name": "stdout",
          "text": [
            "ARIMA(0, 0, 0) RMSE=0.613\n",
            "ARIMA(0, 0, 1) RMSE=0.467\n",
            "ARIMA(0, 0, 2) RMSE=0.471\n",
            "ARIMA(0, 1, 0) RMSE=1.037\n",
            "ARIMA(0, 1, 1) RMSE=0.613\n",
            "ARIMA(0, 1, 2) RMSE=0.450\n",
            "ARIMA(0, 2, 0) RMSE=1.853\n",
            "ARIMA(0, 2, 1) RMSE=1.039\n",
            "ARIMA(0, 2, 2) RMSE=0.679\n",
            "ARIMA(1, 0, 0) RMSE=0.546\n",
            "ARIMA(1, 0, 1) RMSE=0.470\n",
            "ARIMA(1, 0, 2) RMSE=0.464\n",
            "ARIMA(1, 1, 0) RMSE=0.838\n",
            "ARIMA(1, 1, 1) RMSE=0.546\n",
            "ARIMA(1, 1, 2) RMSE=0.451\n",
            "ARIMA(1, 2, 0) RMSE=1.374\n",
            "ARIMA(1, 2, 1) RMSE=0.840\n",
            "ARIMA(1, 2, 2) RMSE=0.613\n",
            "ARIMA(2, 0, 0) RMSE=0.443\n",
            "ARIMA(2, 0, 1) RMSE=0.476\n",
            "ARIMA(2, 0, 2) RMSE=0.463\n",
            "ARIMA(2, 1, 0) RMSE=0.634\n",
            "ARIMA(2, 1, 1) RMSE=0.443\n",
            "ARIMA(2, 1, 2) RMSE=0.455\n",
            "ARIMA(2, 2, 0) RMSE=0.999\n",
            "ARIMA(2, 2, 1) RMSE=0.636\n",
            "ARIMA(2, 2, 2) RMSE=0.446\n",
            "ARIMA(3, 0, 0) RMSE=0.433\n",
            "ARIMA(3, 0, 1) RMSE=0.465\n",
            "ARIMA(3, 0, 2) RMSE=0.467\n",
            "ARIMA(3, 1, 0) RMSE=0.573\n",
            "ARIMA(3, 1, 1) RMSE=0.434\n",
            "ARIMA(3, 1, 2) RMSE=0.444\n",
            "ARIMA(3, 2, 0) RMSE=0.863\n",
            "ARIMA(3, 2, 1) RMSE=0.575\n",
            "ARIMA(3, 2, 2) RMSE=0.438\n",
            "ARIMA(4, 0, 0) RMSE=0.457\n",
            "ARIMA(4, 0, 1) RMSE=0.466\n",
            "ARIMA(4, 0, 2) RMSE=0.466\n",
            "ARIMA(4, 1, 0) RMSE=0.509\n",
            "ARIMA(4, 1, 1) RMSE=0.457\n",
            "ARIMA(4, 1, 2) RMSE=0.450\n",
            "ARIMA(4, 2, 0) RMSE=0.714\n",
            "ARIMA(4, 2, 1) RMSE=0.510\n",
            "ARIMA(4, 2, 2) RMSE=0.460\n",
            "ARIMA(5, 0, 0) RMSE=0.481\n",
            "ARIMA(5, 0, 1) RMSE=0.458\n",
            "ARIMA(5, 0, 2) RMSE=0.465\n",
            "ARIMA(5, 1, 0) RMSE=0.522\n",
            "ARIMA(5, 1, 1) RMSE=0.480\n",
            "ARIMA(5, 1, 2) RMSE=0.460\n",
            "ARIMA(5, 2, 0) RMSE=0.662\n",
            "ARIMA(5, 2, 1) RMSE=0.523\n",
            "ARIMA(5, 2, 2) RMSE=0.508\n",
            "Best ARIMA(3, 0, 0) RMSE=0.433\n"
          ]
        }
      ]
    },
    {
      "cell_type": "markdown",
      "source": [
        "# ARIMA Model"
      ],
      "metadata": {
        "id": "_1LZuYm4rdWs"
      },
      "id": "_1LZuYm4rdWs"
    },
    {
      "cell_type": "code",
      "source": [
        "#3,0,0\n",
        "model_arima = ARIMA(train['CO2'],order = (3,0,0))\n",
        "model_arima = model_arima.fit()\n",
        "model_arima.summary()"
      ],
      "metadata": {
        "colab": {
          "base_uri": "https://localhost:8080/",
          "height": 473
        },
        "id": "M8pDHznCqC8M",
        "outputId": "a0bbf51d-245c-4ae7-e835-53245191dfc1"
      },
      "id": "M8pDHznCqC8M",
      "execution_count": 50,
      "outputs": [
        {
          "output_type": "execute_result",
          "data": {
            "text/plain": [
              "<class 'statsmodels.iolib.summary.Summary'>\n",
              "\"\"\"\n",
              "                               SARIMAX Results                                \n",
              "==============================================================================\n",
              "Dep. Variable:                    CO2   No. Observations:                  193\n",
              "Model:                 ARIMA(3, 0, 0)   Log Likelihood                -183.744\n",
              "Date:                Tue, 07 Mar 2023   AIC                            377.488\n",
              "Time:                        16:11:38   BIC                            393.801\n",
              "Sample:                             0   HQIC                           384.094\n",
              "                                - 193                                         \n",
              "Covariance Type:                  opg                                         \n",
              "==============================================================================\n",
              "                 coef    std err          z      P>|z|      [0.025      0.975]\n",
              "------------------------------------------------------------------------------\n",
              "const          0.0005      0.019      0.027      0.978      -0.036       0.037\n",
              "ar.L1         -0.7651      0.047    -16.143      0.000      -0.858      -0.672\n",
              "ar.L2         -0.5819      0.064     -9.086      0.000      -0.707      -0.456\n",
              "ar.L3         -0.2375      0.049     -4.837      0.000      -0.334      -0.141\n",
              "sigma2         0.3914      0.021     18.303      0.000       0.349       0.433\n",
              "===================================================================================\n",
              "Ljung-Box (L1) (Q):                   1.21   Jarque-Bera (JB):               284.39\n",
              "Prob(Q):                              0.27   Prob(JB):                         0.00\n",
              "Heteroskedasticity (H):           34878.14   Skew:                            -0.31\n",
              "Prob(H) (two-sided):                  0.00   Kurtosis:                         8.91\n",
              "===================================================================================\n",
              "\n",
              "Warnings:\n",
              "[1] Covariance matrix calculated using the outer product of gradients (complex-step).\n",
              "\"\"\""
            ],
            "text/html": [
              "<table class=\"simpletable\">\n",
              "<caption>SARIMAX Results</caption>\n",
              "<tr>\n",
              "  <th>Dep. Variable:</th>          <td>CO2</td>       <th>  No. Observations:  </th>    <td>193</td>  \n",
              "</tr>\n",
              "<tr>\n",
              "  <th>Model:</th>            <td>ARIMA(3, 0, 0)</td>  <th>  Log Likelihood     </th> <td>-183.744</td>\n",
              "</tr>\n",
              "<tr>\n",
              "  <th>Date:</th>            <td>Tue, 07 Mar 2023</td> <th>  AIC                </th>  <td>377.488</td>\n",
              "</tr>\n",
              "<tr>\n",
              "  <th>Time:</th>                <td>16:11:38</td>     <th>  BIC                </th>  <td>393.801</td>\n",
              "</tr>\n",
              "<tr>\n",
              "  <th>Sample:</th>                  <td>0</td>        <th>  HQIC               </th>  <td>384.094</td>\n",
              "</tr>\n",
              "<tr>\n",
              "  <th></th>                      <td> - 193</td>      <th>                     </th>     <td> </td>   \n",
              "</tr>\n",
              "<tr>\n",
              "  <th>Covariance Type:</th>        <td>opg</td>       <th>                     </th>     <td> </td>   \n",
              "</tr>\n",
              "</table>\n",
              "<table class=\"simpletable\">\n",
              "<tr>\n",
              "     <td></td>       <th>coef</th>     <th>std err</th>      <th>z</th>      <th>P>|z|</th>  <th>[0.025</th>    <th>0.975]</th>  \n",
              "</tr>\n",
              "<tr>\n",
              "  <th>const</th>  <td>    0.0005</td> <td>    0.019</td> <td>    0.027</td> <td> 0.978</td> <td>   -0.036</td> <td>    0.037</td>\n",
              "</tr>\n",
              "<tr>\n",
              "  <th>ar.L1</th>  <td>   -0.7651</td> <td>    0.047</td> <td>  -16.143</td> <td> 0.000</td> <td>   -0.858</td> <td>   -0.672</td>\n",
              "</tr>\n",
              "<tr>\n",
              "  <th>ar.L2</th>  <td>   -0.5819</td> <td>    0.064</td> <td>   -9.086</td> <td> 0.000</td> <td>   -0.707</td> <td>   -0.456</td>\n",
              "</tr>\n",
              "<tr>\n",
              "  <th>ar.L3</th>  <td>   -0.2375</td> <td>    0.049</td> <td>   -4.837</td> <td> 0.000</td> <td>   -0.334</td> <td>   -0.141</td>\n",
              "</tr>\n",
              "<tr>\n",
              "  <th>sigma2</th> <td>    0.3914</td> <td>    0.021</td> <td>   18.303</td> <td> 0.000</td> <td>    0.349</td> <td>    0.433</td>\n",
              "</tr>\n",
              "</table>\n",
              "<table class=\"simpletable\">\n",
              "<tr>\n",
              "  <th>Ljung-Box (L1) (Q):</th>       <td>1.21</td>   <th>  Jarque-Bera (JB):  </th> <td>284.39</td>\n",
              "</tr>\n",
              "<tr>\n",
              "  <th>Prob(Q):</th>                  <td>0.27</td>   <th>  Prob(JB):          </th>  <td>0.00</td> \n",
              "</tr>\n",
              "<tr>\n",
              "  <th>Heteroskedasticity (H):</th> <td>34878.14</td> <th>  Skew:              </th>  <td>-0.31</td>\n",
              "</tr>\n",
              "<tr>\n",
              "  <th>Prob(H) (two-sided):</th>      <td>0.00</td>   <th>  Kurtosis:          </th>  <td>8.91</td> \n",
              "</tr>\n",
              "</table><br/><br/>Warnings:<br/>[1] Covariance matrix calculated using the outer product of gradients (complex-step)."
            ]
          },
          "metadata": {},
          "execution_count": 50
        }
      ]
    },
    {
      "cell_type": "code",
      "source": [
        "### make prediction on test set\n",
        "start = len(train)\n",
        "end = len(train)+len(test)-1\n",
        "pred_arima = model_arima.predict(start=start,end=end)\n",
        "print(pred_arima)"
      ],
      "metadata": {
        "colab": {
          "base_uri": "https://localhost:8080/"
        },
        "id": "LYT2BXbernXR",
        "outputId": "5c8b58aa-3f30-4f27-9e37-e461d2bed1ae"
      },
      "id": "LYT2BXbernXR",
      "execution_count": 51,
      "outputs": [
        {
          "output_type": "stream",
          "name": "stdout",
          "text": [
            "193   -0.167161\n",
            "194    0.084099\n",
            "195   -0.013261\n",
            "196    0.002240\n",
            "197   -0.012652\n",
            "198    0.012848\n",
            "199   -0.001678\n",
            "200   -0.001865\n",
            "201    0.000673\n",
            "202    0.002290\n",
            "203   -0.000379\n",
            "204    0.000119\n",
            "205    0.000907\n",
            "206    0.000648\n",
            "207    0.000269\n",
            "208    0.000523\n",
            "209    0.000611\n",
            "210    0.000486\n",
            "211    0.000470\n",
            "212    0.000534\n",
            "Name: predicted_mean, dtype: float64\n"
          ]
        }
      ]
    },
    {
      "cell_type": "code",
      "source": [
        "# Plot residual errors\n",
        "residuals = pd.DataFrame(model_arima.resid)\n",
        "fig, ax = plt.subplots(1,2)\n",
        "residuals.plot(title=\"Residuals\", ax=ax[0])\n",
        "residuals.plot(kind='kde', title='Density', ax=ax[1])\n",
        "plt.show()"
      ],
      "metadata": {
        "colab": {
          "base_uri": "https://localhost:8080/",
          "height": 295
        },
        "id": "BPtYM2ATr6Ir",
        "outputId": "e61f2fe2-6a17-4999-bb66-78316dccd01c"
      },
      "id": "BPtYM2ATr6Ir",
      "execution_count": 52,
      "outputs": [
        {
          "output_type": "display_data",
          "data": {
            "text/plain": [
              "<Figure size 432x288 with 2 Axes>"
            ],
            "image/png": "[encoded data removed]"
          },
          "metadata": {
            "needs_background": "light"
          }
        }
      ]
    },
    {
      "cell_type": "code",
      "source": [
        "def forecast_accuracy(forecast, actual):\n",
        "    mape = np.mean(np.abs(forecast - actual)/np.abs(actual))  # MAPE\n",
        "    me = np.mean(forecast - actual)             # ME\n",
        "    mae = np.mean(np.abs(forecast - actual))    # MAE\n",
        "    mpe = np.mean((forecast - actual)/actual)   # MPE\n",
        "    rmse = np.mean((forecast - actual)**2)**.5  # RMSE\n",
        "    return({'mape':mape, 'me':me, 'mae': mae, \n",
        "            'mpe': mpe, 'rmse':rmse})"
      ],
      "metadata": {
        "id": "pM9GTklPtTb9"
      },
      "id": "pM9GTklPtTb9",
      "execution_count": 53,
      "outputs": []
    },
    {
      "cell_type": "code",
      "source": [
        "stationary_arima_acc = forecast_accuracy(pred_arima.values, test.values)\n",
        "stationary_arima_acc"
      ],
      "metadata": {
        "colab": {
          "base_uri": "https://localhost:8080/"
        },
        "id": "wb3anALBtdVE",
        "outputId": "32990484-411c-4efe-e22d-d98e5bbb4a14"
      },
      "id": "wb3anALBtdVE",
      "execution_count": 54,
      "outputs": [
        {
          "output_type": "execute_result",
          "data": {
            "text/plain": [
              "{'mape': inf,\n",
              " 'me': -0.014513993335686936,\n",
              " 'mae': 0.48264158866257667,\n",
              " 'mpe': nan,\n",
              " 'rmse': 0.613080009448465}"
            ]
          },
          "metadata": {},
          "execution_count": 54
        }
      ]
    },
    {
      "cell_type": "markdown",
      "source": [
        "# Auto Regressor (AR) model"
      ],
      "metadata": {
        "id": "vxllX6RKuOFS"
      },
      "id": "vxllX6RKuOFS"
    },
    {
      "cell_type": "code",
      "source": [
        "model_ar = AutoReg(train,lags = 6).fit()\n",
        "print(model_ar.summary())"
      ],
      "metadata": {
        "colab": {
          "base_uri": "https://localhost:8080/"
        },
        "id": "d6xggPxCuIZa",
        "outputId": "646fb2a5-a522-4508-830d-390321ea18e4"
      },
      "id": "d6xggPxCuIZa",
      "execution_count": 55,
      "outputs": [
        {
          "output_type": "stream",
          "name": "stdout",
          "text": [
            "                            AutoReg Model Results                             \n",
            "==============================================================================\n",
            "Dep. Variable:                    CO2   No. Observations:                  193\n",
            "Model:                     AutoReg(6)   Log Likelihood                -160.352\n",
            "Method:               Conditional MLE   S.D. of innovations              0.570\n",
            "Date:                Tue, 07 Mar 2023   AIC                            336.704\n",
            "Time:                        16:11:38   BIC                            362.553\n",
            "Sample:                             6   HQIC                           347.178\n",
            "                                  193                                         \n",
            "==============================================================================\n",
            "                 coef    std err          z      P>|z|      [0.025      0.975]\n",
            "------------------------------------------------------------------------------\n",
            "const         -0.0034      0.042     -0.081      0.935      -0.085       0.078\n",
            "CO2.L1        -0.9695      0.071    -13.652      0.000      -1.109      -0.830\n",
            "CO2.L2        -1.0067      0.095    -10.572      0.000      -1.193      -0.820\n",
            "CO2.L3        -0.8215      0.109     -7.550      0.000      -1.035      -0.608\n",
            "CO2.L4        -0.7261      0.109     -6.644      0.000      -0.940      -0.512\n",
            "CO2.L5        -0.4497      0.097     -4.640      0.000      -0.640      -0.260\n",
            "CO2.L6        -0.2465      0.072     -3.406      0.001      -0.388      -0.105\n",
            "                                    Roots                                    \n",
            "=============================================================================\n",
            "                  Real          Imaginary           Modulus         Frequency\n",
            "-----------------------------------------------------------------------------\n",
            "AR.1            0.5959           -1.0389j            1.1977           -0.1671\n",
            "AR.2            0.5959           +1.0389j            1.1977            0.1671\n",
            "AR.3           -1.1186           -0.6459j            1.2917           -0.4167\n",
            "AR.4           -1.1186           +0.6459j            1.2917            0.4167\n",
            "AR.5           -0.3895           -1.2423j            1.3019           -0.2983\n",
            "AR.6           -0.3895           +1.2423j            1.3019            0.2983\n",
            "-----------------------------------------------------------------------------\n"
          ]
        }
      ]
    },
    {
      "cell_type": "code",
      "source": [
        "pred_ar = model_ar.predict(start=start,end=end,dynamic = False)\n",
        "print(pred_ar)"
      ],
      "metadata": {
        "colab": {
          "base_uri": "https://localhost:8080/"
        },
        "id": "ezNiSXf1uUf_",
        "outputId": "bc4ea173-6322-46f2-dc08-a857ad6674ad"
      },
      "id": "ezNiSXf1uUf_",
      "execution_count": 56,
      "outputs": [
        {
          "output_type": "stream",
          "name": "stdout",
          "text": [
            "193   -0.355927\n",
            "194   -0.208764\n",
            "195    0.053936\n",
            "196    0.239338\n",
            "197    0.124217\n",
            "198   -0.146736\n",
            "199   -0.040342\n",
            "200   -0.065187\n",
            "201    0.009840\n",
            "202    0.077525\n",
            "203    0.029742\n",
            "204   -0.016715\n",
            "205   -0.048704\n",
            "206   -0.008430\n",
            "207    0.008656\n",
            "208    0.016361\n",
            "209    0.014504\n",
            "210   -0.008896\n",
            "211   -0.013300\n",
            "212   -0.007153\n",
            "dtype: float64\n"
          ]
        }
      ]
    },
    {
      "cell_type": "code",
      "source": [
        "# Plot residual errors\n",
        "residuals = pd.DataFrame(model_ar.resid)\n",
        "fig, ax = plt.subplots(1,2)\n",
        "residuals.plot(title=\"Residuals\", ax=ax[0])\n",
        "residuals.plot(kind='kde', title='Density', ax=ax[1])\n",
        "plt.show()"
      ],
      "metadata": {
        "colab": {
          "base_uri": "https://localhost:8080/",
          "height": 295
        },
        "id": "QXgKuw2ZubOA",
        "outputId": "58156091-9ad1-4901-d62b-d3a408c146f6"
      },
      "id": "QXgKuw2ZubOA",
      "execution_count": 57,
      "outputs": [
        {
          "output_type": "display_data",
          "data": {
            "text/plain": [
              "<Figure size 432x288 with 2 Axes>"
            ],
            "image/png": "[encoded data removed]"
          },
          "metadata": {
            "needs_background": "light"
          }
        }
      ]
    },
    {
      "cell_type": "code",
      "source": [
        "stationary_ar_acc = forecast_accuracy(pred_ar.values, test.values)\n",
        "stationary_ar_acc"
      ],
      "metadata": {
        "colab": {
          "base_uri": "https://localhost:8080/"
        },
        "id": "sA62blnKumjx",
        "outputId": "f2b22afd-108e-41bf-9e5e-e43ecb8c835f"
      },
      "id": "sA62blnKumjx",
      "execution_count": 58,
      "outputs": [
        {
          "output_type": "execute_result",
          "data": {
            "text/plain": [
              "{'mape': inf,\n",
              " 'me': -0.027301735949541214,\n",
              " 'mae': 0.4959715255851231,\n",
              " 'mpe': nan,\n",
              " 'rmse': 0.6233294379710825}"
            ]
          },
          "metadata": {},
          "execution_count": 58
        }
      ]
    },
    {
      "cell_type": "markdown",
      "source": [
        "# Auto-ARIMA Model"
      ],
      "metadata": {
        "id": "QeI5lRnDvYi6"
      },
      "id": "QeI5lRnDvYi6"
    },
    {
      "cell_type": "code",
      "source": [
        "!pip install pmdarima"
      ],
      "metadata": {
        "colab": {
          "base_uri": "https://localhost:8080/"
        },
        "id": "TzGNBnbGvjfo",
        "outputId": "e44b6f3a-260f-44b5-e0bf-b8bfb68269ff"
      },
      "id": "TzGNBnbGvjfo",
      "execution_count": 59,
      "outputs": [
        {
          "output_type": "stream",
          "name": "stdout",
          "text": [
            "Looking in indexes: https://pypi.org/simple, https://us-python.pkg.dev/colab-wheels/public/simple/\n",
            "Collecting pmdarima\n",
            "  Downloading pmdarima-2.0.2-cp38-cp38-manylinux_2_17_x86_64.manylinux2014_x86_64.manylinux_2_28_x86_64.whl (1.9 MB)\n",
            "\u001b[2K     \u001b[90m━━━━━━━━━━━━━━━━━━━━━━━━━━━━━━━━━━━━━━━━\u001b[0m \u001b[32m1.9/1.9 MB\u001b[0m \u001b[31m20.0 MB/s\u001b[0m eta \u001b[36m0:00:00\u001b[0m\n",
            "\u001b[?25hRequirement already satisfied: pandas>=0.19 in /usr/local/lib/python3.8/dist-packages (from pmdarima) (1.3.5)\n",
            "Requirement already satisfied: urllib3 in /usr/local/lib/python3.8/dist-packages (from pmdarima) (1.26.14)\n",
            "Requirement already satisfied: scikit-learn>=0.22 in /usr/local/lib/python3.8/dist-packages (from pmdarima) (1.2.1)\n",
            "Requirement already satisfied: setuptools!=50.0.0,>=38.6.0 in /usr/local/lib/python3.8/dist-packages (from pmdarima) (57.4.0)\n",
            "Requirement already satisfied: statsmodels>=0.13.2 in /usr/local/lib/python3.8/dist-packages (from pmdarima) (0.13.5)\n",
            "Requirement already satisfied: Cython!=0.29.18,!=0.29.31,>=0.29 in /usr/local/lib/python3.8/dist-packages (from pmdarima) (0.29.33)\n",
            "Requirement already satisfied: joblib>=0.11 in /usr/local/lib/python3.8/dist-packages (from pmdarima) (1.2.0)\n",
            "Requirement already satisfied: scipy>=1.3.2 in /usr/local/lib/python3.8/dist-packages (from pmdarima) (1.10.1)\n",
            "Requirement already satisfied: numpy>=1.21.2 in /usr/local/lib/python3.8/dist-packages (from pmdarima) (1.22.4)\n",
            "Requirement already satisfied: python-dateutil>=2.7.3 in /usr/local/lib/python3.8/dist-packages (from pandas>=0.19->pmdarima) (2.8.2)\n",
            "Requirement already satisfied: pytz>=2017.3 in /usr/local/lib/python3.8/dist-packages (from pandas>=0.19->pmdarima) (2022.7.1)\n",
            "Requirement already satisfied: threadpoolctl>=2.0.0 in /usr/local/lib/python3.8/dist-packages (from scikit-learn>=0.22->pmdarima) (3.1.0)\n",
            "Requirement already satisfied: patsy>=0.5.2 in /usr/local/lib/python3.8/dist-packages (from statsmodels>=0.13.2->pmdarima) (0.5.3)\n",
            "Requirement already satisfied: packaging>=21.3 in /usr/local/lib/python3.8/dist-packages (from statsmodels>=0.13.2->pmdarima) (23.0)\n",
            "Requirement already satisfied: six in /usr/local/lib/python3.8/dist-packages (from patsy>=0.5.2->statsmodels>=0.13.2->pmdarima) (1.15.0)\n",
            "Installing collected packages: pmdarima\n",
            "Successfully installed pmdarima-2.0.2\n"
          ]
        }
      ]
    },
    {
      "cell_type": "code",
      "source": [
        "import pmdarima as pm"
      ],
      "metadata": {
        "id": "4XcDVhlivIir"
      },
      "id": "4XcDVhlivIir",
      "execution_count": 60,
      "outputs": []
    },
    {
      "cell_type": "code",
      "source": [
        "model = pm.auto_arima(train['CO2'], start_p=0, start_q=0,\n",
        "                      test='adf',       # use adftest to find optimal 'd'\n",
        "                      max_p=3, max_q=3, # maximum p and q\n",
        "                      m=1,              # frequency of series\n",
        "                      d=None,           # let model determine 'd'\n",
        "                      seasonal=False,   # No Seasonality\n",
        "                      start_P=0, \n",
        "                      D=0, \n",
        "                      trace=True,\n",
        "                      error_action='ignore',  \n",
        "                      suppress_warnings=True, \n",
        "                      stepwise=True)\n",
        "\n",
        "print(model.summary())"
      ],
      "metadata": {
        "colab": {
          "base_uri": "https://localhost:8080/"
        },
        "id": "EcSqR4qRvh0N",
        "outputId": "ab15b279-5aa0-4b72-98a1-237bf2235d8b"
      },
      "id": "EcSqR4qRvh0N",
      "execution_count": 61,
      "outputs": [
        {
          "output_type": "stream",
          "name": "stdout",
          "text": [
            "Performing stepwise search to minimize aic\n",
            " ARIMA(0,0,0)(0,0,0)[0]             : AIC=466.471, Time=0.05 sec\n",
            " ARIMA(1,0,0)(0,0,0)[0]             : AIC=421.365, Time=0.03 sec\n",
            " ARIMA(0,0,1)(0,0,0)[0]             : AIC=inf, Time=0.09 sec\n",
            " ARIMA(2,0,0)(0,0,0)[0]             : AIC=384.807, Time=0.05 sec\n",
            " ARIMA(3,0,0)(0,0,0)[0]             : AIC=375.489, Time=0.06 sec\n",
            " ARIMA(3,0,1)(0,0,0)[0]             : AIC=inf, Time=0.20 sec\n",
            " ARIMA(2,0,1)(0,0,0)[0]             : AIC=333.120, Time=0.14 sec\n",
            " ARIMA(1,0,1)(0,0,0)[0]             : AIC=inf, Time=0.13 sec\n",
            " ARIMA(2,0,2)(0,0,0)[0]             : AIC=inf, Time=0.29 sec\n",
            " ARIMA(1,0,2)(0,0,0)[0]             : AIC=inf, Time=0.48 sec\n",
            " ARIMA(3,0,2)(0,0,0)[0]             : AIC=inf, Time=0.78 sec\n",
            " ARIMA(2,0,1)(0,0,0)[0] intercept   : AIC=inf, Time=1.74 sec\n",
            "\n",
            "Best model:  ARIMA(2,0,1)(0,0,0)[0]          \n",
            "Total fit time: 4.072 seconds\n",
            "                               SARIMAX Results                                \n",
            "==============================================================================\n",
            "Dep. Variable:                      y   No. Observations:                  193\n",
            "Model:               SARIMAX(2, 0, 1)   Log Likelihood                -162.560\n",
            "Date:                Tue, 07 Mar 2023   AIC                            333.120\n",
            "Time:                        16:11:48   BIC                            346.170\n",
            "Sample:                             0   HQIC                           338.405\n",
            "                                - 193                                         \n",
            "Covariance Type:                  opg                                         \n",
            "==============================================================================\n",
            "                 coef    std err          z      P>|z|      [0.025      0.975]\n",
            "------------------------------------------------------------------------------\n",
            "ar.L1         -0.0474      0.043     -1.101      0.271      -0.132       0.037\n",
            "ar.L2         -0.1136      0.049     -2.302      0.021      -0.210      -0.017\n",
            "ma.L1         -0.9879      0.012    -80.574      0.000      -1.012      -0.964\n",
            "sigma2         0.3090      0.022     13.830      0.000       0.265       0.353\n",
            "===================================================================================\n",
            "Ljung-Box (L1) (Q):                   0.00   Jarque-Bera (JB):                99.73\n",
            "Prob(Q):                              0.96   Prob(JB):                         0.00\n",
            "Heteroskedasticity (H):            3712.33   Skew:                            -0.44\n",
            "Prob(H) (two-sided):                  0.00   Kurtosis:                         6.41\n",
            "===================================================================================\n",
            "\n",
            "Warnings:\n",
            "[1] Covariance matrix calculated using the outer product of gradients (complex-step).\n"
          ]
        }
      ]
    },
    {
      "cell_type": "code",
      "source": [
        "model.plot_diagnostics(figsize=(7,5))\n",
        "plt.show()\n"
      ],
      "metadata": {
        "colab": {
          "base_uri": "https://localhost:8080/",
          "height": 350
        },
        "id": "wqik98y9vxd-",
        "outputId": "9482a69d-5215-407d-fac4-685a3222db0b"
      },
      "id": "wqik98y9vxd-",
      "execution_count": 62,
      "outputs": [
        {
          "output_type": "display_data",
          "data": {
            "text/plain": [
              "<Figure size 504x360 with 4 Axes>"
            ],
            "image/png": "[encoded data removed]"
          },
          "metadata": {
            "needs_background": "light"
          }
        }
      ]
    },
    {
      "cell_type": "code",
      "source": [
        "pred_aa = model.predict(start=start,end=end)\n",
        "print(pred_aa)"
      ],
      "metadata": {
        "colab": {
          "base_uri": "https://localhost:8080/"
        },
        "id": "otwHkAOUv6U9",
        "outputId": "630c624b-e880-499d-b50f-f3cd38d4b6f9"
      },
      "id": "otwHkAOUv6U9",
      "execution_count": 63,
      "outputs": [
        {
          "output_type": "stream",
          "name": "stdout",
          "text": [
            "193   -1.036471e-01\n",
            "194   -1.780155e-02\n",
            "195    1.261574e-02\n",
            "196    1.423748e-03\n",
            "197   -1.500342e-03\n",
            "198   -9.057615e-05\n",
            "199    1.746967e-04\n",
            "200    2.005344e-06\n",
            "201   -1.993642e-05\n",
            "202    7.173762e-07\n",
            "dtype: float64\n"
          ]
        }
      ]
    },
    {
      "cell_type": "code",
      "source": [
        "stationary_aa_acc = forecast_accuracy(pred_aa.values, test.values)\n",
        "stationary_aa_acc"
      ],
      "metadata": {
        "colab": {
          "base_uri": "https://localhost:8080/"
        },
        "id": "MPN-LNCG0-u5",
        "outputId": "0742f9e3-8752-487b-a988-68eecd9b89c1"
      },
      "id": "MPN-LNCG0-u5",
      "execution_count": 64,
      "outputs": [
        {
          "output_type": "execute_result",
          "data": {
            "text/plain": [
              "{'mape': inf,\n",
              " 'me': -0.020884256825681246,\n",
              " 'mae': 0.482534131099097,\n",
              " 'mpe': nan,\n",
              " 'rmse': 0.6126499764988558}"
            ]
          },
          "metadata": {},
          "execution_count": 64
        }
      ]
    },
    {
      "cell_type": "code",
      "source": [
        "data = {\"MODEL\":pd.Series([\"ARIMA\",\"Auto Regressor\",\"Auto ARIMA\"]),\"RMSE_Values\":pd.Series([stationary_arima_acc[\"rmse\"],stationary_ar_acc[\"rmse\"],\n",
        "stationary_aa_acc[\"rmse\"]]),\"MAPE_values\":pd.Series([stationary_arima_acc[\"mape\"],stationary_ar_acc[\"mape\"],stationary_aa_acc[\"mape\"]]),\n",
        "\"ME_values\":pd.Series([stationary_arima_acc[\"me\"],stationary_ar_acc[\"me\"],stationary_aa_acc[\"me\"]]),\n",
        "\"MAE_values\":pd.Series([stationary_arima_acc[\"mae\"],stationary_ar_acc[\"mae\"],stationary_aa_acc[\"mae\"]]),\n",
        "        \"MPE_values\":pd.Series([stationary_arima_acc[\"mpe\"],stationary_ar_acc[\"mpe\"],stationary_aa_acc[\"mpe\"]])}\n",
        "\n",
        "table_rmse=pd.DataFrame(data)\n",
        "table_rmse.sort_values(['RMSE_Values'])"
      ],
      "metadata": {
        "colab": {
          "base_uri": "https://localhost:8080/",
          "height": 143
        },
        "id": "jEOzERKb2b5q",
        "outputId": "4dea63e9-1ff6-4ee5-b746-82499ea7d611"
      },
      "id": "jEOzERKb2b5q",
      "execution_count": 65,
      "outputs": [
        {
          "output_type": "execute_result",
          "data": {
            "text/plain": [
              "            MODEL  RMSE_Values  MAPE_values  ME_values  MAE_values  MPE_values\n",
              "2      Auto ARIMA     0.612650          inf  -0.020884    0.482534         NaN\n",
              "0           ARIMA     0.613080          inf  -0.014514    0.482642         NaN\n",
              "1  Auto Regressor     0.623329          inf  -0.027302    0.495972         NaN"
            ],
            "text/html": [
              "\n",
              "  <div id=\"df-d5881402-8ba2-44fd-87b1-d9f4d1e90b2a\">\n",
              "    <div class=\"colab-df-container\">\n",
              "      <div>\n",
              "<style scoped>\n",
              "    .dataframe tbody tr th:only-of-type {\n",
              "        vertical-align: middle;\n",
              "    }\n",
              "\n",
              "    .dataframe tbody tr th {\n",
              "        vertical-align: top;\n",
              "    }\n",
              "\n",
              "    .dataframe thead th {\n",
              "        text-align: right;\n",
              "    }\n",
              "</style>\n",
              "<table border=\"1\" class=\"dataframe\">\n",
              "  <thead>\n",
              "    <tr style=\"text-align: right;\">\n",
              "      <th></th>\n",
              "      <th>MODEL</th>\n",
              "      <th>RMSE_Values</th>\n",
              "      <th>MAPE_values</th>\n",
              "      <th>ME_values</th>\n",
              "      <th>MAE_values</th>\n",
              "      <th>MPE_values</th>\n",
              "    </tr>\n",
              "  </thead>\n",
              "  <tbody>\n",
              "    <tr>\n",
              "      <th>2</th>\n",
              "      <td>Auto ARIMA</td>\n",
              "      <td>0.612650</td>\n",
              "      <td>inf</td>\n",
              "      <td>-0.020884</td>\n",
              "      <td>0.482534</td>\n",
              "      <td>NaN</td>\n",
              "    </tr>\n",
              "    <tr>\n",
              "      <th>0</th>\n",
              "      <td>ARIMA</td>\n",
              "      <td>0.613080</td>\n",
              "      <td>inf</td>\n",
              "      <td>-0.014514</td>\n",
              "      <td>0.482642</td>\n",
              "      <td>NaN</td>\n",
              "    </tr>\n",
              "    <tr>\n",
              "      <th>1</th>\n",
              "      <td>Auto Regressor</td>\n",
              "      <td>0.623329</td>\n",
              "      <td>inf</td>\n",
              "      <td>-0.027302</td>\n",
              "      <td>0.495972</td>\n",
              "      <td>NaN</td>\n",
              "    </tr>\n",
              "  </tbody>\n",
              "</table>\n",
              "</div>\n",
              "      <button class=\"colab-df-convert\" onclick=\"convertToInteractive('df-d5881402-8ba2-44fd-87b1-d9f4d1e90b2a')\"\n",
              "              title=\"Convert this dataframe to an interactive table.\"\n",
              "              style=\"display:none;\">\n",
              "        \n",
              "  <svg xmlns=\"http://www.w3.org/2000/svg\" height=\"24px\"viewBox=\"0 0 24 24\"\n",
              "       width=\"24px\">\n",
              "    <path d=\"M0 0h24v24H0V0z\" fill=\"none\"/>\n",
              "    <path d=\"M18.56 5.44l.94 2.06.94-2.06 2.06-.94-2.06-.94-.94-2.06-.94 2.06-2.06.94zm-11 1L8.5 8.5l.94-2.06 2.06-.94-2.06-.94L8.5 2.5l-.94 2.06-2.06.94zm10 10l.94 2.06.94-2.06 2.06-.94-2.06-.94-.94-2.06-.94 2.06-2.06.94z\"/><path d=\"M17.41 7.96l-1.37-1.37c-.4-.4-.92-.59-1.43-.59-.52 0-1.04.2-1.43.59L10.3 9.45l-7.72 7.72c-.78.78-.78 2.05 0 2.83L4 21.41c.39.39.9.59 1.41.59.51 0 1.02-.2 1.41-.59l7.78-7.78 2.81-2.81c.8-.78.8-2.07 0-2.86zM5.41 20L4 18.59l7.72-7.72 1.47 1.35L5.41 20z\"/>\n",
              "  </svg>\n",
              "      </button>\n",
              "      \n",
              "  <style>\n",
              "    .colab-df-container {\n",
              "      display:flex;\n",
              "      flex-wrap:wrap;\n",
              "      gap: 12px;\n",
              "    }\n",
              "\n",
              "    .colab-df-convert {\n",
              "      background-color: #E8F0FE;\n",
              "      border: none;\n",
              "      border-radius: 50%;\n",
              "      cursor: pointer;\n",
              "      display: none;\n",
              "      fill: #1967D2;\n",
              "      height: 32px;\n",
              "      padding: 0 0 0 0;\n",
              "      width: 32px;\n",
              "    }\n",
              "\n",
              "    .colab-df-convert:hover {\n",
              "      background-color: #E2EBFA;\n",
              "      box-shadow: 0px 1px 2px rgba(60, 64, 67, 0.3), 0px 1px 3px 1px rgba(60, 64, 67, 0.15);\n",
              "      fill: #174EA6;\n",
              "    }\n",
              "\n",
              "    [theme=dark] .colab-df-convert {\n",
              "      background-color: #3B4455;\n",
              "      fill: #D2E3FC;\n",
              "    }\n",
              "\n",
              "    [theme=dark] .colab-df-convert:hover {\n",
              "      background-color: #434B5C;\n",
              "      box-shadow: 0px 1px 3px 1px rgba(0, 0, 0, 0.15);\n",
              "      filter: drop-shadow(0px 1px 2px rgba(0, 0, 0, 0.3));\n",
              "      fill: #FFFFFF;\n",
              "    }\n",
              "  </style>\n",
              "\n",
              "      <script>\n",
              "        const buttonEl =\n",
              "          document.querySelector('#df-d5881402-8ba2-44fd-87b1-d9f4d1e90b2a button.colab-df-convert');\n",
              "        buttonEl.style.display =\n",
              "          google.colab.kernel.accessAllowed ? 'block' : 'none';\n",
              "\n",
              "        async function convertToInteractive(key) {\n",
              "          const element = document.querySelector('#df-d5881402-8ba2-44fd-87b1-d9f4d1e90b2a');\n",
              "          const dataTable =\n",
              "            await google.colab.kernel.invokeFunction('convertToInteractive',\n",
              "                                                     [key], {});\n",
              "          if (!dataTable) return;\n",
              "\n",
              "          const docLinkHtml = 'Like what you see? Visit the ' +\n",
              "            '<a target=\"_blank\" href=https://colab.research.google.com/notebooks/data_table.ipynb>data table notebook</a>'\n",
              "            + ' to learn more about interactive tables.';\n",
              "          element.innerHTML = '';\n",
              "          dataTable['output_type'] = 'display_data';\n",
              "          await google.colab.output.renderOutput(dataTable, element);\n",
              "          const docLink = document.createElement('div');\n",
              "          docLink.innerHTML = docLinkHtml;\n",
              "          element.appendChild(docLink);\n",
              "        }\n",
              "      </script>\n",
              "    </div>\n",
              "  </div>\n",
              "  "
            ]
          },
          "metadata": {},
          "execution_count": 65
        }
      ]
    },
    {
      "cell_type": "markdown",
      "source": [
        "#MODEL BUILDING ON NON-STATIONARY DATA / ORIGINAL DATA"
      ],
      "metadata": {
        "id": "K4-LYozy2pB6"
      },
      "id": "K4-LYozy2pB6"
    },
    {
      "cell_type": "code",
      "source": [
        "df.head()"
      ],
      "metadata": {
        "colab": {
          "base_uri": "https://localhost:8080/",
          "height": 238
        },
        "id": "pXch8ZBs2jq8",
        "outputId": "1221ef89-1b6f-4f01-abac-773b6b0ae28f"
      },
      "id": "pXch8ZBs2jq8",
      "execution_count": 66,
      "outputs": [
        {
          "output_type": "execute_result",
          "data": {
            "text/plain": [
              "            CO2\n",
              "Year           \n",
              "1800.0  0.00568\n",
              "1801.0  0.00561\n",
              "1802.0  0.00555\n",
              "1803.0  0.00548\n",
              "1804.0  0.00542"
            ],
            "text/html": [
              "\n",
              "  <div id=\"df-43627910-7ff2-4585-9bbc-d6b70c0e0908\">\n",
              "    <div class=\"colab-df-container\">\n",
              "      <div>\n",
              "<style scoped>\n",
              "    .dataframe tbody tr th:only-of-type {\n",
              "        vertical-align: middle;\n",
              "    }\n",
              "\n",
              "    .dataframe tbody tr th {\n",
              "        vertical-align: top;\n",
              "    }\n",
              "\n",
              "    .dataframe thead th {\n",
              "        text-align: right;\n",
              "    }\n",
              "</style>\n",
              "<table border=\"1\" class=\"dataframe\">\n",
              "  <thead>\n",
              "    <tr style=\"text-align: right;\">\n",
              "      <th></th>\n",
              "      <th>CO2</th>\n",
              "    </tr>\n",
              "    <tr>\n",
              "      <th>Year</th>\n",
              "      <th></th>\n",
              "    </tr>\n",
              "  </thead>\n",
              "  <tbody>\n",
              "    <tr>\n",
              "      <th>1800.0</th>\n",
              "      <td>0.00568</td>\n",
              "    </tr>\n",
              "    <tr>\n",
              "      <th>1801.0</th>\n",
              "      <td>0.00561</td>\n",
              "    </tr>\n",
              "    <tr>\n",
              "      <th>1802.0</th>\n",
              "      <td>0.00555</td>\n",
              "    </tr>\n",
              "    <tr>\n",
              "      <th>1803.0</th>\n",
              "      <td>0.00548</td>\n",
              "    </tr>\n",
              "    <tr>\n",
              "      <th>1804.0</th>\n",
              "      <td>0.00542</td>\n",
              "    </tr>\n",
              "  </tbody>\n",
              "</table>\n",
              "</div>\n",
              "      <button class=\"colab-df-convert\" onclick=\"convertToInteractive('df-43627910-7ff2-4585-9bbc-d6b70c0e0908')\"\n",
              "              title=\"Convert this dataframe to an interactive table.\"\n",
              "              style=\"display:none;\">\n",
              "        \n",
              "  <svg xmlns=\"http://www.w3.org/2000/svg\" height=\"24px\"viewBox=\"0 0 24 24\"\n",
              "       width=\"24px\">\n",
              "    <path d=\"M0 0h24v24H0V0z\" fill=\"none\"/>\n",
              "    <path d=\"M18.56 5.44l.94 2.06.94-2.06 2.06-.94-2.06-.94-.94-2.06-.94 2.06-2.06.94zm-11 1L8.5 8.5l.94-2.06 2.06-.94-2.06-.94L8.5 2.5l-.94 2.06-2.06.94zm10 10l.94 2.06.94-2.06 2.06-.94-2.06-.94-.94-2.06-.94 2.06-2.06.94z\"/><path d=\"M17.41 7.96l-1.37-1.37c-.4-.4-.92-.59-1.43-.59-.52 0-1.04.2-1.43.59L10.3 9.45l-7.72 7.72c-.78.78-.78 2.05 0 2.83L4 21.41c.39.39.9.59 1.41.59.51 0 1.02-.2 1.41-.59l7.78-7.78 2.81-2.81c.8-.78.8-2.07 0-2.86zM5.41 20L4 18.59l7.72-7.72 1.47 1.35L5.41 20z\"/>\n",
              "  </svg>\n",
              "      </button>\n",
              "      \n",
              "  <style>\n",
              "    .colab-df-container {\n",
              "      display:flex;\n",
              "      flex-wrap:wrap;\n",
              "      gap: 12px;\n",
              "    }\n",
              "\n",
              "    .colab-df-convert {\n",
              "      background-color: #E8F0FE;\n",
              "      border: none;\n",
              "      border-radius: 50%;\n",
              "      cursor: pointer;\n",
              "      display: none;\n",
              "      fill: #1967D2;\n",
              "      height: 32px;\n",
              "      padding: 0 0 0 0;\n",
              "      width: 32px;\n",
              "    }\n",
              "\n",
              "    .colab-df-convert:hover {\n",
              "      background-color: #E2EBFA;\n",
              "      box-shadow: 0px 1px 2px rgba(60, 64, 67, 0.3), 0px 1px 3px 1px rgba(60, 64, 67, 0.15);\n",
              "      fill: #174EA6;\n",
              "    }\n",
              "\n",
              "    [theme=dark] .colab-df-convert {\n",
              "      background-color: #3B4455;\n",
              "      fill: #D2E3FC;\n",
              "    }\n",
              "\n",
              "    [theme=dark] .colab-df-convert:hover {\n",
              "      background-color: #434B5C;\n",
              "      box-shadow: 0px 1px 3px 1px rgba(0, 0, 0, 0.15);\n",
              "      filter: drop-shadow(0px 1px 2px rgba(0, 0, 0, 0.3));\n",
              "      fill: #FFFFFF;\n",
              "    }\n",
              "  </style>\n",
              "\n",
              "      <script>\n",
              "        const buttonEl =\n",
              "          document.querySelector('#df-43627910-7ff2-4585-9bbc-d6b70c0e0908 button.colab-df-convert');\n",
              "        buttonEl.style.display =\n",
              "          google.colab.kernel.accessAllowed ? 'block' : 'none';\n",
              "\n",
              "        async function convertToInteractive(key) {\n",
              "          const element = document.querySelector('#df-43627910-7ff2-4585-9bbc-d6b70c0e0908');\n",
              "          const dataTable =\n",
              "            await google.colab.kernel.invokeFunction('convertToInteractive',\n",
              "                                                     [key], {});\n",
              "          if (!dataTable) return;\n",
              "\n",
              "          const docLinkHtml = 'Like what you see? Visit the ' +\n",
              "            '<a target=\"_blank\" href=https://colab.research.google.com/notebooks/data_table.ipynb>data table notebook</a>'\n",
              "            + ' to learn more about interactive tables.';\n",
              "          element.innerHTML = '';\n",
              "          dataTable['output_type'] = 'display_data';\n",
              "          await google.colab.output.renderOutput(dataTable, element);\n",
              "          const docLink = document.createElement('div');\n",
              "          docLink.innerHTML = docLinkHtml;\n",
              "          element.appendChild(docLink);\n",
              "        }\n",
              "      </script>\n",
              "    </div>\n",
              "  </div>\n",
              "  "
            ]
          },
          "metadata": {},
          "execution_count": 66
        }
      ]
    },
    {
      "cell_type": "code",
      "source": [
        "df.plot(figsize=(15, 6))\n",
        "plt.show()"
      ],
      "metadata": {
        "colab": {
          "base_uri": "https://localhost:8080/",
          "height": 388
        },
        "id": "FYku5RVw2txb",
        "outputId": "d0ae2775-6335-4214-be08-0018c8a4284b"
      },
      "id": "FYku5RVw2txb",
      "execution_count": 67,
      "outputs": [
        {
          "output_type": "display_data",
          "data": {
            "text/plain": [
              "<Figure size 1080x432 with 1 Axes>"
            ],
            "image/png": "[encoded data removed]"
          },
          "metadata": {
            "needs_background": "light"
          }
        }
      ]
    },
    {
      "cell_type": "code",
      "source": [
        "df.shape"
      ],
      "metadata": {
        "colab": {
          "base_uri": "https://localhost:8080/"
        },
        "id": "DcNPU8_k29Li",
        "outputId": "442ea242-de5c-471a-b1ad-5bf6b4600711"
      },
      "id": "DcNPU8_k29Li",
      "execution_count": 68,
      "outputs": [
        {
          "output_type": "execute_result",
          "data": {
            "text/plain": [
              "(215, 1)"
            ]
          },
          "metadata": {},
          "execution_count": 68
        }
      ]
    },
    {
      "cell_type": "code",
      "source": [
        "train = df.iloc[:195]\n",
        "\n",
        "test = df.iloc[195:]\n",
        "\n",
        "print(train.shape,test.shape)"
      ],
      "metadata": {
        "colab": {
          "base_uri": "https://localhost:8080/"
        },
        "id": "Vq0pVXIH2wfc",
        "outputId": "3832883b-25e9-4895-c579-51fd224a7c21"
      },
      "id": "Vq0pVXIH2wfc",
      "execution_count": 69,
      "outputs": [
        {
          "output_type": "stream",
          "name": "stdout",
          "text": [
            "(195, 1) (20, 1)\n"
          ]
        }
      ]
    },
    {
      "cell_type": "code",
      "source": [
        "train.head()"
      ],
      "metadata": {
        "colab": {
          "base_uri": "https://localhost:8080/",
          "height": 238
        },
        "id": "z_EsDrhH21cQ",
        "outputId": "8985f1da-f54d-4b3d-d43d-9e4735a047c6"
      },
      "id": "z_EsDrhH21cQ",
      "execution_count": 70,
      "outputs": [
        {
          "output_type": "execute_result",
          "data": {
            "text/plain": [
              "            CO2\n",
              "Year           \n",
              "1800.0  0.00568\n",
              "1801.0  0.00561\n",
              "1802.0  0.00555\n",
              "1803.0  0.00548\n",
              "1804.0  0.00542"
            ],
            "text/html": [
              "\n",
              "  <div id=\"df-4ff6c7a0-1f13-49af-91fd-25796a8d49ee\">\n",
              "    <div class=\"colab-df-container\">\n",
              "      <div>\n",
              "<style scoped>\n",
              "    .dataframe tbody tr th:only-of-type {\n",
              "        vertical-align: middle;\n",
              "    }\n",
              "\n",
              "    .dataframe tbody tr th {\n",
              "        vertical-align: top;\n",
              "    }\n",
              "\n",
              "    .dataframe thead th {\n",
              "        text-align: right;\n",
              "    }\n",
              "</style>\n",
              "<table border=\"1\" class=\"dataframe\">\n",
              "  <thead>\n",
              "    <tr style=\"text-align: right;\">\n",
              "      <th></th>\n",
              "      <th>CO2</th>\n",
              "    </tr>\n",
              "    <tr>\n",
              "      <th>Year</th>\n",
              "      <th></th>\n",
              "    </tr>\n",
              "  </thead>\n",
              "  <tbody>\n",
              "    <tr>\n",
              "      <th>1800.0</th>\n",
              "      <td>0.00568</td>\n",
              "    </tr>\n",
              "    <tr>\n",
              "      <th>1801.0</th>\n",
              "      <td>0.00561</td>\n",
              "    </tr>\n",
              "    <tr>\n",
              "      <th>1802.0</th>\n",
              "      <td>0.00555</td>\n",
              "    </tr>\n",
              "    <tr>\n",
              "      <th>1803.0</th>\n",
              "      <td>0.00548</td>\n",
              "    </tr>\n",
              "    <tr>\n",
              "      <th>1804.0</th>\n",
              "      <td>0.00542</td>\n",
              "    </tr>\n",
              "  </tbody>\n",
              "</table>\n",
              "</div>\n",
              "      <button class=\"colab-df-convert\" onclick=\"convertToInteractive('df-4ff6c7a0-1f13-49af-91fd-25796a8d49ee')\"\n",
              "              title=\"Convert this dataframe to an interactive table.\"\n",
              "              style=\"display:none;\">\n",
              "        \n",
              "  <svg xmlns=\"http://www.w3.org/2000/svg\" height=\"24px\"viewBox=\"0 0 24 24\"\n",
              "       width=\"24px\">\n",
              "    <path d=\"M0 0h24v24H0V0z\" fill=\"none\"/>\n",
              "    <path d=\"M18.56 5.44l.94 2.06.94-2.06 2.06-.94-2.06-.94-.94-2.06-.94 2.06-2.06.94zm-11 1L8.5 8.5l.94-2.06 2.06-.94-2.06-.94L8.5 2.5l-.94 2.06-2.06.94zm10 10l.94 2.06.94-2.06 2.06-.94-2.06-.94-.94-2.06-.94 2.06-2.06.94z\"/><path d=\"M17.41 7.96l-1.37-1.37c-.4-.4-.92-.59-1.43-.59-.52 0-1.04.2-1.43.59L10.3 9.45l-7.72 7.72c-.78.78-.78 2.05 0 2.83L4 21.41c.39.39.9.59 1.41.59.51 0 1.02-.2 1.41-.59l7.78-7.78 2.81-2.81c.8-.78.8-2.07 0-2.86zM5.41 20L4 18.59l7.72-7.72 1.47 1.35L5.41 20z\"/>\n",
              "  </svg>\n",
              "      </button>\n",
              "      \n",
              "  <style>\n",
              "    .colab-df-container {\n",
              "      display:flex;\n",
              "      flex-wrap:wrap;\n",
              "      gap: 12px;\n",
              "    }\n",
              "\n",
              "    .colab-df-convert {\n",
              "      background-color: #E8F0FE;\n",
              "      border: none;\n",
              "      border-radius: 50%;\n",
              "      cursor: pointer;\n",
              "      display: none;\n",
              "      fill: #1967D2;\n",
              "      height: 32px;\n",
              "      padding: 0 0 0 0;\n",
              "      width: 32px;\n",
              "    }\n",
              "\n",
              "    .colab-df-convert:hover {\n",
              "      background-color: #E2EBFA;\n",
              "      box-shadow: 0px 1px 2px rgba(60, 64, 67, 0.3), 0px 1px 3px 1px rgba(60, 64, 67, 0.15);\n",
              "      fill: #174EA6;\n",
              "    }\n",
              "\n",
              "    [theme=dark] .colab-df-convert {\n",
              "      background-color: #3B4455;\n",
              "      fill: #D2E3FC;\n",
              "    }\n",
              "\n",
              "    [theme=dark] .colab-df-convert:hover {\n",
              "      background-color: #434B5C;\n",
              "      box-shadow: 0px 1px 3px 1px rgba(0, 0, 0, 0.15);\n",
              "      filter: drop-shadow(0px 1px 2px rgba(0, 0, 0, 0.3));\n",
              "      fill: #FFFFFF;\n",
              "    }\n",
              "  </style>\n",
              "\n",
              "      <script>\n",
              "        const buttonEl =\n",
              "          document.querySelector('#df-4ff6c7a0-1f13-49af-91fd-25796a8d49ee button.colab-df-convert');\n",
              "        buttonEl.style.display =\n",
              "          google.colab.kernel.accessAllowed ? 'block' : 'none';\n",
              "\n",
              "        async function convertToInteractive(key) {\n",
              "          const element = document.querySelector('#df-4ff6c7a0-1f13-49af-91fd-25796a8d49ee');\n",
              "          const dataTable =\n",
              "            await google.colab.kernel.invokeFunction('convertToInteractive',\n",
              "                                                     [key], {});\n",
              "          if (!dataTable) return;\n",
              "\n",
              "          const docLinkHtml = 'Like what you see? Visit the ' +\n",
              "            '<a target=\"_blank\" href=https://colab.research.google.com/notebooks/data_table.ipynb>data table notebook</a>'\n",
              "            + ' to learn more about interactive tables.';\n",
              "          element.innerHTML = '';\n",
              "          dataTable['output_type'] = 'display_data';\n",
              "          await google.colab.output.renderOutput(dataTable, element);\n",
              "          const docLink = document.createElement('div');\n",
              "          docLink.innerHTML = docLinkHtml;\n",
              "          element.appendChild(docLink);\n",
              "        }\n",
              "      </script>\n",
              "    </div>\n",
              "  </div>\n",
              "  "
            ]
          },
          "metadata": {},
          "execution_count": 70
        }
      ]
    },
    {
      "cell_type": "code",
      "source": [
        "test.head()"
      ],
      "metadata": {
        "colab": {
          "base_uri": "https://localhost:8080/",
          "height": 238
        },
        "id": "7H0GDIL14oyK",
        "outputId": "bf08e1bc-469a-4436-e17e-44ed075a1f91"
      },
      "id": "7H0GDIL14oyK",
      "execution_count": 71,
      "outputs": [
        {
          "output_type": "execute_result",
          "data": {
            "text/plain": [
              "         CO2\n",
              "Year        \n",
              "1995.0  15.9\n",
              "1996.0  16.2\n",
              "1997.0  16.6\n",
              "1998.0  16.8\n",
              "1999.0  16.9"
            ],
            "text/html": [
              "\n",
              "  <div id=\"df-82325f0c-9839-48a5-bda0-7bfcfcea1760\">\n",
              "    <div class=\"colab-df-container\">\n",
              "      <div>\n",
              "<style scoped>\n",
              "    .dataframe tbody tr th:only-of-type {\n",
              "        vertical-align: middle;\n",
              "    }\n",
              "\n",
              "    .dataframe tbody tr th {\n",
              "        vertical-align: top;\n",
              "    }\n",
              "\n",
              "    .dataframe thead th {\n",
              "        text-align: right;\n",
              "    }\n",
              "</style>\n",
              "<table border=\"1\" class=\"dataframe\">\n",
              "  <thead>\n",
              "    <tr style=\"text-align: right;\">\n",
              "      <th></th>\n",
              "      <th>CO2</th>\n",
              "    </tr>\n",
              "    <tr>\n",
              "      <th>Year</th>\n",
              "      <th></th>\n",
              "    </tr>\n",
              "  </thead>\n",
              "  <tbody>\n",
              "    <tr>\n",
              "      <th>1995.0</th>\n",
              "      <td>15.9</td>\n",
              "    </tr>\n",
              "    <tr>\n",
              "      <th>1996.0</th>\n",
              "      <td>16.2</td>\n",
              "    </tr>\n",
              "    <tr>\n",
              "      <th>1997.0</th>\n",
              "      <td>16.6</td>\n",
              "    </tr>\n",
              "    <tr>\n",
              "      <th>1998.0</th>\n",
              "      <td>16.8</td>\n",
              "    </tr>\n",
              "    <tr>\n",
              "      <th>1999.0</th>\n",
              "      <td>16.9</td>\n",
              "    </tr>\n",
              "  </tbody>\n",
              "</table>\n",
              "</div>\n",
              "      <button class=\"colab-df-convert\" onclick=\"convertToInteractive('df-82325f0c-9839-48a5-bda0-7bfcfcea1760')\"\n",
              "              title=\"Convert this dataframe to an interactive table.\"\n",
              "              style=\"display:none;\">\n",
              "        \n",
              "  <svg xmlns=\"http://www.w3.org/2000/svg\" height=\"24px\"viewBox=\"0 0 24 24\"\n",
              "       width=\"24px\">\n",
              "    <path d=\"M0 0h24v24H0V0z\" fill=\"none\"/>\n",
              "    <path d=\"M18.56 5.44l.94 2.06.94-2.06 2.06-.94-2.06-.94-.94-2.06-.94 2.06-2.06.94zm-11 1L8.5 8.5l.94-2.06 2.06-.94-2.06-.94L8.5 2.5l-.94 2.06-2.06.94zm10 10l.94 2.06.94-2.06 2.06-.94-2.06-.94-.94-2.06-.94 2.06-2.06.94z\"/><path d=\"M17.41 7.96l-1.37-1.37c-.4-.4-.92-.59-1.43-.59-.52 0-1.04.2-1.43.59L10.3 9.45l-7.72 7.72c-.78.78-.78 2.05 0 2.83L4 21.41c.39.39.9.59 1.41.59.51 0 1.02-.2 1.41-.59l7.78-7.78 2.81-2.81c.8-.78.8-2.07 0-2.86zM5.41 20L4 18.59l7.72-7.72 1.47 1.35L5.41 20z\"/>\n",
              "  </svg>\n",
              "      </button>\n",
              "      \n",
              "  <style>\n",
              "    .colab-df-container {\n",
              "      display:flex;\n",
              "      flex-wrap:wrap;\n",
              "      gap: 12px;\n",
              "    }\n",
              "\n",
              "    .colab-df-convert {\n",
              "      background-color: #E8F0FE;\n",
              "      border: none;\n",
              "      border-radius: 50%;\n",
              "      cursor: pointer;\n",
              "      display: none;\n",
              "      fill: #1967D2;\n",
              "      height: 32px;\n",
              "      padding: 0 0 0 0;\n",
              "      width: 32px;\n",
              "    }\n",
              "\n",
              "    .colab-df-convert:hover {\n",
              "      background-color: #E2EBFA;\n",
              "      box-shadow: 0px 1px 2px rgba(60, 64, 67, 0.3), 0px 1px 3px 1px rgba(60, 64, 67, 0.15);\n",
              "      fill: #174EA6;\n",
              "    }\n",
              "\n",
              "    [theme=dark] .colab-df-convert {\n",
              "      background-color: #3B4455;\n",
              "      fill: #D2E3FC;\n",
              "    }\n",
              "\n",
              "    [theme=dark] .colab-df-convert:hover {\n",
              "      background-color: #434B5C;\n",
              "      box-shadow: 0px 1px 3px 1px rgba(0, 0, 0, 0.15);\n",
              "      filter: drop-shadow(0px 1px 2px rgba(0, 0, 0, 0.3));\n",
              "      fill: #FFFFFF;\n",
              "    }\n",
              "  </style>\n",
              "\n",
              "      <script>\n",
              "        const buttonEl =\n",
              "          document.querySelector('#df-82325f0c-9839-48a5-bda0-7bfcfcea1760 button.colab-df-convert');\n",
              "        buttonEl.style.display =\n",
              "          google.colab.kernel.accessAllowed ? 'block' : 'none';\n",
              "\n",
              "        async function convertToInteractive(key) {\n",
              "          const element = document.querySelector('#df-82325f0c-9839-48a5-bda0-7bfcfcea1760');\n",
              "          const dataTable =\n",
              "            await google.colab.kernel.invokeFunction('convertToInteractive',\n",
              "                                                     [key], {});\n",
              "          if (!dataTable) return;\n",
              "\n",
              "          const docLinkHtml = 'Like what you see? Visit the ' +\n",
              "            '<a target=\"_blank\" href=https://colab.research.google.com/notebooks/data_table.ipynb>data table notebook</a>'\n",
              "            + ' to learn more about interactive tables.';\n",
              "          element.innerHTML = '';\n",
              "          dataTable['output_type'] = 'display_data';\n",
              "          await google.colab.output.renderOutput(dataTable, element);\n",
              "          const docLink = document.createElement('div');\n",
              "          docLink.innerHTML = docLinkHtml;\n",
              "          element.appendChild(docLink);\n",
              "        }\n",
              "      </script>\n",
              "    </div>\n",
              "  </div>\n",
              "  "
            ]
          },
          "metadata": {},
          "execution_count": 71
        }
      ]
    },
    {
      "cell_type": "code",
      "source": [
        "fig = plt.figure(figsize=(12,8))\n",
        "ax1 = fig.add_subplot(211)\n",
        "fig = sm.graphics.tsa.plot_acf(df, lags=40, ax=ax1)\n",
        "ax2 = fig.add_subplot(212)\n",
        "fig = sm.graphics.tsa.plot_pacf(df, lags=40, ax=ax2)"
      ],
      "metadata": {
        "colab": {
          "base_uri": "https://localhost:8080/",
          "height": 499
        },
        "id": "5wfgfzvN4qf4",
        "outputId": "066c4d43-38b2-4569-e03e-eb1bd5ef053e"
      },
      "id": "5wfgfzvN4qf4",
      "execution_count": 72,
      "outputs": [
        {
          "output_type": "display_data",
          "data": {
            "text/plain": [
              "<Figure size 864x576 with 2 Axes>"
            ],
            "image/png": "[encoded data removed]"
          },
          "metadata": {
            "needs_background": "light"
          }
        }
      ]
    },
    {
      "cell_type": "code",
      "source": [
        "# evaluate an ARIMA model for a given order (p,d,q)\n",
        "def evaluate_arima_model(train, test, arima_order):\n",
        "    history = [x for x in train]\n",
        "    # make predictions\n",
        "    predictions = list()\n",
        "    for t in range(len(test)):\n",
        "        model = ARIMA(history, order=arima_order)\n",
        "        model_fit = model.fit()\n",
        "        yhat = model_fit.forecast()[0]\n",
        "        predictions.append(yhat)\n",
        "        history.append(test[t])\n",
        "    # calculate out of sample error\n",
        "    rmse = sqrt(mean_squared_error(test, predictions))\n",
        "    return rmse"
      ],
      "metadata": {
        "id": "vlJp1FoL4vDy"
      },
      "id": "vlJp1FoL4vDy",
      "execution_count": 73,
      "outputs": []
    },
    {
      "cell_type": "code",
      "source": [
        "# evaluate combinations of p, d and q values for an ARIMA model\n",
        "def evaluate_models(train, test, p_values, d_values, q_values):\n",
        "    #dataset = dataset.astype('float32')\n",
        "    best_score, best_cfg = float(\"inf\"), None\n",
        "    for p in p_values:\n",
        "        for d in d_values:\n",
        "            for q in q_values:\n",
        "                order = (p,d,q)\n",
        "                try:\n",
        "                    rmse = evaluate_arima_model(train, test, order)\n",
        "                    if rmse < best_score:\n",
        "                        best_score, best_cfg = rmse, order\n",
        "                    print('ARIMA%s RMSE=%.3f' % (order,rmse))\n",
        "                except:\n",
        "                    continue\n",
        "    print('Best ARIMA%s RMSE=%.3f' % (best_cfg, best_score))"
      ],
      "metadata": {
        "id": "abCeeeGu5W3X"
      },
      "id": "abCeeeGu5W3X",
      "execution_count": 74,
      "outputs": []
    },
    {
      "cell_type": "code",
      "source": [
        "# evaluate parameters\n",
        "p_values = [0,1,2,3,4,5]\n",
        "#p_values = [0,1,2,3]\n",
        "d_values = range(0, 5)\n",
        "q_values = range(0, 5)\n",
        "\n",
        "warnings.filterwarnings(\"ignore\")\n",
        "evaluate_models(train.values, test.values, p_values, d_values, q_values)"
      ],
      "metadata": {
        "colab": {
          "base_uri": "https://localhost:8080/"
        },
        "id": "K4ozWAvy5bct",
        "outputId": "3e94d04b-2f39-4076-d43c-bca7ae562039"
      },
      "id": "K4ozWAvy5bct",
      "execution_count": 75,
      "outputs": [
        {
          "output_type": "stream",
          "name": "stdout",
          "text": [
            "ARIMA(0, 0, 0) RMSE=10.175\n",
            "ARIMA(0, 0, 1) RMSE=5.218\n",
            "ARIMA(0, 0, 2) RMSE=3.120\n",
            "ARIMA(0, 0, 3) RMSE=1.965\n",
            "ARIMA(0, 0, 4) RMSE=1.885\n",
            "ARIMA(0, 1, 0) RMSE=0.438\n",
            "ARIMA(0, 1, 1) RMSE=0.439\n",
            "ARIMA(0, 1, 2) RMSE=0.439\n",
            "ARIMA(0, 1, 3) RMSE=0.424\n",
            "ARIMA(0, 1, 4) RMSE=0.424\n",
            "ARIMA(0, 2, 0) RMSE=0.612\n",
            "ARIMA(0, 2, 1) RMSE=0.451\n",
            "ARIMA(0, 2, 2) RMSE=0.454\n",
            "ARIMA(0, 2, 3) RMSE=0.458\n",
            "ARIMA(0, 2, 4) RMSE=0.443\n",
            "ARIMA(0, 3, 0) RMSE=1.037\n",
            "ARIMA(0, 3, 1) RMSE=0.613\n",
            "ARIMA(0, 3, 2) RMSE=0.450\n",
            "ARIMA(0, 3, 3) RMSE=0.453\n",
            "ARIMA(0, 3, 4) RMSE=0.460\n",
            "ARIMA(0, 4, 0) RMSE=1.853\n",
            "ARIMA(0, 4, 1) RMSE=1.039\n",
            "ARIMA(0, 4, 2) RMSE=0.679\n",
            "ARIMA(0, 4, 3) RMSE=0.437\n",
            "ARIMA(0, 4, 4) RMSE=9.732\n",
            "ARIMA(1, 0, 0) RMSE=0.437\n",
            "ARIMA(1, 0, 1) RMSE=0.438\n",
            "ARIMA(1, 0, 2) RMSE=0.438\n",
            "ARIMA(1, 0, 3) RMSE=0.423\n",
            "ARIMA(1, 0, 4) RMSE=0.423\n",
            "ARIMA(1, 1, 0) RMSE=0.439\n",
            "ARIMA(1, 1, 1) RMSE=0.433\n",
            "ARIMA(1, 1, 2) RMSE=0.431\n",
            "ARIMA(1, 1, 3) RMSE=0.437\n",
            "ARIMA(1, 1, 4) RMSE=0.440\n",
            "ARIMA(1, 2, 0) RMSE=0.544\n",
            "ARIMA(1, 2, 1) RMSE=0.453\n",
            "ARIMA(1, 2, 2) RMSE=0.446\n",
            "ARIMA(1, 2, 3) RMSE=0.449\n",
            "ARIMA(1, 2, 4) RMSE=0.447\n",
            "ARIMA(1, 3, 0) RMSE=0.838\n",
            "ARIMA(1, 3, 1) RMSE=0.546\n",
            "ARIMA(1, 3, 2) RMSE=0.452\n",
            "ARIMA(1, 3, 3) RMSE=0.457\n",
            "ARIMA(1, 3, 4) RMSE=0.453\n",
            "ARIMA(1, 4, 0) RMSE=1.374\n",
            "ARIMA(1, 4, 1) RMSE=0.840\n",
            "ARIMA(1, 4, 2) RMSE=0.612\n",
            "ARIMA(1, 4, 3) RMSE=5479.001\n",
            "ARIMA(1, 4, 4) RMSE=0.441\n",
            "ARIMA(2, 0, 0) RMSE=0.438\n",
            "ARIMA(2, 0, 1) RMSE=0.433\n",
            "ARIMA(2, 0, 2) RMSE=0.430\n",
            "ARIMA(2, 0, 3) RMSE=0.432\n",
            "ARIMA(2, 0, 4) RMSE=0.423\n",
            "ARIMA(2, 1, 0) RMSE=0.438\n",
            "ARIMA(2, 1, 1) RMSE=0.429\n",
            "ARIMA(2, 1, 2) RMSE=0.448\n",
            "ARIMA(2, 1, 3) RMSE=0.443\n",
            "ARIMA(2, 1, 4) RMSE=0.435\n",
            "ARIMA(2, 2, 0) RMSE=0.442\n",
            "ARIMA(2, 2, 1) RMSE=0.458\n",
            "ARIMA(2, 2, 2) RMSE=0.447\n",
            "ARIMA(2, 2, 3) RMSE=0.457\n",
            "ARIMA(2, 2, 4) RMSE=0.476\n",
            "ARIMA(2, 3, 0) RMSE=0.634\n",
            "ARIMA(2, 3, 1) RMSE=0.443\n",
            "ARIMA(2, 3, 2) RMSE=0.455\n",
            "ARIMA(2, 3, 3) RMSE=0.450\n",
            "ARIMA(2, 3, 4) RMSE=0.459\n",
            "ARIMA(2, 4, 0) RMSE=0.999\n",
            "ARIMA(2, 4, 1) RMSE=0.636\n",
            "ARIMA(2, 4, 2) RMSE=0.446\n",
            "ARIMA(2, 4, 3) RMSE=37.148\n",
            "ARIMA(2, 4, 4) RMSE=0.436\n",
            "ARIMA(3, 0, 0) RMSE=0.438\n",
            "ARIMA(3, 0, 1) RMSE=0.429\n",
            "ARIMA(3, 0, 2) RMSE=0.436\n",
            "ARIMA(3, 0, 3) RMSE=0.434\n",
            "ARIMA(3, 0, 4) RMSE=0.447\n",
            "ARIMA(3, 1, 0) RMSE=0.426\n",
            "ARIMA(3, 1, 1) RMSE=0.427\n",
            "ARIMA(3, 1, 2) RMSE=0.428\n",
            "ARIMA(3, 1, 3) RMSE=0.431\n",
            "ARIMA(3, 1, 4) RMSE=0.378\n",
            "ARIMA(3, 2, 0) RMSE=0.432\n",
            "ARIMA(3, 2, 1) RMSE=0.446\n",
            "ARIMA(3, 2, 2) RMSE=0.447\n",
            "ARIMA(3, 2, 3) RMSE=0.450\n",
            "ARIMA(3, 2, 4) RMSE=0.462\n",
            "ARIMA(3, 3, 0) RMSE=0.573\n",
            "ARIMA(3, 3, 1) RMSE=0.434\n",
            "ARIMA(3, 3, 2) RMSE=0.444\n",
            "ARIMA(3, 3, 3) RMSE=0.456\n",
            "ARIMA(3, 3, 4) RMSE=0.463\n",
            "ARIMA(3, 4, 0) RMSE=0.863\n",
            "ARIMA(3, 4, 1) RMSE=0.575\n",
            "ARIMA(3, 4, 2) RMSE=0.436\n",
            "ARIMA(3, 4, 3) RMSE=0.446\n",
            "ARIMA(3, 4, 4) RMSE=0.462\n",
            "ARIMA(4, 0, 0) RMSE=0.424\n",
            "ARIMA(4, 0, 1) RMSE=0.428\n",
            "ARIMA(4, 0, 2) RMSE=0.413\n",
            "ARIMA(4, 0, 3) RMSE=0.538\n",
            "ARIMA(4, 0, 4) RMSE=0.467\n",
            "ARIMA(4, 1, 0) RMSE=0.426\n",
            "ARIMA(4, 1, 1) RMSE=0.429\n",
            "ARIMA(4, 1, 2) RMSE=0.429\n",
            "ARIMA(4, 1, 3) RMSE=0.416\n",
            "ARIMA(4, 1, 4) RMSE=0.421\n",
            "ARIMA(4, 2, 0) RMSE=0.456\n",
            "ARIMA(4, 2, 1) RMSE=0.448\n",
            "ARIMA(4, 2, 2) RMSE=0.450\n",
            "ARIMA(4, 2, 3) RMSE=0.455\n",
            "ARIMA(4, 2, 4) RMSE=0.480\n",
            "ARIMA(4, 3, 0) RMSE=0.509\n",
            "ARIMA(4, 3, 1) RMSE=0.457\n",
            "ARIMA(4, 3, 2) RMSE=0.470\n",
            "ARIMA(4, 3, 3) RMSE=0.451\n",
            "ARIMA(4, 3, 4) RMSE=0.468\n",
            "ARIMA(4, 4, 0) RMSE=0.714\n",
            "ARIMA(4, 4, 1) RMSE=0.511\n",
            "ARIMA(4, 4, 2) RMSE=0.460\n",
            "ARIMA(4, 4, 4) RMSE=0.470\n",
            "ARIMA(5, 0, 0) RMSE=0.425\n",
            "ARIMA(5, 0, 1) RMSE=0.428\n",
            "ARIMA(5, 0, 2) RMSE=0.424\n",
            "ARIMA(5, 0, 3) RMSE=0.551\n",
            "ARIMA(5, 0, 4) RMSE=0.513\n",
            "ARIMA(5, 1, 0) RMSE=0.433\n",
            "ARIMA(5, 1, 1) RMSE=0.450\n",
            "ARIMA(5, 1, 2) RMSE=0.444\n",
            "ARIMA(5, 1, 3) RMSE=0.386\n",
            "ARIMA(5, 1, 4) RMSE=0.454\n",
            "ARIMA(5, 2, 0) RMSE=0.480\n",
            "ARIMA(5, 2, 1) RMSE=0.448\n",
            "ARIMA(5, 2, 2) RMSE=0.445\n",
            "ARIMA(5, 2, 3) RMSE=0.464\n",
            "ARIMA(5, 2, 4) RMSE=0.577\n",
            "ARIMA(5, 3, 0) RMSE=0.522\n",
            "ARIMA(5, 3, 1) RMSE=0.480\n",
            "ARIMA(5, 3, 2) RMSE=0.460\n",
            "ARIMA(5, 3, 3) RMSE=0.437\n",
            "ARIMA(5, 3, 4) RMSE=0.452\n",
            "ARIMA(5, 4, 0) RMSE=0.662\n",
            "ARIMA(5, 4, 1) RMSE=0.523\n",
            "ARIMA(5, 4, 2) RMSE=0.508\n",
            "ARIMA(5, 4, 3) RMSE=0.460\n",
            "ARIMA(5, 4, 4) RMSE=0.466\n",
            "Best ARIMA(3, 1, 4) RMSE=0.378\n"
          ]
        }
      ]
    },
    {
      "cell_type": "markdown",
      "source": [
        "# ARIMA"
      ],
      "metadata": {
        "id": "XYRN9wBi-GGy"
      },
      "id": "XYRN9wBi-GGy"
    },
    {
      "cell_type": "code",
      "source": [
        "model_arima = ARIMA(train['CO2'],order = (3,1,4))\n",
        "model_arima = model_arima.fit()\n",
        "model_arima.summary()"
      ],
      "metadata": {
        "colab": {
          "base_uri": "https://localhost:8080/",
          "height": 537
        },
        "id": "FEK9rGTJ5gYx",
        "outputId": "e3f73293-3efa-4620-f5ee-82155720cd3d"
      },
      "id": "FEK9rGTJ5gYx",
      "execution_count": 76,
      "outputs": [
        {
          "output_type": "execute_result",
          "data": {
            "text/plain": [
              "<class 'statsmodels.iolib.summary.Summary'>\n",
              "\"\"\"\n",
              "                               SARIMAX Results                                \n",
              "==============================================================================\n",
              "Dep. Variable:                    CO2   No. Observations:                  195\n",
              "Model:                 ARIMA(3, 1, 4)   Log Likelihood                -156.500\n",
              "Date:                Tue, 07 Mar 2023   AIC                            329.001\n",
              "Time:                        16:40:10   BIC                            355.144\n",
              "Sample:                             0   HQIC                           339.587\n",
              "                                - 195                                         \n",
              "Covariance Type:                  opg                                         \n",
              "==============================================================================\n",
              "                 coef    std err          z      P>|z|      [0.025      0.975]\n",
              "------------------------------------------------------------------------------\n",
              "ar.L1          1.4656      0.216      6.785      0.000       1.042       1.889\n",
              "ar.L2         -0.0859      0.412     -0.208      0.835      -0.893       0.722\n",
              "ar.L3         -0.4541      0.214     -2.118      0.034      -0.874      -0.034\n",
              "ma.L1         -1.5393      0.226     -6.823      0.000      -1.981      -1.097\n",
              "ma.L2          0.0455      0.410      0.111      0.912      -0.758       0.849\n",
              "ma.L3          0.7809      0.209      3.735      0.000       0.371       1.191\n",
              "ma.L4         -0.2128      0.057     -3.711      0.000      -0.325      -0.100\n",
              "sigma2         0.2907      0.024     11.993      0.000       0.243       0.338\n",
              "===================================================================================\n",
              "Ljung-Box (L1) (Q):                   0.10   Jarque-Bera (JB):                74.48\n",
              "Prob(Q):                              0.76   Prob(JB):                         0.00\n",
              "Heteroskedasticity (H):            3462.64   Skew:                            -0.23\n",
              "Prob(H) (two-sided):                  0.00   Kurtosis:                         6.00\n",
              "===================================================================================\n",
              "\n",
              "Warnings:\n",
              "[1] Covariance matrix calculated using the outer product of gradients (complex-step).\n",
              "\"\"\""
            ],
            "text/html": [
              "<table class=\"simpletable\">\n",
              "<caption>SARIMAX Results</caption>\n",
              "<tr>\n",
              "  <th>Dep. Variable:</th>          <td>CO2</td>       <th>  No. Observations:  </th>    <td>195</td>  \n",
              "</tr>\n",
              "<tr>\n",
              "  <th>Model:</th>            <td>ARIMA(3, 1, 4)</td>  <th>  Log Likelihood     </th> <td>-156.500</td>\n",
              "</tr>\n",
              "<tr>\n",
              "  <th>Date:</th>            <td>Tue, 07 Mar 2023</td> <th>  AIC                </th>  <td>329.001</td>\n",
              "</tr>\n",
              "<tr>\n",
              "  <th>Time:</th>                <td>16:40:10</td>     <th>  BIC                </th>  <td>355.144</td>\n",
              "</tr>\n",
              "<tr>\n",
              "  <th>Sample:</th>                  <td>0</td>        <th>  HQIC               </th>  <td>339.587</td>\n",
              "</tr>\n",
              "<tr>\n",
              "  <th></th>                      <td> - 195</td>      <th>                     </th>     <td> </td>   \n",
              "</tr>\n",
              "<tr>\n",
              "  <th>Covariance Type:</th>        <td>opg</td>       <th>                     </th>     <td> </td>   \n",
              "</tr>\n",
              "</table>\n",
              "<table class=\"simpletable\">\n",
              "<tr>\n",
              "     <td></td>       <th>coef</th>     <th>std err</th>      <th>z</th>      <th>P>|z|</th>  <th>[0.025</th>    <th>0.975]</th>  \n",
              "</tr>\n",
              "<tr>\n",
              "  <th>ar.L1</th>  <td>    1.4656</td> <td>    0.216</td> <td>    6.785</td> <td> 0.000</td> <td>    1.042</td> <td>    1.889</td>\n",
              "</tr>\n",
              "<tr>\n",
              "  <th>ar.L2</th>  <td>   -0.0859</td> <td>    0.412</td> <td>   -0.208</td> <td> 0.835</td> <td>   -0.893</td> <td>    0.722</td>\n",
              "</tr>\n",
              "<tr>\n",
              "  <th>ar.L3</th>  <td>   -0.4541</td> <td>    0.214</td> <td>   -2.118</td> <td> 0.034</td> <td>   -0.874</td> <td>   -0.034</td>\n",
              "</tr>\n",
              "<tr>\n",
              "  <th>ma.L1</th>  <td>   -1.5393</td> <td>    0.226</td> <td>   -6.823</td> <td> 0.000</td> <td>   -1.981</td> <td>   -1.097</td>\n",
              "</tr>\n",
              "<tr>\n",
              "  <th>ma.L2</th>  <td>    0.0455</td> <td>    0.410</td> <td>    0.111</td> <td> 0.912</td> <td>   -0.758</td> <td>    0.849</td>\n",
              "</tr>\n",
              "<tr>\n",
              "  <th>ma.L3</th>  <td>    0.7809</td> <td>    0.209</td> <td>    3.735</td> <td> 0.000</td> <td>    0.371</td> <td>    1.191</td>\n",
              "</tr>\n",
              "<tr>\n",
              "  <th>ma.L4</th>  <td>   -0.2128</td> <td>    0.057</td> <td>   -3.711</td> <td> 0.000</td> <td>   -0.325</td> <td>   -0.100</td>\n",
              "</tr>\n",
              "<tr>\n",
              "  <th>sigma2</th> <td>    0.2907</td> <td>    0.024</td> <td>   11.993</td> <td> 0.000</td> <td>    0.243</td> <td>    0.338</td>\n",
              "</tr>\n",
              "</table>\n",
              "<table class=\"simpletable\">\n",
              "<tr>\n",
              "  <th>Ljung-Box (L1) (Q):</th>      <td>0.10</td>   <th>  Jarque-Bera (JB):  </th> <td>74.48</td>\n",
              "</tr>\n",
              "<tr>\n",
              "  <th>Prob(Q):</th>                 <td>0.76</td>   <th>  Prob(JB):          </th> <td>0.00</td> \n",
              "</tr>\n",
              "<tr>\n",
              "  <th>Heteroskedasticity (H):</th> <td>3462.64</td> <th>  Skew:              </th> <td>-0.23</td>\n",
              "</tr>\n",
              "<tr>\n",
              "  <th>Prob(H) (two-sided):</th>     <td>0.00</td>   <th>  Kurtosis:          </th> <td>6.00</td> \n",
              "</tr>\n",
              "</table><br/><br/>Warnings:<br/>[1] Covariance matrix calculated using the outer product of gradients (complex-step)."
            ]
          },
          "metadata": {},
          "execution_count": 76
        }
      ]
    },
    {
      "cell_type": "code",
      "source": [
        "start = len(train)\n",
        "end = len(train)+len(test)-1\n",
        "pred_arima = model_arima.predict(start=start,end=end)\n",
        "print(pred_arima)"
      ],
      "metadata": {
        "colab": {
          "base_uri": "https://localhost:8080/"
        },
        "id": "jqyqANoh-L0_",
        "outputId": "03b974a2-083b-4349-e2a3-fbab045a973a"
      },
      "id": "jqyqANoh-L0_",
      "execution_count": 77,
      "outputs": [
        {
          "output_type": "stream",
          "name": "stdout",
          "text": [
            "195    15.889929\n",
            "196    16.094217\n",
            "197    16.345280\n",
            "198    16.597525\n",
            "199    16.852875\n",
            "200    17.091435\n",
            "201    17.304583\n",
            "202    17.480519\n",
            "203    17.611724\n",
            "204    17.692111\n",
            "205    17.718760\n",
            "206    17.691327\n",
            "207    17.612327\n",
            "208    17.486801\n",
            "209    17.322074\n",
            "210    17.127311\n",
            "211    16.913020\n",
            "212    16.690493\n",
            "213    16.471213\n",
            "214    16.266266\n",
            "Name: predicted_mean, dtype: float64\n"
          ]
        }
      ]
    },
    {
      "cell_type": "code",
      "source": [
        "model_arima.plot_diagnostics(figsize=(7,5))\n",
        "plt.show()"
      ],
      "metadata": {
        "colab": {
          "base_uri": "https://localhost:8080/",
          "height": 350
        },
        "id": "_L74P970-Sq8",
        "outputId": "7c834588-947b-4440-963a-01df35e2f06f"
      },
      "id": "_L74P970-Sq8",
      "execution_count": 78,
      "outputs": [
        {
          "output_type": "display_data",
          "data": {
            "text/plain": [
              "<Figure size 504x360 with 4 Axes>"
            ],
            "image/png": "[encoded data removed]"
          },
          "metadata": {
            "needs_background": "light"
          }
        }
      ]
    },
    {
      "cell_type": "code",
      "source": [
        "ns_arima_acc = forecast_accuracy(pred_arima.values,test.CO2)\n",
        "ns_arima_acc"
      ],
      "metadata": {
        "colab": {
          "base_uri": "https://localhost:8080/"
        },
        "id": "QV3VFw9h-a1c",
        "outputId": "a7fef7d7-a58a-463f-99f4-d7e2ee90824c"
      },
      "id": "QV3VFw9h-a1c",
      "execution_count": 79,
      "outputs": [
        {
          "output_type": "execute_result",
          "data": {
            "text/plain": [
              "{'mape': 0.04624330198984401,\n",
              " 'me': 0.6379895242148697,\n",
              " 'mae': 0.7308634501814096,\n",
              " 'mpe': 0.04073510468725071,\n",
              " 'rmse': 0.9404496751966939}"
            ]
          },
          "metadata": {},
          "execution_count": 79
        }
      ]
    },
    {
      "cell_type": "markdown",
      "source": [
        "## Single Exponential Smoothening"
      ],
      "metadata": {
        "id": "JqcHxH3eBnf8"
      },
      "id": "JqcHxH3eBnf8"
    },
    {
      "cell_type": "code",
      "source": [
        "ses_model = SimpleExpSmoothing(train.CO2).fit(smoothing_level=0.2)\n",
        "pred_ses = ses_model.predict(start = len(train),end = len(train)+len(test)-1)"
      ],
      "metadata": {
        "id": "ymt2M6HS-onK"
      },
      "id": "ymt2M6HS-onK",
      "execution_count": 80,
      "outputs": []
    },
    {
      "cell_type": "code",
      "source": [
        "def forecast_accuracy(forecast, actual):\n",
        "    rmse = np.mean((forecast - actual)**2)**.5  # RMSE\n",
        "    return({'Simple Exponential Smoothing Model RMSE':rmse})"
      ],
      "metadata": {
        "id": "wGGSuKlGB0nV"
      },
      "id": "wGGSuKlGB0nV",
      "execution_count": 81,
      "outputs": []
    },
    {
      "cell_type": "code",
      "source": [
        "SES_acc = forecast_accuracy(pred_ses.values, test.values)\n",
        "SES_acc"
      ],
      "metadata": {
        "colab": {
          "base_uri": "https://localhost:8080/"
        },
        "id": "1rRfRvSICJ80",
        "outputId": "ecf02d53-3f31-4491-b0bd-2af546122449"
      },
      "id": "1rRfRvSICJ80",
      "execution_count": 82,
      "outputs": [
        {
          "output_type": "execute_result",
          "data": {
            "text/plain": [
              "{'Simple Exponential Smoothing Model RMSE': 0.9682045310926879}"
            ]
          },
          "metadata": {},
          "execution_count": 82
        }
      ]
    },
    {
      "cell_type": "markdown",
      "source": [
        "## Double Exponential Smoothing or Holt's method\n"
      ],
      "metadata": {
        "id": "WJTxbtBLDE2K"
      },
      "id": "WJTxbtBLDE2K"
    },
    {
      "cell_type": "code",
      "source": [
        "hw_model = Holt(train.CO2).fit(smoothing_level=0.8,smoothing_slope=0.2)\n",
        "pred_hw = hw_model.predict(start = len(train),end = len(train)+len(test)-1)"
      ],
      "metadata": {
        "id": "OL8vv1RnCRXP"
      },
      "id": "OL8vv1RnCRXP",
      "execution_count": 83,
      "outputs": []
    },
    {
      "cell_type": "code",
      "source": [
        "def forecast_accuracy(forecast, actual):\n",
        "    rmse = np.mean((forecast - actual)**2)**.5  # RMSE\n",
        "    return({'Double Exponential Smoothing Model RMSE':rmse})"
      ],
      "metadata": {
        "id": "fRh-X4kNDLuS"
      },
      "id": "fRh-X4kNDLuS",
      "execution_count": 84,
      "outputs": []
    },
    {
      "cell_type": "code",
      "source": [
        "DES_acc = forecast_accuracy(pred_hw.values, test.values)\n",
        "DES_acc"
      ],
      "metadata": {
        "colab": {
          "base_uri": "https://localhost:8080/"
        },
        "id": "ggjmLdY1DnWm",
        "outputId": "68d42977-8913-4bc5-ef8c-e9a1ff9ed3c4"
      },
      "id": "ggjmLdY1DnWm",
      "execution_count": 85,
      "outputs": [
        {
          "output_type": "execute_result",
          "data": {
            "text/plain": [
              "{'Double Exponential Smoothing Model RMSE': 1.6957306698146153}"
            ]
          },
          "metadata": {},
          "execution_count": 85
        }
      ]
    },
    {
      "cell_type": "markdown",
      "source": [
        "## Winter's Method"
      ],
      "metadata": {
        "id": "OO4Q27k9D5Ux"
      },
      "id": "OO4Q27k9D5Ux"
    },
    {
      "cell_type": "code",
      "source": [
        "hwe_model_add = ExponentialSmoothing(train[\"CO2\"],seasonal=\"add\",trend=\"add\",seasonal_periods=2).fit() \n",
        "pred_hwe_add_add = hwe_model_add.predict(start = start,end = end)"
      ],
      "metadata": {
        "id": "RnTPo50cDqCL"
      },
      "id": "RnTPo50cDqCL",
      "execution_count": 86,
      "outputs": []
    },
    {
      "cell_type": "code",
      "source": [
        "def forecast_accuracy(forecast, actual):\n",
        "    rmse = np.mean((forecast - actual)**2)**.5  # RMSE\n",
        "    return({'Holts Winter Smoothing Model RMSE':rmse})"
      ],
      "metadata": {
        "id": "6n7c5u_YD-9f"
      },
      "id": "6n7c5u_YD-9f",
      "execution_count": 87,
      "outputs": []
    },
    {
      "cell_type": "code",
      "source": [
        "Holt_acc = forecast_accuracy(pred_hwe_add_add.values, test.values)\n",
        "Holt_acc"
      ],
      "metadata": {
        "colab": {
          "base_uri": "https://localhost:8080/"
        },
        "id": "UlDvRyRRECG7",
        "outputId": "ff774403-44fa-45fc-b5f1-84d277b0ffe2"
      },
      "id": "UlDvRyRRECG7",
      "execution_count": 88,
      "outputs": [
        {
          "output_type": "execute_result",
          "data": {
            "text/plain": [
              "{'Holts Winter Smoothing Model RMSE': 0.9719107990665937}"
            ]
          },
          "metadata": {},
          "execution_count": 88
        }
      ]
    },
    {
      "cell_type": "markdown",
      "source": [
        "## Holts winter ES with multiplicative seasonality and additive trend\n"
      ],
      "metadata": {
        "id": "28z4zcCoEN6y"
      },
      "id": "28z4zcCoEN6y"
    },
    {
      "cell_type": "code",
      "source": [
        "hwe_model_mul_add = ExponentialSmoothing(train[\"CO2\"],seasonal=\"mul\",trend=\"add\",seasonal_periods=2).fit()\n",
        "pred_hwe_mul_add = hwe_model_mul_add.predict(start = start,end = end)"
      ],
      "metadata": {
        "id": "zZAUJ7qvEIiV"
      },
      "id": "zZAUJ7qvEIiV",
      "execution_count": 89,
      "outputs": []
    },
    {
      "cell_type": "code",
      "source": [
        "def forecast_accuracy(forecast, actual):\n",
        "    rmse = np.mean((forecast - actual)**2)**.5  # RMSE\n",
        "    return({'Holts Winter SE with multiplicative seasonality and additive trend RMSE':rmse})"
      ],
      "metadata": {
        "id": "Ir6ua0LxETFK"
      },
      "id": "Ir6ua0LxETFK",
      "execution_count": 90,
      "outputs": []
    },
    {
      "cell_type": "code",
      "source": [
        "Holt_acc1 = forecast_accuracy(pred_hwe_mul_add.values, test.values)\n",
        "Holt_acc1"
      ],
      "metadata": {
        "colab": {
          "base_uri": "https://localhost:8080/"
        },
        "id": "_p7CbtMDEXlf",
        "outputId": "ed89bef5-5bf9-42f7-b557-09b1e612c2e5"
      },
      "id": "_p7CbtMDEXlf",
      "execution_count": 91,
      "outputs": [
        {
          "output_type": "execute_result",
          "data": {
            "text/plain": [
              "{'Holts Winter SE with multiplicative seasonality and additive trend RMSE': 0.9684473918296527}"
            ]
          },
          "metadata": {},
          "execution_count": 91
        }
      ]
    },
    {
      "cell_type": "markdown",
      "source": [
        "## Holts winter ES with multiplicative seasonality and multiplicative trend"
      ],
      "metadata": {
        "id": "gq9UhTGREiFH"
      },
      "id": "gq9UhTGREiFH"
    },
    {
      "cell_type": "code",
      "source": [
        "hwe_model_mul_mul = ExponentialSmoothing(train[\"CO2\"],seasonal=\"mul\",trend=\"mul\",seasonal_periods=2).fit()\n",
        "pred_hwe_mul_mul = hwe_model_mul_mul.predict(start = start,end = end)"
      ],
      "metadata": {
        "id": "7A_VjW8AEa2m"
      },
      "id": "7A_VjW8AEa2m",
      "execution_count": 92,
      "outputs": []
    },
    {
      "cell_type": "code",
      "source": [
        "def forecast_accuracy(forecast, actual):\n",
        "    rmse = np.mean((forecast - actual)**2)**.5  # RMSE\n",
        "    return({'Holts Winter ES with multiplicative seasonality and  multiplicative trend RMSE':rmse})"
      ],
      "metadata": {
        "id": "4DSnDfzAEnSy"
      },
      "id": "4DSnDfzAEnSy",
      "execution_count": 93,
      "outputs": []
    },
    {
      "cell_type": "code",
      "source": [
        "Holt_acc2 = forecast_accuracy(pred_hwe_mul_mul.values, test.values)\n",
        "Holt_acc2"
      ],
      "metadata": {
        "colab": {
          "base_uri": "https://localhost:8080/"
        },
        "id": "a4sy8zg5ErKR",
        "outputId": "83e60937-4f54-43b3-fbdb-07fbd25e073d"
      },
      "id": "a4sy8zg5ErKR",
      "execution_count": 94,
      "outputs": [
        {
          "output_type": "execute_result",
          "data": {
            "text/plain": [
              "{'Holts Winter ES with multiplicative seasonality and  multiplicative trend RMSE': 1.2077266834977682}"
            ]
          },
          "metadata": {},
          "execution_count": 94
        }
      ]
    },
    {
      "cell_type": "code",
      "source": [
        "ns_arima_acc['rmse']"
      ],
      "metadata": {
        "colab": {
          "base_uri": "https://localhost:8080/"
        },
        "id": "b2mJl4r3EvyH",
        "outputId": "43c96a10-c178-4c90-9d69-b24324404856"
      },
      "id": "b2mJl4r3EvyH",
      "execution_count": 95,
      "outputs": [
        {
          "output_type": "execute_result",
          "data": {
            "text/plain": [
              "0.9404496751966939"
            ]
          },
          "metadata": {},
          "execution_count": 95
        }
      ]
    },
    {
      "cell_type": "code",
      "source": [
        "SES_acc\n"
      ],
      "metadata": {
        "colab": {
          "base_uri": "https://localhost:8080/"
        },
        "id": "J7meXMP5E4jv",
        "outputId": "f3ebdb9c-19ee-4cd4-d424-a8a7562c9405"
      },
      "id": "J7meXMP5E4jv",
      "execution_count": 96,
      "outputs": [
        {
          "output_type": "execute_result",
          "data": {
            "text/plain": [
              "{'Simple Exponential Smoothing Model RMSE': 0.9682045310926879}"
            ]
          },
          "metadata": {},
          "execution_count": 96
        }
      ]
    },
    {
      "cell_type": "code",
      "source": [
        "df1=pd.read_excel('CO2 dataset.xlsx',header=0, index_col=0, parse_dates=True)\n",
        "df1"
      ],
      "metadata": {
        "colab": {
          "base_uri": "https://localhost:8080/",
          "height": 455
        },
        "id": "Rd264zueFFRk",
        "outputId": "dd5ecbb1-dbb6-4f13-a900-757cef5e98d2"
      },
      "id": "Rd264zueFFRk",
      "execution_count": 97,
      "outputs": [
        {
          "output_type": "execute_result",
          "data": {
            "text/plain": [
              "             CO2\n",
              "Year            \n",
              "1800.0   0.00568\n",
              "1801.0   0.00561\n",
              "1802.0   0.00555\n",
              "1803.0   0.00548\n",
              "1804.0   0.00542\n",
              "...          ...\n",
              "2010.0  15.60000\n",
              "2011.0  15.60000\n",
              "2012.0  14.80000\n",
              "2013.0  14.70000\n",
              "2014.0  15.10000\n",
              "\n",
              "[215 rows x 1 columns]"
            ],
            "text/html": [
              "\n",
              "  <div id=\"df-521ef95f-3a04-4559-9897-6f94cc780fba\">\n",
              "    <div class=\"colab-df-container\">\n",
              "      <div>\n",
              "<style scoped>\n",
              "    .dataframe tbody tr th:only-of-type {\n",
              "        vertical-align: middle;\n",
              "    }\n",
              "\n",
              "    .dataframe tbody tr th {\n",
              "        vertical-align: top;\n",
              "    }\n",
              "\n",
              "    .dataframe thead th {\n",
              "        text-align: right;\n",
              "    }\n",
              "</style>\n",
              "<table border=\"1\" class=\"dataframe\">\n",
              "  <thead>\n",
              "    <tr style=\"text-align: right;\">\n",
              "      <th></th>\n",
              "      <th>CO2</th>\n",
              "    </tr>\n",
              "    <tr>\n",
              "      <th>Year</th>\n",
              "      <th></th>\n",
              "    </tr>\n",
              "  </thead>\n",
              "  <tbody>\n",
              "    <tr>\n",
              "      <th>1800.0</th>\n",
              "      <td>0.00568</td>\n",
              "    </tr>\n",
              "    <tr>\n",
              "      <th>1801.0</th>\n",
              "      <td>0.00561</td>\n",
              "    </tr>\n",
              "    <tr>\n",
              "      <th>1802.0</th>\n",
              "      <td>0.00555</td>\n",
              "    </tr>\n",
              "    <tr>\n",
              "      <th>1803.0</th>\n",
              "      <td>0.00548</td>\n",
              "    </tr>\n",
              "    <tr>\n",
              "      <th>1804.0</th>\n",
              "      <td>0.00542</td>\n",
              "    </tr>\n",
              "    <tr>\n",
              "      <th>...</th>\n",
              "      <td>...</td>\n",
              "    </tr>\n",
              "    <tr>\n",
              "      <th>2010.0</th>\n",
              "      <td>15.60000</td>\n",
              "    </tr>\n",
              "    <tr>\n",
              "      <th>2011.0</th>\n",
              "      <td>15.60000</td>\n",
              "    </tr>\n",
              "    <tr>\n",
              "      <th>2012.0</th>\n",
              "      <td>14.80000</td>\n",
              "    </tr>\n",
              "    <tr>\n",
              "      <th>2013.0</th>\n",
              "      <td>14.70000</td>\n",
              "    </tr>\n",
              "    <tr>\n",
              "      <th>2014.0</th>\n",
              "      <td>15.10000</td>\n",
              "    </tr>\n",
              "  </tbody>\n",
              "</table>\n",
              "<p>215 rows × 1 columns</p>\n",
              "</div>\n",
              "      <button class=\"colab-df-convert\" onclick=\"convertToInteractive('df-521ef95f-3a04-4559-9897-6f94cc780fba')\"\n",
              "              title=\"Convert this dataframe to an interactive table.\"\n",
              "              style=\"display:none;\">\n",
              "        \n",
              "  <svg xmlns=\"http://www.w3.org/2000/svg\" height=\"24px\"viewBox=\"0 0 24 24\"\n",
              "       width=\"24px\">\n",
              "    <path d=\"M0 0h24v24H0V0z\" fill=\"none\"/>\n",
              "    <path d=\"M18.56 5.44l.94 2.06.94-2.06 2.06-.94-2.06-.94-.94-2.06-.94 2.06-2.06.94zm-11 1L8.5 8.5l.94-2.06 2.06-.94-2.06-.94L8.5 2.5l-.94 2.06-2.06.94zm10 10l.94 2.06.94-2.06 2.06-.94-2.06-.94-.94-2.06-.94 2.06-2.06.94z\"/><path d=\"M17.41 7.96l-1.37-1.37c-.4-.4-.92-.59-1.43-.59-.52 0-1.04.2-1.43.59L10.3 9.45l-7.72 7.72c-.78.78-.78 2.05 0 2.83L4 21.41c.39.39.9.59 1.41.59.51 0 1.02-.2 1.41-.59l7.78-7.78 2.81-2.81c.8-.78.8-2.07 0-2.86zM5.41 20L4 18.59l7.72-7.72 1.47 1.35L5.41 20z\"/>\n",
              "  </svg>\n",
              "      </button>\n",
              "      \n",
              "  <style>\n",
              "    .colab-df-container {\n",
              "      display:flex;\n",
              "      flex-wrap:wrap;\n",
              "      gap: 12px;\n",
              "    }\n",
              "\n",
              "    .colab-df-convert {\n",
              "      background-color: #E8F0FE;\n",
              "      border: none;\n",
              "      border-radius: 50%;\n",
              "      cursor: pointer;\n",
              "      display: none;\n",
              "      fill: #1967D2;\n",
              "      height: 32px;\n",
              "      padding: 0 0 0 0;\n",
              "      width: 32px;\n",
              "    }\n",
              "\n",
              "    .colab-df-convert:hover {\n",
              "      background-color: #E2EBFA;\n",
              "      box-shadow: 0px 1px 2px rgba(60, 64, 67, 0.3), 0px 1px 3px 1px rgba(60, 64, 67, 0.15);\n",
              "      fill: #174EA6;\n",
              "    }\n",
              "\n",
              "    [theme=dark] .colab-df-convert {\n",
              "      background-color: #3B4455;\n",
              "      fill: #D2E3FC;\n",
              "    }\n",
              "\n",
              "    [theme=dark] .colab-df-convert:hover {\n",
              "      background-color: #434B5C;\n",
              "      box-shadow: 0px 1px 3px 1px rgba(0, 0, 0, 0.15);\n",
              "      filter: drop-shadow(0px 1px 2px rgba(0, 0, 0, 0.3));\n",
              "      fill: #FFFFFF;\n",
              "    }\n",
              "  </style>\n",
              "\n",
              "      <script>\n",
              "        const buttonEl =\n",
              "          document.querySelector('#df-521ef95f-3a04-4559-9897-6f94cc780fba button.colab-df-convert');\n",
              "        buttonEl.style.display =\n",
              "          google.colab.kernel.accessAllowed ? 'block' : 'none';\n",
              "\n",
              "        async function convertToInteractive(key) {\n",
              "          const element = document.querySelector('#df-521ef95f-3a04-4559-9897-6f94cc780fba');\n",
              "          const dataTable =\n",
              "            await google.colab.kernel.invokeFunction('convertToInteractive',\n",
              "                                                     [key], {});\n",
              "          if (!dataTable) return;\n",
              "\n",
              "          const docLinkHtml = 'Like what you see? Visit the ' +\n",
              "            '<a target=\"_blank\" href=https://colab.research.google.com/notebooks/data_table.ipynb>data table notebook</a>'\n",
              "            + ' to learn more about interactive tables.';\n",
              "          element.innerHTML = '';\n",
              "          dataTable['output_type'] = 'display_data';\n",
              "          await google.colab.output.renderOutput(dataTable, element);\n",
              "          const docLink = document.createElement('div');\n",
              "          docLink.innerHTML = docLinkHtml;\n",
              "          element.appendChild(docLink);\n",
              "        }\n",
              "      </script>\n",
              "    </div>\n",
              "  </div>\n",
              "  "
            ]
          },
          "metadata": {},
          "execution_count": 97
        }
      ]
    },
    {
      "cell_type": "code",
      "source": [
        "df1[\"t\"] = np.arange(0,215)\n",
        "df1[\"t_squared\"] = df1[\"t\"] * df1[\"t\"]\n",
        "df1[\"Log_Temp\"] = np.log(df1[\"CO2\"])   ### stabilize the variance and make the data more amenable to statistical modeling.\n",
        "df1"
      ],
      "metadata": {
        "colab": {
          "base_uri": "https://localhost:8080/",
          "height": 455
        },
        "id": "GupAxaCRFpYw",
        "outputId": "31a7a2b3-8ca4-4fdd-c96f-f92af53654a9"
      },
      "id": "GupAxaCRFpYw",
      "execution_count": 98,
      "outputs": [
        {
          "output_type": "execute_result",
          "data": {
            "text/plain": [
              "             CO2    t  t_squared  Log_Temp\n",
              "Year                                      \n",
              "1800.0   0.00568    0          0 -5.170804\n",
              "1801.0   0.00561    1          1 -5.183205\n",
              "1802.0   0.00555    2          4 -5.193957\n",
              "1803.0   0.00548    3          9 -5.206650\n",
              "1804.0   0.00542    4         16 -5.217659\n",
              "...          ...  ...        ...       ...\n",
              "2010.0  15.60000  210      44100  2.747271\n",
              "2011.0  15.60000  211      44521  2.747271\n",
              "2012.0  14.80000  212      44944  2.694627\n",
              "2013.0  14.70000  213      45369  2.687847\n",
              "2014.0  15.10000  214      45796  2.714695\n",
              "\n",
              "[215 rows x 4 columns]"
            ],
            "text/html": [
              "\n",
              "  <div id=\"df-8d647f19-9457-4f54-a268-126d5aee0e38\">\n",
              "    <div class=\"colab-df-container\">\n",
              "      <div>\n",
              "<style scoped>\n",
              "    .dataframe tbody tr th:only-of-type {\n",
              "        vertical-align: middle;\n",
              "    }\n",
              "\n",
              "    .dataframe tbody tr th {\n",
              "        vertical-align: top;\n",
              "    }\n",
              "\n",
              "    .dataframe thead th {\n",
              "        text-align: right;\n",
              "    }\n",
              "</style>\n",
              "<table border=\"1\" class=\"dataframe\">\n",
              "  <thead>\n",
              "    <tr style=\"text-align: right;\">\n",
              "      <th></th>\n",
              "      <th>CO2</th>\n",
              "      <th>t</th>\n",
              "      <th>t_squared</th>\n",
              "      <th>Log_Temp</th>\n",
              "    </tr>\n",
              "    <tr>\n",
              "      <th>Year</th>\n",
              "      <th></th>\n",
              "      <th></th>\n",
              "      <th></th>\n",
              "      <th></th>\n",
              "    </tr>\n",
              "  </thead>\n",
              "  <tbody>\n",
              "    <tr>\n",
              "      <th>1800.0</th>\n",
              "      <td>0.00568</td>\n",
              "      <td>0</td>\n",
              "      <td>0</td>\n",
              "      <td>-5.170804</td>\n",
              "    </tr>\n",
              "    <tr>\n",
              "      <th>1801.0</th>\n",
              "      <td>0.00561</td>\n",
              "      <td>1</td>\n",
              "      <td>1</td>\n",
              "      <td>-5.183205</td>\n",
              "    </tr>\n",
              "    <tr>\n",
              "      <th>1802.0</th>\n",
              "      <td>0.00555</td>\n",
              "      <td>2</td>\n",
              "      <td>4</td>\n",
              "      <td>-5.193957</td>\n",
              "    </tr>\n",
              "    <tr>\n",
              "      <th>1803.0</th>\n",
              "      <td>0.00548</td>\n",
              "      <td>3</td>\n",
              "      <td>9</td>\n",
              "      <td>-5.206650</td>\n",
              "    </tr>\n",
              "    <tr>\n",
              "      <th>1804.0</th>\n",
              "      <td>0.00542</td>\n",
              "      <td>4</td>\n",
              "      <td>16</td>\n",
              "      <td>-5.217659</td>\n",
              "    </tr>\n",
              "    <tr>\n",
              "      <th>...</th>\n",
              "      <td>...</td>\n",
              "      <td>...</td>\n",
              "      <td>...</td>\n",
              "      <td>...</td>\n",
              "    </tr>\n",
              "    <tr>\n",
              "      <th>2010.0</th>\n",
              "      <td>15.60000</td>\n",
              "      <td>210</td>\n",
              "      <td>44100</td>\n",
              "      <td>2.747271</td>\n",
              "    </tr>\n",
              "    <tr>\n",
              "      <th>2011.0</th>\n",
              "      <td>15.60000</td>\n",
              "      <td>211</td>\n",
              "      <td>44521</td>\n",
              "      <td>2.747271</td>\n",
              "    </tr>\n",
              "    <tr>\n",
              "      <th>2012.0</th>\n",
              "      <td>14.80000</td>\n",
              "      <td>212</td>\n",
              "      <td>44944</td>\n",
              "      <td>2.694627</td>\n",
              "    </tr>\n",
              "    <tr>\n",
              "      <th>2013.0</th>\n",
              "      <td>14.70000</td>\n",
              "      <td>213</td>\n",
              "      <td>45369</td>\n",
              "      <td>2.687847</td>\n",
              "    </tr>\n",
              "    <tr>\n",
              "      <th>2014.0</th>\n",
              "      <td>15.10000</td>\n",
              "      <td>214</td>\n",
              "      <td>45796</td>\n",
              "      <td>2.714695</td>\n",
              "    </tr>\n",
              "  </tbody>\n",
              "</table>\n",
              "<p>215 rows × 4 columns</p>\n",
              "</div>\n",
              "      <button class=\"colab-df-convert\" onclick=\"convertToInteractive('df-8d647f19-9457-4f54-a268-126d5aee0e38')\"\n",
              "              title=\"Convert this dataframe to an interactive table.\"\n",
              "              style=\"display:none;\">\n",
              "        \n",
              "  <svg xmlns=\"http://www.w3.org/2000/svg\" height=\"24px\"viewBox=\"0 0 24 24\"\n",
              "       width=\"24px\">\n",
              "    <path d=\"M0 0h24v24H0V0z\" fill=\"none\"/>\n",
              "    <path d=\"M18.56 5.44l.94 2.06.94-2.06 2.06-.94-2.06-.94-.94-2.06-.94 2.06-2.06.94zm-11 1L8.5 8.5l.94-2.06 2.06-.94-2.06-.94L8.5 2.5l-.94 2.06-2.06.94zm10 10l.94 2.06.94-2.06 2.06-.94-2.06-.94-.94-2.06-.94 2.06-2.06.94z\"/><path d=\"M17.41 7.96l-1.37-1.37c-.4-.4-.92-.59-1.43-.59-.52 0-1.04.2-1.43.59L10.3 9.45l-7.72 7.72c-.78.78-.78 2.05 0 2.83L4 21.41c.39.39.9.59 1.41.59.51 0 1.02-.2 1.41-.59l7.78-7.78 2.81-2.81c.8-.78.8-2.07 0-2.86zM5.41 20L4 18.59l7.72-7.72 1.47 1.35L5.41 20z\"/>\n",
              "  </svg>\n",
              "      </button>\n",
              "      \n",
              "  <style>\n",
              "    .colab-df-container {\n",
              "      display:flex;\n",
              "      flex-wrap:wrap;\n",
              "      gap: 12px;\n",
              "    }\n",
              "\n",
              "    .colab-df-convert {\n",
              "      background-color: #E8F0FE;\n",
              "      border: none;\n",
              "      border-radius: 50%;\n",
              "      cursor: pointer;\n",
              "      display: none;\n",
              "      fill: #1967D2;\n",
              "      height: 32px;\n",
              "      padding: 0 0 0 0;\n",
              "      width: 32px;\n",
              "    }\n",
              "\n",
              "    .colab-df-convert:hover {\n",
              "      background-color: #E2EBFA;\n",
              "      box-shadow: 0px 1px 2px rgba(60, 64, 67, 0.3), 0px 1px 3px 1px rgba(60, 64, 67, 0.15);\n",
              "      fill: #174EA6;\n",
              "    }\n",
              "\n",
              "    [theme=dark] .colab-df-convert {\n",
              "      background-color: #3B4455;\n",
              "      fill: #D2E3FC;\n",
              "    }\n",
              "\n",
              "    [theme=dark] .colab-df-convert:hover {\n",
              "      background-color: #434B5C;\n",
              "      box-shadow: 0px 1px 3px 1px rgba(0, 0, 0, 0.15);\n",
              "      filter: drop-shadow(0px 1px 2px rgba(0, 0, 0, 0.3));\n",
              "      fill: #FFFFFF;\n",
              "    }\n",
              "  </style>\n",
              "\n",
              "      <script>\n",
              "        const buttonEl =\n",
              "          document.querySelector('#df-8d647f19-9457-4f54-a268-126d5aee0e38 button.colab-df-convert');\n",
              "        buttonEl.style.display =\n",
              "          google.colab.kernel.accessAllowed ? 'block' : 'none';\n",
              "\n",
              "        async function convertToInteractive(key) {\n",
              "          const element = document.querySelector('#df-8d647f19-9457-4f54-a268-126d5aee0e38');\n",
              "          const dataTable =\n",
              "            await google.colab.kernel.invokeFunction('convertToInteractive',\n",
              "                                                     [key], {});\n",
              "          if (!dataTable) return;\n",
              "\n",
              "          const docLinkHtml = 'Like what you see? Visit the ' +\n",
              "            '<a target=\"_blank\" href=https://colab.research.google.com/notebooks/data_table.ipynb>data table notebook</a>'\n",
              "            + ' to learn more about interactive tables.';\n",
              "          element.innerHTML = '';\n",
              "          dataTable['output_type'] = 'display_data';\n",
              "          await google.colab.output.renderOutput(dataTable, element);\n",
              "          const docLink = document.createElement('div');\n",
              "          docLink.innerHTML = docLinkHtml;\n",
              "          element.appendChild(docLink);\n",
              "        }\n",
              "      </script>\n",
              "    </div>\n",
              "  </div>\n",
              "  "
            ]
          },
          "metadata": {},
          "execution_count": 98
        }
      ]
    },
    {
      "cell_type": "code",
      "source": [
        "train = df1.iloc[:195]\n",
        "test = df1.iloc[195:]\n",
        "print(train.shape,test.shape)"
      ],
      "metadata": {
        "colab": {
          "base_uri": "https://localhost:8080/"
        },
        "id": "Sr9DfQtBGBSb",
        "outputId": "2eece218-17df-4712-bbf2-a41efb6967ff"
      },
      "id": "Sr9DfQtBGBSb",
      "execution_count": 99,
      "outputs": [
        {
          "output_type": "stream",
          "name": "stdout",
          "text": [
            "(195, 4) (20, 4)\n"
          ]
        }
      ]
    },
    {
      "cell_type": "markdown",
      "source": [
        "### Linear Model"
      ],
      "metadata": {
        "id": "gl5Q2HuWGkrS"
      },
      "id": "gl5Q2HuWGkrS"
    },
    {
      "cell_type": "code",
      "source": [
        "import statsmodels.formula.api as smf\n",
        "import numpy as np\n",
        "\n",
        "linear_model = smf.ols('CO2~t',data=train).fit() #Training\n",
        "pred_linear =  pd.Series(linear_model.predict(pd.DataFrame(test['t']))) #Testing\n",
        "rmse_linear = np.sqrt(np.mean((np.array(test['CO2'])-np.array(pred_linear))**2)) #Evaluation metric - RMSE\n",
        "rmse_linear"
      ],
      "metadata": {
        "colab": {
          "base_uri": "https://localhost:8080/"
        },
        "id": "Plb8kV3WGXvZ",
        "outputId": "00010776-5fd4-4635-fb20-8cecf6b09a3a"
      },
      "id": "Plb8kV3WGXvZ",
      "execution_count": 100,
      "outputs": [
        {
          "output_type": "execute_result",
          "data": {
            "text/plain": [
              "1.2772233269805124"
            ]
          },
          "metadata": {},
          "execution_count": 100
        }
      ]
    },
    {
      "cell_type": "markdown",
      "source": [
        "### Exponential Model"
      ],
      "metadata": {
        "id": "xzWbgkNOGzZj"
      },
      "id": "xzWbgkNOGzZj"
    },
    {
      "cell_type": "code",
      "source": [
        "Exp = smf.ols('Log_Temp~t',data=train).fit()\n",
        "pred_Exp = pd.Series(Exp.predict(pd.DataFrame(test['t'])))\n",
        "rmse_Exp = np.sqrt(np.mean((np.array(test['CO2'])-np.array(np.exp(pred_Exp)))**2))\n",
        "rmse_Exp"
      ],
      "metadata": {
        "colab": {
          "base_uri": "https://localhost:8080/"
        },
        "id": "uTDoUq10GpOx",
        "outputId": "7b3dc76e-d16b-40c5-f2fe-92cf0d96b749"
      },
      "id": "uTDoUq10GpOx",
      "execution_count": 101,
      "outputs": [
        {
          "output_type": "execute_result",
          "data": {
            "text/plain": [
              "236.4719355746894"
            ]
          },
          "metadata": {},
          "execution_count": 101
        }
      ]
    },
    {
      "cell_type": "markdown",
      "source": [
        "### Quadratic Model"
      ],
      "metadata": {
        "id": "q8oQClbmG_SP"
      },
      "id": "q8oQClbmG_SP"
    },
    {
      "cell_type": "code",
      "source": [
        "#Quadratic\n",
        "Quad = smf.ols('CO2~t+t_squared',data=train).fit()\n",
        "pred_Quad = pd.Series(Quad.predict(test[[\"t\",\"t_squared\"]]))\n",
        "rmse_Quad = np.sqrt(np.mean((np.array(test['CO2'])-np.array(pred_Quad))**2))\n",
        "rmse_Quad"
      ],
      "metadata": {
        "colab": {
          "base_uri": "https://localhost:8080/"
        },
        "id": "yfvNpvWbG247",
        "outputId": "2b2fc929-cc8c-4f58-9e4e-0e8a87e0c4ed"
      },
      "id": "yfvNpvWbG247",
      "execution_count": 102,
      "outputs": [
        {
          "output_type": "execute_result",
          "data": {
            "text/plain": [
              "5.096472215502549"
            ]
          },
          "metadata": {},
          "execution_count": 102
        }
      ]
    },
    {
      "cell_type": "code",
      "source": [
        "print(ns_arima_acc['rmse'])\n",
        "print(SES_acc)\n",
        "print(DES_acc)\n",
        "print(Holt_acc)\n",
        "print(Holt_acc1)\n",
        "print(Holt_acc2)\n",
        "print(\"RMSE of Linear Model is\",rmse_linear)\n",
        "print(\"RMSE of Exponential Model is\",rmse_Exp)\n",
        "print(\"RMSE of Quadratic Model is\",rmse_Quad)"
      ],
      "metadata": {
        "colab": {
          "base_uri": "https://localhost:8080/"
        },
        "id": "9A_Vn9ayHDj7",
        "outputId": "ca456475-52aa-4b76-c7fe-f2550a8b543b"
      },
      "id": "9A_Vn9ayHDj7",
      "execution_count": 103,
      "outputs": [
        {
          "output_type": "stream",
          "name": "stdout",
          "text": [
            "0.9404496751966939\n",
            "{'Simple Exponential Smoothing Model RMSE': 0.9682045310926879}\n",
            "{'Double Exponential Smoothing Model RMSE': 1.6957306698146153}\n",
            "{'Holts Winter Smoothing Model RMSE': 0.9719107990665937}\n",
            "{'Holts Winter SE with multiplicative seasonality and additive trend RMSE': 0.9684473918296527}\n",
            "{'Holts Winter ES with multiplicative seasonality and  multiplicative trend RMSE': 1.2077266834977682}\n",
            "RMSE of Linear Model is 1.2772233269805124\n",
            "RMSE of Exponential Model is 236.4719355746894\n",
            "RMSE of Quadratic Model is 5.096472215502549\n"
          ]
        }
      ]
    },
    {
      "cell_type": "markdown",
      "source": [
        "## Final Model"
      ],
      "metadata": {
        "id": "WXtbDPVFHWiT"
      },
      "id": "WXtbDPVFHWiT"
    },
    {
      "cell_type": "code",
      "source": [
        "final_arima_test = ARIMA(df1['CO2'],order = (3,1,4))\n",
        "final_arima_test = final_arima_test.fit()\n",
        "final_arima_test.summary()"
      ],
      "metadata": {
        "colab": {
          "base_uri": "https://localhost:8080/",
          "height": 537
        },
        "id": "JqoYDBrwHHq9",
        "outputId": "0ab40660-fc14-403a-9587-9d6e53dd1acb"
      },
      "id": "JqoYDBrwHHq9",
      "execution_count": 151,
      "outputs": [
        {
          "output_type": "execute_result",
          "data": {
            "text/plain": [
              "<class 'statsmodels.iolib.summary.Summary'>\n",
              "\"\"\"\n",
              "                               SARIMAX Results                                \n",
              "==============================================================================\n",
              "Dep. Variable:                    CO2   No. Observations:                  215\n",
              "Model:                 ARIMA(3, 1, 4)   Log Likelihood                -166.984\n",
              "Date:                Tue, 07 Mar 2023   AIC                            349.968\n",
              "Time:                        17:36:26   BIC                            376.895\n",
              "Sample:                             0   HQIC                           360.849\n",
              "                                - 215                                         \n",
              "Covariance Type:                  opg                                         \n",
              "==============================================================================\n",
              "                 coef    std err          z      P>|z|      [0.025      0.975]\n",
              "------------------------------------------------------------------------------\n",
              "ar.L1          1.4805      0.189      7.829      0.000       1.110       1.851\n",
              "ar.L2         -0.1107      0.363     -0.305      0.760      -0.822       0.600\n",
              "ar.L3         -0.4446      0.188     -2.360      0.018      -0.814      -0.075\n",
              "ma.L1         -1.5635      0.196     -7.973      0.000      -1.948      -1.179\n",
              "ma.L2          0.0744      0.361      0.206      0.837      -0.633       0.781\n",
              "ma.L3          0.7941      0.187      4.255      0.000       0.428       1.160\n",
              "ma.L4         -0.2327      0.052     -4.499      0.000      -0.334      -0.131\n",
              "sigma2         0.2757      0.021     13.162      0.000       0.235       0.317\n",
              "===================================================================================\n",
              "Ljung-Box (L1) (Q):                   0.08   Jarque-Bera (JB):                78.18\n",
              "Prob(Q):                              0.78   Prob(JB):                         0.00\n",
              "Heteroskedasticity (H):             231.62   Skew:                            -0.17\n",
              "Prob(H) (two-sided):                  0.00   Kurtosis:                         5.94\n",
              "===================================================================================\n",
              "\n",
              "Warnings:\n",
              "[1] Covariance matrix calculated using the outer product of gradients (complex-step).\n",
              "\"\"\""
            ],
            "text/html": [
              "<table class=\"simpletable\">\n",
              "<caption>SARIMAX Results</caption>\n",
              "<tr>\n",
              "  <th>Dep. Variable:</th>          <td>CO2</td>       <th>  No. Observations:  </th>    <td>215</td>  \n",
              "</tr>\n",
              "<tr>\n",
              "  <th>Model:</th>            <td>ARIMA(3, 1, 4)</td>  <th>  Log Likelihood     </th> <td>-166.984</td>\n",
              "</tr>\n",
              "<tr>\n",
              "  <th>Date:</th>            <td>Tue, 07 Mar 2023</td> <th>  AIC                </th>  <td>349.968</td>\n",
              "</tr>\n",
              "<tr>\n",
              "  <th>Time:</th>                <td>17:36:26</td>     <th>  BIC                </th>  <td>376.895</td>\n",
              "</tr>\n",
              "<tr>\n",
              "  <th>Sample:</th>                  <td>0</td>        <th>  HQIC               </th>  <td>360.849</td>\n",
              "</tr>\n",
              "<tr>\n",
              "  <th></th>                      <td> - 215</td>      <th>                     </th>     <td> </td>   \n",
              "</tr>\n",
              "<tr>\n",
              "  <th>Covariance Type:</th>        <td>opg</td>       <th>                     </th>     <td> </td>   \n",
              "</tr>\n",
              "</table>\n",
              "<table class=\"simpletable\">\n",
              "<tr>\n",
              "     <td></td>       <th>coef</th>     <th>std err</th>      <th>z</th>      <th>P>|z|</th>  <th>[0.025</th>    <th>0.975]</th>  \n",
              "</tr>\n",
              "<tr>\n",
              "  <th>ar.L1</th>  <td>    1.4805</td> <td>    0.189</td> <td>    7.829</td> <td> 0.000</td> <td>    1.110</td> <td>    1.851</td>\n",
              "</tr>\n",
              "<tr>\n",
              "  <th>ar.L2</th>  <td>   -0.1107</td> <td>    0.363</td> <td>   -0.305</td> <td> 0.760</td> <td>   -0.822</td> <td>    0.600</td>\n",
              "</tr>\n",
              "<tr>\n",
              "  <th>ar.L3</th>  <td>   -0.4446</td> <td>    0.188</td> <td>   -2.360</td> <td> 0.018</td> <td>   -0.814</td> <td>   -0.075</td>\n",
              "</tr>\n",
              "<tr>\n",
              "  <th>ma.L1</th>  <td>   -1.5635</td> <td>    0.196</td> <td>   -7.973</td> <td> 0.000</td> <td>   -1.948</td> <td>   -1.179</td>\n",
              "</tr>\n",
              "<tr>\n",
              "  <th>ma.L2</th>  <td>    0.0744</td> <td>    0.361</td> <td>    0.206</td> <td> 0.837</td> <td>   -0.633</td> <td>    0.781</td>\n",
              "</tr>\n",
              "<tr>\n",
              "  <th>ma.L3</th>  <td>    0.7941</td> <td>    0.187</td> <td>    4.255</td> <td> 0.000</td> <td>    0.428</td> <td>    1.160</td>\n",
              "</tr>\n",
              "<tr>\n",
              "  <th>ma.L4</th>  <td>   -0.2327</td> <td>    0.052</td> <td>   -4.499</td> <td> 0.000</td> <td>   -0.334</td> <td>   -0.131</td>\n",
              "</tr>\n",
              "<tr>\n",
              "  <th>sigma2</th> <td>    0.2757</td> <td>    0.021</td> <td>   13.162</td> <td> 0.000</td> <td>    0.235</td> <td>    0.317</td>\n",
              "</tr>\n",
              "</table>\n",
              "<table class=\"simpletable\">\n",
              "<tr>\n",
              "  <th>Ljung-Box (L1) (Q):</th>      <td>0.08</td>  <th>  Jarque-Bera (JB):  </th> <td>78.18</td>\n",
              "</tr>\n",
              "<tr>\n",
              "  <th>Prob(Q):</th>                 <td>0.78</td>  <th>  Prob(JB):          </th> <td>0.00</td> \n",
              "</tr>\n",
              "<tr>\n",
              "  <th>Heteroskedasticity (H):</th> <td>231.62</td> <th>  Skew:              </th> <td>-0.17</td>\n",
              "</tr>\n",
              "<tr>\n",
              "  <th>Prob(H) (two-sided):</th>     <td>0.00</td>  <th>  Kurtosis:          </th> <td>5.94</td> \n",
              "</tr>\n",
              "</table><br/><br/>Warnings:<br/>[1] Covariance matrix calculated using the outer product of gradients (complex-step)."
            ]
          },
          "metadata": {},
          "execution_count": 151
        }
      ]
    },
    {
      "cell_type": "code",
      "source": [
        "final_arima_test.fittedvalues.tail()"
      ],
      "metadata": {
        "colab": {
          "base_uri": "https://localhost:8080/"
        },
        "id": "gvJ2b9sbHbqz",
        "outputId": "e57ebd7a-a09b-43ce-b424-e1971b259149"
      },
      "id": "gvJ2b9sbHbqz",
      "execution_count": 152,
      "outputs": [
        {
          "output_type": "execute_result",
          "data": {
            "text/plain": [
              "Year\n",
              "2010.0    15.746929\n",
              "2011.0    15.433681\n",
              "2012.0    15.301867\n",
              "2013.0    14.560096\n",
              "2014.0    14.550811\n",
              "dtype: float64"
            ]
          },
          "metadata": {},
          "execution_count": 152
        }
      ]
    },
    {
      "cell_type": "code",
      "source": [
        "data1 = pd.read_excel('CO2 dataset.xlsx', header=0, index_col=0, parse_dates=True)"
      ],
      "metadata": {
        "id": "ZCEcwZICHhas"
      },
      "id": "ZCEcwZICHhas",
      "execution_count": 106,
      "outputs": []
    },
    {
      "cell_type": "code",
      "source": [
        "plt.figure(figsize=(12,5), dpi=100)\n",
        "plt.plot(data1, label='original')\n",
        "#plt.plot(test, label='actual')\n",
        "plt.plot(final_arima_test.fittedvalues, label='forecast')\n",
        "plt.title('Forecast')\n",
        "plt.legend(loc='upper left', fontsize=8)\n",
        "plt.show()"
      ],
      "metadata": {
        "colab": {
          "base_uri": "https://localhost:8080/",
          "height": 460
        },
        "id": "YhcOpIYoSpqu",
        "outputId": "f5a2497e-04b7-4bcd-e8cd-be336d3647cb"
      },
      "id": "YhcOpIYoSpqu",
      "execution_count": 153,
      "outputs": [
        {
          "output_type": "display_data",
          "data": {
            "text/plain": [
              "<Figure size 1200x500 with 1 Axes>"
            ],
            "image/png": "[encoded data removed]"
          },
          "metadata": {
            "needs_background": "light"
          }
        }
      ]
    },
    {
      "cell_type": "markdown",
      "source": [
        "## Forecasting for 5 Years"
      ],
      "metadata": {
        "id": "SUbK39XLJNIh"
      },
      "id": "SUbK39XLJNIh"
    },
    {
      "cell_type": "code",
      "source": [
        "data1.head()"
      ],
      "metadata": {
        "colab": {
          "base_uri": "https://localhost:8080/",
          "height": 238
        },
        "id": "z-BsqXy4Ojx5",
        "outputId": "38ad8d7d-cbb7-4e1a-df1d-8986d455fe0b"
      },
      "id": "z-BsqXy4Ojx5",
      "execution_count": 108,
      "outputs": [
        {
          "output_type": "execute_result",
          "data": {
            "text/plain": [
              "            CO2\n",
              "Year           \n",
              "1800.0  0.00568\n",
              "1801.0  0.00561\n",
              "1802.0  0.00555\n",
              "1803.0  0.00548\n",
              "1804.0  0.00542"
            ],
            "text/html": [
              "\n",
              "  <div id=\"df-af1d8aaf-9cf7-4f5e-a6f6-9e6691a09dd9\">\n",
              "    <div class=\"colab-df-container\">\n",
              "      <div>\n",
              "<style scoped>\n",
              "    .dataframe tbody tr th:only-of-type {\n",
              "        vertical-align: middle;\n",
              "    }\n",
              "\n",
              "    .dataframe tbody tr th {\n",
              "        vertical-align: top;\n",
              "    }\n",
              "\n",
              "    .dataframe thead th {\n",
              "        text-align: right;\n",
              "    }\n",
              "</style>\n",
              "<table border=\"1\" class=\"dataframe\">\n",
              "  <thead>\n",
              "    <tr style=\"text-align: right;\">\n",
              "      <th></th>\n",
              "      <th>CO2</th>\n",
              "    </tr>\n",
              "    <tr>\n",
              "      <th>Year</th>\n",
              "      <th></th>\n",
              "    </tr>\n",
              "  </thead>\n",
              "  <tbody>\n",
              "    <tr>\n",
              "      <th>1800.0</th>\n",
              "      <td>0.00568</td>\n",
              "    </tr>\n",
              "    <tr>\n",
              "      <th>1801.0</th>\n",
              "      <td>0.00561</td>\n",
              "    </tr>\n",
              "    <tr>\n",
              "      <th>1802.0</th>\n",
              "      <td>0.00555</td>\n",
              "    </tr>\n",
              "    <tr>\n",
              "      <th>1803.0</th>\n",
              "      <td>0.00548</td>\n",
              "    </tr>\n",
              "    <tr>\n",
              "      <th>1804.0</th>\n",
              "      <td>0.00542</td>\n",
              "    </tr>\n",
              "  </tbody>\n",
              "</table>\n",
              "</div>\n",
              "      <button class=\"colab-df-convert\" onclick=\"convertToInteractive('df-af1d8aaf-9cf7-4f5e-a6f6-9e6691a09dd9')\"\n",
              "              title=\"Convert this dataframe to an interactive table.\"\n",
              "              style=\"display:none;\">\n",
              "        \n",
              "  <svg xmlns=\"http://www.w3.org/2000/svg\" height=\"24px\"viewBox=\"0 0 24 24\"\n",
              "       width=\"24px\">\n",
              "    <path d=\"M0 0h24v24H0V0z\" fill=\"none\"/>\n",
              "    <path d=\"M18.56 5.44l.94 2.06.94-2.06 2.06-.94-2.06-.94-.94-2.06-.94 2.06-2.06.94zm-11 1L8.5 8.5l.94-2.06 2.06-.94-2.06-.94L8.5 2.5l-.94 2.06-2.06.94zm10 10l.94 2.06.94-2.06 2.06-.94-2.06-.94-.94-2.06-.94 2.06-2.06.94z\"/><path d=\"M17.41 7.96l-1.37-1.37c-.4-.4-.92-.59-1.43-.59-.52 0-1.04.2-1.43.59L10.3 9.45l-7.72 7.72c-.78.78-.78 2.05 0 2.83L4 21.41c.39.39.9.59 1.41.59.51 0 1.02-.2 1.41-.59l7.78-7.78 2.81-2.81c.8-.78.8-2.07 0-2.86zM5.41 20L4 18.59l7.72-7.72 1.47 1.35L5.41 20z\"/>\n",
              "  </svg>\n",
              "      </button>\n",
              "      \n",
              "  <style>\n",
              "    .colab-df-container {\n",
              "      display:flex;\n",
              "      flex-wrap:wrap;\n",
              "      gap: 12px;\n",
              "    }\n",
              "\n",
              "    .colab-df-convert {\n",
              "      background-color: #E8F0FE;\n",
              "      border: none;\n",
              "      border-radius: 50%;\n",
              "      cursor: pointer;\n",
              "      display: none;\n",
              "      fill: #1967D2;\n",
              "      height: 32px;\n",
              "      padding: 0 0 0 0;\n",
              "      width: 32px;\n",
              "    }\n",
              "\n",
              "    .colab-df-convert:hover {\n",
              "      background-color: #E2EBFA;\n",
              "      box-shadow: 0px 1px 2px rgba(60, 64, 67, 0.3), 0px 1px 3px 1px rgba(60, 64, 67, 0.15);\n",
              "      fill: #174EA6;\n",
              "    }\n",
              "\n",
              "    [theme=dark] .colab-df-convert {\n",
              "      background-color: #3B4455;\n",
              "      fill: #D2E3FC;\n",
              "    }\n",
              "\n",
              "    [theme=dark] .colab-df-convert:hover {\n",
              "      background-color: #434B5C;\n",
              "      box-shadow: 0px 1px 3px 1px rgba(0, 0, 0, 0.15);\n",
              "      filter: drop-shadow(0px 1px 2px rgba(0, 0, 0, 0.3));\n",
              "      fill: #FFFFFF;\n",
              "    }\n",
              "  </style>\n",
              "\n",
              "      <script>\n",
              "        const buttonEl =\n",
              "          document.querySelector('#df-af1d8aaf-9cf7-4f5e-a6f6-9e6691a09dd9 button.colab-df-convert');\n",
              "        buttonEl.style.display =\n",
              "          google.colab.kernel.accessAllowed ? 'block' : 'none';\n",
              "\n",
              "        async function convertToInteractive(key) {\n",
              "          const element = document.querySelector('#df-af1d8aaf-9cf7-4f5e-a6f6-9e6691a09dd9');\n",
              "          const dataTable =\n",
              "            await google.colab.kernel.invokeFunction('convertToInteractive',\n",
              "                                                     [key], {});\n",
              "          if (!dataTable) return;\n",
              "\n",
              "          const docLinkHtml = 'Like what you see? Visit the ' +\n",
              "            '<a target=\"_blank\" href=https://colab.research.google.com/notebooks/data_table.ipynb>data table notebook</a>'\n",
              "            + ' to learn more about interactive tables.';\n",
              "          element.innerHTML = '';\n",
              "          dataTable['output_type'] = 'display_data';\n",
              "          await google.colab.output.renderOutput(dataTable, element);\n",
              "          const docLink = document.createElement('div');\n",
              "          docLink.innerHTML = docLinkHtml;\n",
              "          element.appendChild(docLink);\n",
              "        }\n",
              "      </script>\n",
              "    </div>\n",
              "  </div>\n",
              "  "
            ]
          },
          "metadata": {},
          "execution_count": 108
        }
      ]
    },
    {
      "cell_type": "code",
      "source": [
        "data1.isna().sum()"
      ],
      "metadata": {
        "colab": {
          "base_uri": "https://localhost:8080/"
        },
        "id": "7H_WvnAG9naB",
        "outputId": "0d5ee89f-6bcf-4f83-ff6f-b292b7752a93"
      },
      "id": "7H_WvnAG9naB",
      "execution_count": 127,
      "outputs": [
        {
          "output_type": "execute_result",
          "data": {
            "text/plain": [
              "CO2    0\n",
              "dtype: int64"
            ]
          },
          "metadata": {},
          "execution_count": 127
        }
      ]
    },
    {
      "cell_type": "code",
      "source": [
        "data1.reset_index(inplace=True)"
      ],
      "metadata": {
        "id": "uhqI6PTVSxPG"
      },
      "id": "uhqI6PTVSxPG",
      "execution_count": 109,
      "outputs": []
    },
    {
      "cell_type": "code",
      "source": [
        "data1.head()"
      ],
      "metadata": {
        "colab": {
          "base_uri": "https://localhost:8080/",
          "height": 206
        },
        "id": "OTp3Z8yqT5PG",
        "outputId": "d82b2170-c0d8-4c3e-b9f0-2e02eb8c48b1"
      },
      "id": "OTp3Z8yqT5PG",
      "execution_count": 110,
      "outputs": [
        {
          "output_type": "execute_result",
          "data": {
            "text/plain": [
              "     Year      CO2\n",
              "0  1800.0  0.00568\n",
              "1  1801.0  0.00561\n",
              "2  1802.0  0.00555\n",
              "3  1803.0  0.00548\n",
              "4  1804.0  0.00542"
            ],
            "text/html": [
              "\n",
              "  <div id=\"df-9186dc50-12e2-4ed9-a74b-774080cbff8b\">\n",
              "    <div class=\"colab-df-container\">\n",
              "      <div>\n",
              "<style scoped>\n",
              "    .dataframe tbody tr th:only-of-type {\n",
              "        vertical-align: middle;\n",
              "    }\n",
              "\n",
              "    .dataframe tbody tr th {\n",
              "        vertical-align: top;\n",
              "    }\n",
              "\n",
              "    .dataframe thead th {\n",
              "        text-align: right;\n",
              "    }\n",
              "</style>\n",
              "<table border=\"1\" class=\"dataframe\">\n",
              "  <thead>\n",
              "    <tr style=\"text-align: right;\">\n",
              "      <th></th>\n",
              "      <th>Year</th>\n",
              "      <th>CO2</th>\n",
              "    </tr>\n",
              "  </thead>\n",
              "  <tbody>\n",
              "    <tr>\n",
              "      <th>0</th>\n",
              "      <td>1800.0</td>\n",
              "      <td>0.00568</td>\n",
              "    </tr>\n",
              "    <tr>\n",
              "      <th>1</th>\n",
              "      <td>1801.0</td>\n",
              "      <td>0.00561</td>\n",
              "    </tr>\n",
              "    <tr>\n",
              "      <th>2</th>\n",
              "      <td>1802.0</td>\n",
              "      <td>0.00555</td>\n",
              "    </tr>\n",
              "    <tr>\n",
              "      <th>3</th>\n",
              "      <td>1803.0</td>\n",
              "      <td>0.00548</td>\n",
              "    </tr>\n",
              "    <tr>\n",
              "      <th>4</th>\n",
              "      <td>1804.0</td>\n",
              "      <td>0.00542</td>\n",
              "    </tr>\n",
              "  </tbody>\n",
              "</table>\n",
              "</div>\n",
              "      <button class=\"colab-df-convert\" onclick=\"convertToInteractive('df-9186dc50-12e2-4ed9-a74b-774080cbff8b')\"\n",
              "              title=\"Convert this dataframe to an interactive table.\"\n",
              "              style=\"display:none;\">\n",
              "        \n",
              "  <svg xmlns=\"http://www.w3.org/2000/svg\" height=\"24px\"viewBox=\"0 0 24 24\"\n",
              "       width=\"24px\">\n",
              "    <path d=\"M0 0h24v24H0V0z\" fill=\"none\"/>\n",
              "    <path d=\"M18.56 5.44l.94 2.06.94-2.06 2.06-.94-2.06-.94-.94-2.06-.94 2.06-2.06.94zm-11 1L8.5 8.5l.94-2.06 2.06-.94-2.06-.94L8.5 2.5l-.94 2.06-2.06.94zm10 10l.94 2.06.94-2.06 2.06-.94-2.06-.94-.94-2.06-.94 2.06-2.06.94z\"/><path d=\"M17.41 7.96l-1.37-1.37c-.4-.4-.92-.59-1.43-.59-.52 0-1.04.2-1.43.59L10.3 9.45l-7.72 7.72c-.78.78-.78 2.05 0 2.83L4 21.41c.39.39.9.59 1.41.59.51 0 1.02-.2 1.41-.59l7.78-7.78 2.81-2.81c.8-.78.8-2.07 0-2.86zM5.41 20L4 18.59l7.72-7.72 1.47 1.35L5.41 20z\"/>\n",
              "  </svg>\n",
              "      </button>\n",
              "      \n",
              "  <style>\n",
              "    .colab-df-container {\n",
              "      display:flex;\n",
              "      flex-wrap:wrap;\n",
              "      gap: 12px;\n",
              "    }\n",
              "\n",
              "    .colab-df-convert {\n",
              "      background-color: #E8F0FE;\n",
              "      border: none;\n",
              "      border-radius: 50%;\n",
              "      cursor: pointer;\n",
              "      display: none;\n",
              "      fill: #1967D2;\n",
              "      height: 32px;\n",
              "      padding: 0 0 0 0;\n",
              "      width: 32px;\n",
              "    }\n",
              "\n",
              "    .colab-df-convert:hover {\n",
              "      background-color: #E2EBFA;\n",
              "      box-shadow: 0px 1px 2px rgba(60, 64, 67, 0.3), 0px 1px 3px 1px rgba(60, 64, 67, 0.15);\n",
              "      fill: #174EA6;\n",
              "    }\n",
              "\n",
              "    [theme=dark] .colab-df-convert {\n",
              "      background-color: #3B4455;\n",
              "      fill: #D2E3FC;\n",
              "    }\n",
              "\n",
              "    [theme=dark] .colab-df-convert:hover {\n",
              "      background-color: #434B5C;\n",
              "      box-shadow: 0px 1px 3px 1px rgba(0, 0, 0, 0.15);\n",
              "      filter: drop-shadow(0px 1px 2px rgba(0, 0, 0, 0.3));\n",
              "      fill: #FFFFFF;\n",
              "    }\n",
              "  </style>\n",
              "\n",
              "      <script>\n",
              "        const buttonEl =\n",
              "          document.querySelector('#df-9186dc50-12e2-4ed9-a74b-774080cbff8b button.colab-df-convert');\n",
              "        buttonEl.style.display =\n",
              "          google.colab.kernel.accessAllowed ? 'block' : 'none';\n",
              "\n",
              "        async function convertToInteractive(key) {\n",
              "          const element = document.querySelector('#df-9186dc50-12e2-4ed9-a74b-774080cbff8b');\n",
              "          const dataTable =\n",
              "            await google.colab.kernel.invokeFunction('convertToInteractive',\n",
              "                                                     [key], {});\n",
              "          if (!dataTable) return;\n",
              "\n",
              "          const docLinkHtml = 'Like what you see? Visit the ' +\n",
              "            '<a target=\"_blank\" href=https://colab.research.google.com/notebooks/data_table.ipynb>data table notebook</a>'\n",
              "            + ' to learn more about interactive tables.';\n",
              "          element.innerHTML = '';\n",
              "          dataTable['output_type'] = 'display_data';\n",
              "          await google.colab.output.renderOutput(dataTable, element);\n",
              "          const docLink = document.createElement('div');\n",
              "          docLink.innerHTML = docLinkHtml;\n",
              "          element.appendChild(docLink);\n",
              "        }\n",
              "      </script>\n",
              "    </div>\n",
              "  </div>\n",
              "  "
            ]
          },
          "metadata": {},
          "execution_count": 110
        }
      ]
    },
    {
      "cell_type": "code",
      "source": [
        "data1.info()"
      ],
      "metadata": {
        "colab": {
          "base_uri": "https://localhost:8080/"
        },
        "id": "qCr8fHMtT8rw",
        "outputId": "5fd4c50e-feee-4376-af9b-7781ba3b197d"
      },
      "id": "qCr8fHMtT8rw",
      "execution_count": 111,
      "outputs": [
        {
          "output_type": "stream",
          "name": "stdout",
          "text": [
            "<class 'pandas.core.frame.DataFrame'>\n",
            "RangeIndex: 215 entries, 0 to 214\n",
            "Data columns (total 2 columns):\n",
            " #   Column  Non-Null Count  Dtype  \n",
            "---  ------  --------------  -----  \n",
            " 0   Year    215 non-null    float64\n",
            " 1   CO2     215 non-null    float64\n",
            "dtypes: float64(2)\n",
            "memory usage: 3.5 KB\n"
          ]
        }
      ]
    },
    {
      "cell_type": "code",
      "source": [
        "data1['Year'] = pd.to_datetime(data1['Year'], format='%Y', errors='coerce')"
      ],
      "metadata": {
        "id": "ibWt-v5DUCM5"
      },
      "id": "ibWt-v5DUCM5",
      "execution_count": 112,
      "outputs": []
    },
    {
      "cell_type": "code",
      "source": [
        "data1.info()"
      ],
      "metadata": {
        "colab": {
          "base_uri": "https://localhost:8080/"
        },
        "id": "iA6_BZRmfYYH",
        "outputId": "b133052b-6905-45ee-f0f1-1230b86e6b3f"
      },
      "id": "iA6_BZRmfYYH",
      "execution_count": 113,
      "outputs": [
        {
          "output_type": "stream",
          "name": "stdout",
          "text": [
            "<class 'pandas.core.frame.DataFrame'>\n",
            "RangeIndex: 215 entries, 0 to 214\n",
            "Data columns (total 2 columns):\n",
            " #   Column  Non-Null Count  Dtype         \n",
            "---  ------  --------------  -----         \n",
            " 0   Year    215 non-null    datetime64[ns]\n",
            " 1   CO2     215 non-null    float64       \n",
            "dtypes: datetime64[ns](1), float64(1)\n",
            "memory usage: 3.5 KB\n"
          ]
        }
      ]
    },
    {
      "cell_type": "code",
      "source": [
        "from pandas.tseries.offsets import DateOffset"
      ],
      "metadata": {
        "id": "z92zRe9CUWlo"
      },
      "id": "z92zRe9CUWlo",
      "execution_count": 114,
      "outputs": []
    },
    {
      "cell_type": "code",
      "source": [
        "data1.set_index('Year', inplace=True)"
      ],
      "metadata": {
        "id": "GbDUtTykfJNy"
      },
      "id": "GbDUtTykfJNy",
      "execution_count": 115,
      "outputs": []
    },
    {
      "cell_type": "code",
      "source": [
        "data1.head()"
      ],
      "metadata": {
        "colab": {
          "base_uri": "https://localhost:8080/",
          "height": 238
        },
        "id": "ELsaZjLqgvB2",
        "outputId": "4ab8aa38-33aa-45cf-e30f-df918b61639f"
      },
      "id": "ELsaZjLqgvB2",
      "execution_count": 116,
      "outputs": [
        {
          "output_type": "execute_result",
          "data": {
            "text/plain": [
              "                CO2\n",
              "Year               \n",
              "1800-01-01  0.00568\n",
              "1801-01-01  0.00561\n",
              "1802-01-01  0.00555\n",
              "1803-01-01  0.00548\n",
              "1804-01-01  0.00542"
            ],
            "text/html": [
              "\n",
              "  <div id=\"df-86d7153a-9c82-4477-a3da-28f7ceb71fba\">\n",
              "    <div class=\"colab-df-container\">\n",
              "      <div>\n",
              "<style scoped>\n",
              "    .dataframe tbody tr th:only-of-type {\n",
              "        vertical-align: middle;\n",
              "    }\n",
              "\n",
              "    .dataframe tbody tr th {\n",
              "        vertical-align: top;\n",
              "    }\n",
              "\n",
              "    .dataframe thead th {\n",
              "        text-align: right;\n",
              "    }\n",
              "</style>\n",
              "<table border=\"1\" class=\"dataframe\">\n",
              "  <thead>\n",
              "    <tr style=\"text-align: right;\">\n",
              "      <th></th>\n",
              "      <th>CO2</th>\n",
              "    </tr>\n",
              "    <tr>\n",
              "      <th>Year</th>\n",
              "      <th></th>\n",
              "    </tr>\n",
              "  </thead>\n",
              "  <tbody>\n",
              "    <tr>\n",
              "      <th>1800-01-01</th>\n",
              "      <td>0.00568</td>\n",
              "    </tr>\n",
              "    <tr>\n",
              "      <th>1801-01-01</th>\n",
              "      <td>0.00561</td>\n",
              "    </tr>\n",
              "    <tr>\n",
              "      <th>1802-01-01</th>\n",
              "      <td>0.00555</td>\n",
              "    </tr>\n",
              "    <tr>\n",
              "      <th>1803-01-01</th>\n",
              "      <td>0.00548</td>\n",
              "    </tr>\n",
              "    <tr>\n",
              "      <th>1804-01-01</th>\n",
              "      <td>0.00542</td>\n",
              "    </tr>\n",
              "  </tbody>\n",
              "</table>\n",
              "</div>\n",
              "      <button class=\"colab-df-convert\" onclick=\"convertToInteractive('df-86d7153a-9c82-4477-a3da-28f7ceb71fba')\"\n",
              "              title=\"Convert this dataframe to an interactive table.\"\n",
              "              style=\"display:none;\">\n",
              "        \n",
              "  <svg xmlns=\"http://www.w3.org/2000/svg\" height=\"24px\"viewBox=\"0 0 24 24\"\n",
              "       width=\"24px\">\n",
              "    <path d=\"M0 0h24v24H0V0z\" fill=\"none\"/>\n",
              "    <path d=\"M18.56 5.44l.94 2.06.94-2.06 2.06-.94-2.06-.94-.94-2.06-.94 2.06-2.06.94zm-11 1L8.5 8.5l.94-2.06 2.06-.94-2.06-.94L8.5 2.5l-.94 2.06-2.06.94zm10 10l.94 2.06.94-2.06 2.06-.94-2.06-.94-.94-2.06-.94 2.06-2.06.94z\"/><path d=\"M17.41 7.96l-1.37-1.37c-.4-.4-.92-.59-1.43-.59-.52 0-1.04.2-1.43.59L10.3 9.45l-7.72 7.72c-.78.78-.78 2.05 0 2.83L4 21.41c.39.39.9.59 1.41.59.51 0 1.02-.2 1.41-.59l7.78-7.78 2.81-2.81c.8-.78.8-2.07 0-2.86zM5.41 20L4 18.59l7.72-7.72 1.47 1.35L5.41 20z\"/>\n",
              "  </svg>\n",
              "      </button>\n",
              "      \n",
              "  <style>\n",
              "    .colab-df-container {\n",
              "      display:flex;\n",
              "      flex-wrap:wrap;\n",
              "      gap: 12px;\n",
              "    }\n",
              "\n",
              "    .colab-df-convert {\n",
              "      background-color: #E8F0FE;\n",
              "      border: none;\n",
              "      border-radius: 50%;\n",
              "      cursor: pointer;\n",
              "      display: none;\n",
              "      fill: #1967D2;\n",
              "      height: 32px;\n",
              "      padding: 0 0 0 0;\n",
              "      width: 32px;\n",
              "    }\n",
              "\n",
              "    .colab-df-convert:hover {\n",
              "      background-color: #E2EBFA;\n",
              "      box-shadow: 0px 1px 2px rgba(60, 64, 67, 0.3), 0px 1px 3px 1px rgba(60, 64, 67, 0.15);\n",
              "      fill: #174EA6;\n",
              "    }\n",
              "\n",
              "    [theme=dark] .colab-df-convert {\n",
              "      background-color: #3B4455;\n",
              "      fill: #D2E3FC;\n",
              "    }\n",
              "\n",
              "    [theme=dark] .colab-df-convert:hover {\n",
              "      background-color: #434B5C;\n",
              "      box-shadow: 0px 1px 3px 1px rgba(0, 0, 0, 0.15);\n",
              "      filter: drop-shadow(0px 1px 2px rgba(0, 0, 0, 0.3));\n",
              "      fill: #FFFFFF;\n",
              "    }\n",
              "  </style>\n",
              "\n",
              "      <script>\n",
              "        const buttonEl =\n",
              "          document.querySelector('#df-86d7153a-9c82-4477-a3da-28f7ceb71fba button.colab-df-convert');\n",
              "        buttonEl.style.display =\n",
              "          google.colab.kernel.accessAllowed ? 'block' : 'none';\n",
              "\n",
              "        async function convertToInteractive(key) {\n",
              "          const element = document.querySelector('#df-86d7153a-9c82-4477-a3da-28f7ceb71fba');\n",
              "          const dataTable =\n",
              "            await google.colab.kernel.invokeFunction('convertToInteractive',\n",
              "                                                     [key], {});\n",
              "          if (!dataTable) return;\n",
              "\n",
              "          const docLinkHtml = 'Like what you see? Visit the ' +\n",
              "            '<a target=\"_blank\" href=https://colab.research.google.com/notebooks/data_table.ipynb>data table notebook</a>'\n",
              "            + ' to learn more about interactive tables.';\n",
              "          element.innerHTML = '';\n",
              "          dataTable['output_type'] = 'display_data';\n",
              "          await google.colab.output.renderOutput(dataTable, element);\n",
              "          const docLink = document.createElement('div');\n",
              "          docLink.innerHTML = docLinkHtml;\n",
              "          element.appendChild(docLink);\n",
              "        }\n",
              "      </script>\n",
              "    </div>\n",
              "  </div>\n",
              "  "
            ]
          },
          "metadata": {},
          "execution_count": 116
        }
      ]
    },
    {
      "cell_type": "code",
      "source": [
        "future_dates=[data1.index[-1]+ DateOffset(years=x)for x in range(0,6)]"
      ],
      "metadata": {
        "id": "csLoSQ89g2AO"
      },
      "id": "csLoSQ89g2AO",
      "execution_count": 117,
      "outputs": []
    },
    {
      "cell_type": "code",
      "source": [
        "future_df=pd.DataFrame(index=future_dates[1:],columns=data1.columns)"
      ],
      "metadata": {
        "id": "XwAOuxskg78o"
      },
      "id": "XwAOuxskg78o",
      "execution_count": 118,
      "outputs": []
    },
    {
      "cell_type": "code",
      "source": [
        "future_df"
      ],
      "metadata": {
        "colab": {
          "base_uri": "https://localhost:8080/",
          "height": 206
        },
        "id": "SZwSmWY-g_sr",
        "outputId": "f17d52e8-23f7-436c-838c-552cc5d2045a"
      },
      "id": "SZwSmWY-g_sr",
      "execution_count": 119,
      "outputs": [
        {
          "output_type": "execute_result",
          "data": {
            "text/plain": [
              "            CO2\n",
              "2015-01-01  NaN\n",
              "2016-01-01  NaN\n",
              "2017-01-01  NaN\n",
              "2018-01-01  NaN\n",
              "2019-01-01  NaN"
            ],
            "text/html": [
              "\n",
              "  <div id=\"df-e997e2c1-a28a-4593-80b5-9701ff062dbe\">\n",
              "    <div class=\"colab-df-container\">\n",
              "      <div>\n",
              "<style scoped>\n",
              "    .dataframe tbody tr th:only-of-type {\n",
              "        vertical-align: middle;\n",
              "    }\n",
              "\n",
              "    .dataframe tbody tr th {\n",
              "        vertical-align: top;\n",
              "    }\n",
              "\n",
              "    .dataframe thead th {\n",
              "        text-align: right;\n",
              "    }\n",
              "</style>\n",
              "<table border=\"1\" class=\"dataframe\">\n",
              "  <thead>\n",
              "    <tr style=\"text-align: right;\">\n",
              "      <th></th>\n",
              "      <th>CO2</th>\n",
              "    </tr>\n",
              "  </thead>\n",
              "  <tbody>\n",
              "    <tr>\n",
              "      <th>2015-01-01</th>\n",
              "      <td>NaN</td>\n",
              "    </tr>\n",
              "    <tr>\n",
              "      <th>2016-01-01</th>\n",
              "      <td>NaN</td>\n",
              "    </tr>\n",
              "    <tr>\n",
              "      <th>2017-01-01</th>\n",
              "      <td>NaN</td>\n",
              "    </tr>\n",
              "    <tr>\n",
              "      <th>2018-01-01</th>\n",
              "      <td>NaN</td>\n",
              "    </tr>\n",
              "    <tr>\n",
              "      <th>2019-01-01</th>\n",
              "      <td>NaN</td>\n",
              "    </tr>\n",
              "  </tbody>\n",
              "</table>\n",
              "</div>\n",
              "      <button class=\"colab-df-convert\" onclick=\"convertToInteractive('df-e997e2c1-a28a-4593-80b5-9701ff062dbe')\"\n",
              "              title=\"Convert this dataframe to an interactive table.\"\n",
              "              style=\"display:none;\">\n",
              "        \n",
              "  <svg xmlns=\"http://www.w3.org/2000/svg\" height=\"24px\"viewBox=\"0 0 24 24\"\n",
              "       width=\"24px\">\n",
              "    <path d=\"M0 0h24v24H0V0z\" fill=\"none\"/>\n",
              "    <path d=\"M18.56 5.44l.94 2.06.94-2.06 2.06-.94-2.06-.94-.94-2.06-.94 2.06-2.06.94zm-11 1L8.5 8.5l.94-2.06 2.06-.94-2.06-.94L8.5 2.5l-.94 2.06-2.06.94zm10 10l.94 2.06.94-2.06 2.06-.94-2.06-.94-.94-2.06-.94 2.06-2.06.94z\"/><path d=\"M17.41 7.96l-1.37-1.37c-.4-.4-.92-.59-1.43-.59-.52 0-1.04.2-1.43.59L10.3 9.45l-7.72 7.72c-.78.78-.78 2.05 0 2.83L4 21.41c.39.39.9.59 1.41.59.51 0 1.02-.2 1.41-.59l7.78-7.78 2.81-2.81c.8-.78.8-2.07 0-2.86zM5.41 20L4 18.59l7.72-7.72 1.47 1.35L5.41 20z\"/>\n",
              "  </svg>\n",
              "      </button>\n",
              "      \n",
              "  <style>\n",
              "    .colab-df-container {\n",
              "      display:flex;\n",
              "      flex-wrap:wrap;\n",
              "      gap: 12px;\n",
              "    }\n",
              "\n",
              "    .colab-df-convert {\n",
              "      background-color: #E8F0FE;\n",
              "      border: none;\n",
              "      border-radius: 50%;\n",
              "      cursor: pointer;\n",
              "      display: none;\n",
              "      fill: #1967D2;\n",
              "      height: 32px;\n",
              "      padding: 0 0 0 0;\n",
              "      width: 32px;\n",
              "    }\n",
              "\n",
              "    .colab-df-convert:hover {\n",
              "      background-color: #E2EBFA;\n",
              "      box-shadow: 0px 1px 2px rgba(60, 64, 67, 0.3), 0px 1px 3px 1px rgba(60, 64, 67, 0.15);\n",
              "      fill: #174EA6;\n",
              "    }\n",
              "\n",
              "    [theme=dark] .colab-df-convert {\n",
              "      background-color: #3B4455;\n",
              "      fill: #D2E3FC;\n",
              "    }\n",
              "\n",
              "    [theme=dark] .colab-df-convert:hover {\n",
              "      background-color: #434B5C;\n",
              "      box-shadow: 0px 1px 3px 1px rgba(0, 0, 0, 0.15);\n",
              "      filter: drop-shadow(0px 1px 2px rgba(0, 0, 0, 0.3));\n",
              "      fill: #FFFFFF;\n",
              "    }\n",
              "  </style>\n",
              "\n",
              "      <script>\n",
              "        const buttonEl =\n",
              "          document.querySelector('#df-e997e2c1-a28a-4593-80b5-9701ff062dbe button.colab-df-convert');\n",
              "        buttonEl.style.display =\n",
              "          google.colab.kernel.accessAllowed ? 'block' : 'none';\n",
              "\n",
              "        async function convertToInteractive(key) {\n",
              "          const element = document.querySelector('#df-e997e2c1-a28a-4593-80b5-9701ff062dbe');\n",
              "          const dataTable =\n",
              "            await google.colab.kernel.invokeFunction('convertToInteractive',\n",
              "                                                     [key], {});\n",
              "          if (!dataTable) return;\n",
              "\n",
              "          const docLinkHtml = 'Like what you see? Visit the ' +\n",
              "            '<a target=\"_blank\" href=https://colab.research.google.com/notebooks/data_table.ipynb>data table notebook</a>'\n",
              "            + ' to learn more about interactive tables.';\n",
              "          element.innerHTML = '';\n",
              "          dataTable['output_type'] = 'display_data';\n",
              "          await google.colab.output.renderOutput(dataTable, element);\n",
              "          const docLink = document.createElement('div');\n",
              "          docLink.innerHTML = docLinkHtml;\n",
              "          element.appendChild(docLink);\n",
              "        }\n",
              "      </script>\n",
              "    </div>\n",
              "  </div>\n",
              "  "
            ]
          },
          "metadata": {},
          "execution_count": 119
        }
      ]
    },
    {
      "cell_type": "code",
      "source": [
        "future_df.tail()"
      ],
      "metadata": {
        "colab": {
          "base_uri": "https://localhost:8080/",
          "height": 206
        },
        "id": "eOkmOYlWiXes",
        "outputId": "81e451a9-13ec-467c-a8c5-48f48fd123d3"
      },
      "id": "eOkmOYlWiXes",
      "execution_count": 121,
      "outputs": [
        {
          "output_type": "execute_result",
          "data": {
            "text/plain": [
              "            CO2\n",
              "2015-01-01  NaN\n",
              "2016-01-01  NaN\n",
              "2017-01-01  NaN\n",
              "2018-01-01  NaN\n",
              "2019-01-01  NaN"
            ],
            "text/html": [
              "\n",
              "  <div id=\"df-7a7cff61-646f-42c4-bca5-4e1c103534f5\">\n",
              "    <div class=\"colab-df-container\">\n",
              "      <div>\n",
              "<style scoped>\n",
              "    .dataframe tbody tr th:only-of-type {\n",
              "        vertical-align: middle;\n",
              "    }\n",
              "\n",
              "    .dataframe tbody tr th {\n",
              "        vertical-align: top;\n",
              "    }\n",
              "\n",
              "    .dataframe thead th {\n",
              "        text-align: right;\n",
              "    }\n",
              "</style>\n",
              "<table border=\"1\" class=\"dataframe\">\n",
              "  <thead>\n",
              "    <tr style=\"text-align: right;\">\n",
              "      <th></th>\n",
              "      <th>CO2</th>\n",
              "    </tr>\n",
              "  </thead>\n",
              "  <tbody>\n",
              "    <tr>\n",
              "      <th>2015-01-01</th>\n",
              "      <td>NaN</td>\n",
              "    </tr>\n",
              "    <tr>\n",
              "      <th>2016-01-01</th>\n",
              "      <td>NaN</td>\n",
              "    </tr>\n",
              "    <tr>\n",
              "      <th>2017-01-01</th>\n",
              "      <td>NaN</td>\n",
              "    </tr>\n",
              "    <tr>\n",
              "      <th>2018-01-01</th>\n",
              "      <td>NaN</td>\n",
              "    </tr>\n",
              "    <tr>\n",
              "      <th>2019-01-01</th>\n",
              "      <td>NaN</td>\n",
              "    </tr>\n",
              "  </tbody>\n",
              "</table>\n",
              "</div>\n",
              "      <button class=\"colab-df-convert\" onclick=\"convertToInteractive('df-7a7cff61-646f-42c4-bca5-4e1c103534f5')\"\n",
              "              title=\"Convert this dataframe to an interactive table.\"\n",
              "              style=\"display:none;\">\n",
              "        \n",
              "  <svg xmlns=\"http://www.w3.org/2000/svg\" height=\"24px\"viewBox=\"0 0 24 24\"\n",
              "       width=\"24px\">\n",
              "    <path d=\"M0 0h24v24H0V0z\" fill=\"none\"/>\n",
              "    <path d=\"M18.56 5.44l.94 2.06.94-2.06 2.06-.94-2.06-.94-.94-2.06-.94 2.06-2.06.94zm-11 1L8.5 8.5l.94-2.06 2.06-.94-2.06-.94L8.5 2.5l-.94 2.06-2.06.94zm10 10l.94 2.06.94-2.06 2.06-.94-2.06-.94-.94-2.06-.94 2.06-2.06.94z\"/><path d=\"M17.41 7.96l-1.37-1.37c-.4-.4-.92-.59-1.43-.59-.52 0-1.04.2-1.43.59L10.3 9.45l-7.72 7.72c-.78.78-.78 2.05 0 2.83L4 21.41c.39.39.9.59 1.41.59.51 0 1.02-.2 1.41-.59l7.78-7.78 2.81-2.81c.8-.78.8-2.07 0-2.86zM5.41 20L4 18.59l7.72-7.72 1.47 1.35L5.41 20z\"/>\n",
              "  </svg>\n",
              "      </button>\n",
              "      \n",
              "  <style>\n",
              "    .colab-df-container {\n",
              "      display:flex;\n",
              "      flex-wrap:wrap;\n",
              "      gap: 12px;\n",
              "    }\n",
              "\n",
              "    .colab-df-convert {\n",
              "      background-color: #E8F0FE;\n",
              "      border: none;\n",
              "      border-radius: 50%;\n",
              "      cursor: pointer;\n",
              "      display: none;\n",
              "      fill: #1967D2;\n",
              "      height: 32px;\n",
              "      padding: 0 0 0 0;\n",
              "      width: 32px;\n",
              "    }\n",
              "\n",
              "    .colab-df-convert:hover {\n",
              "      background-color: #E2EBFA;\n",
              "      box-shadow: 0px 1px 2px rgba(60, 64, 67, 0.3), 0px 1px 3px 1px rgba(60, 64, 67, 0.15);\n",
              "      fill: #174EA6;\n",
              "    }\n",
              "\n",
              "    [theme=dark] .colab-df-convert {\n",
              "      background-color: #3B4455;\n",
              "      fill: #D2E3FC;\n",
              "    }\n",
              "\n",
              "    [theme=dark] .colab-df-convert:hover {\n",
              "      background-color: #434B5C;\n",
              "      box-shadow: 0px 1px 3px 1px rgba(0, 0, 0, 0.15);\n",
              "      filter: drop-shadow(0px 1px 2px rgba(0, 0, 0, 0.3));\n",
              "      fill: #FFFFFF;\n",
              "    }\n",
              "  </style>\n",
              "\n",
              "      <script>\n",
              "        const buttonEl =\n",
              "          document.querySelector('#df-7a7cff61-646f-42c4-bca5-4e1c103534f5 button.colab-df-convert');\n",
              "        buttonEl.style.display =\n",
              "          google.colab.kernel.accessAllowed ? 'block' : 'none';\n",
              "\n",
              "        async function convertToInteractive(key) {\n",
              "          const element = document.querySelector('#df-7a7cff61-646f-42c4-bca5-4e1c103534f5');\n",
              "          const dataTable =\n",
              "            await google.colab.kernel.invokeFunction('convertToInteractive',\n",
              "                                                     [key], {});\n",
              "          if (!dataTable) return;\n",
              "\n",
              "          const docLinkHtml = 'Like what you see? Visit the ' +\n",
              "            '<a target=\"_blank\" href=https://colab.research.google.com/notebooks/data_table.ipynb>data table notebook</a>'\n",
              "            + ' to learn more about interactive tables.';\n",
              "          element.innerHTML = '';\n",
              "          dataTable['output_type'] = 'display_data';\n",
              "          await google.colab.output.renderOutput(dataTable, element);\n",
              "          const docLink = document.createElement('div');\n",
              "          docLink.innerHTML = docLinkHtml;\n",
              "          element.appendChild(docLink);\n",
              "        }\n",
              "      </script>\n",
              "    </div>\n",
              "  </div>\n",
              "  "
            ]
          },
          "metadata": {},
          "execution_count": 121
        }
      ]
    },
    {
      "cell_type": "code",
      "source": [
        "len(future_df)"
      ],
      "metadata": {
        "colab": {
          "base_uri": "https://localhost:8080/"
        },
        "id": "-bDqjlQDmPrf",
        "outputId": "5c6a337a-f97d-499f-9cad-e31d94ee5cf1"
      },
      "id": "-bDqjlQDmPrf",
      "execution_count": 122,
      "outputs": [
        {
          "output_type": "execute_result",
          "data": {
            "text/plain": [
              "5"
            ]
          },
          "metadata": {},
          "execution_count": 122
        }
      ]
    },
    {
      "cell_type": "code",
      "source": [
        "final_arima = ARIMA(data1['CO2'],order = (3,1,4))\n",
        "final_arima = final_arima.fit()\n",
        "final_arima.summary()"
      ],
      "metadata": {
        "colab": {
          "base_uri": "https://localhost:8080/",
          "height": 537
        },
        "id": "KdOhvaVrG9Qb",
        "outputId": "82ce3014-2acf-4668-ff80-2f298c8166f7"
      },
      "id": "KdOhvaVrG9Qb",
      "execution_count": 140,
      "outputs": [
        {
          "output_type": "execute_result",
          "data": {
            "text/plain": [
              "<class 'statsmodels.iolib.summary.Summary'>\n",
              "\"\"\"\n",
              "                               SARIMAX Results                                \n",
              "==============================================================================\n",
              "Dep. Variable:                    CO2   No. Observations:                  215\n",
              "Model:                 ARIMA(3, 1, 4)   Log Likelihood                -166.984\n",
              "Date:                Tue, 07 Mar 2023   AIC                            349.968\n",
              "Time:                        17:26:28   BIC                            376.895\n",
              "Sample:                    01-01-1800   HQIC                           360.849\n",
              "                         - 01-01-2014                                         \n",
              "Covariance Type:                  opg                                         \n",
              "==============================================================================\n",
              "                 coef    std err          z      P>|z|      [0.025      0.975]\n",
              "------------------------------------------------------------------------------\n",
              "ar.L1          1.4805      0.189      7.829      0.000       1.110       1.851\n",
              "ar.L2         -0.1107      0.363     -0.305      0.760      -0.822       0.600\n",
              "ar.L3         -0.4446      0.188     -2.360      0.018      -0.814      -0.075\n",
              "ma.L1         -1.5635      0.196     -7.973      0.000      -1.948      -1.179\n",
              "ma.L2          0.0744      0.361      0.206      0.837      -0.633       0.781\n",
              "ma.L3          0.7941      0.187      4.255      0.000       0.428       1.160\n",
              "ma.L4         -0.2327      0.052     -4.499      0.000      -0.334      -0.131\n",
              "sigma2         0.2757      0.021     13.162      0.000       0.235       0.317\n",
              "===================================================================================\n",
              "Ljung-Box (L1) (Q):                   0.08   Jarque-Bera (JB):                78.18\n",
              "Prob(Q):                              0.78   Prob(JB):                         0.00\n",
              "Heteroskedasticity (H):             231.62   Skew:                            -0.17\n",
              "Prob(H) (two-sided):                  0.00   Kurtosis:                         5.94\n",
              "===================================================================================\n",
              "\n",
              "Warnings:\n",
              "[1] Covariance matrix calculated using the outer product of gradients (complex-step).\n",
              "\"\"\""
            ],
            "text/html": [
              "<table class=\"simpletable\">\n",
              "<caption>SARIMAX Results</caption>\n",
              "<tr>\n",
              "  <th>Dep. Variable:</th>          <td>CO2</td>       <th>  No. Observations:  </th>    <td>215</td>  \n",
              "</tr>\n",
              "<tr>\n",
              "  <th>Model:</th>            <td>ARIMA(3, 1, 4)</td>  <th>  Log Likelihood     </th> <td>-166.984</td>\n",
              "</tr>\n",
              "<tr>\n",
              "  <th>Date:</th>            <td>Tue, 07 Mar 2023</td> <th>  AIC                </th>  <td>349.968</td>\n",
              "</tr>\n",
              "<tr>\n",
              "  <th>Time:</th>                <td>17:26:28</td>     <th>  BIC                </th>  <td>376.895</td>\n",
              "</tr>\n",
              "<tr>\n",
              "  <th>Sample:</th>             <td>01-01-1800</td>    <th>  HQIC               </th>  <td>360.849</td>\n",
              "</tr>\n",
              "<tr>\n",
              "  <th></th>                   <td>- 01-01-2014</td>   <th>                     </th>     <td> </td>   \n",
              "</tr>\n",
              "<tr>\n",
              "  <th>Covariance Type:</th>        <td>opg</td>       <th>                     </th>     <td> </td>   \n",
              "</tr>\n",
              "</table>\n",
              "<table class=\"simpletable\">\n",
              "<tr>\n",
              "     <td></td>       <th>coef</th>     <th>std err</th>      <th>z</th>      <th>P>|z|</th>  <th>[0.025</th>    <th>0.975]</th>  \n",
              "</tr>\n",
              "<tr>\n",
              "  <th>ar.L1</th>  <td>    1.4805</td> <td>    0.189</td> <td>    7.829</td> <td> 0.000</td> <td>    1.110</td> <td>    1.851</td>\n",
              "</tr>\n",
              "<tr>\n",
              "  <th>ar.L2</th>  <td>   -0.1107</td> <td>    0.363</td> <td>   -0.305</td> <td> 0.760</td> <td>   -0.822</td> <td>    0.600</td>\n",
              "</tr>\n",
              "<tr>\n",
              "  <th>ar.L3</th>  <td>   -0.4446</td> <td>    0.188</td> <td>   -2.360</td> <td> 0.018</td> <td>   -0.814</td> <td>   -0.075</td>\n",
              "</tr>\n",
              "<tr>\n",
              "  <th>ma.L1</th>  <td>   -1.5635</td> <td>    0.196</td> <td>   -7.973</td> <td> 0.000</td> <td>   -1.948</td> <td>   -1.179</td>\n",
              "</tr>\n",
              "<tr>\n",
              "  <th>ma.L2</th>  <td>    0.0744</td> <td>    0.361</td> <td>    0.206</td> <td> 0.837</td> <td>   -0.633</td> <td>    0.781</td>\n",
              "</tr>\n",
              "<tr>\n",
              "  <th>ma.L3</th>  <td>    0.7941</td> <td>    0.187</td> <td>    4.255</td> <td> 0.000</td> <td>    0.428</td> <td>    1.160</td>\n",
              "</tr>\n",
              "<tr>\n",
              "  <th>ma.L4</th>  <td>   -0.2327</td> <td>    0.052</td> <td>   -4.499</td> <td> 0.000</td> <td>   -0.334</td> <td>   -0.131</td>\n",
              "</tr>\n",
              "<tr>\n",
              "  <th>sigma2</th> <td>    0.2757</td> <td>    0.021</td> <td>   13.162</td> <td> 0.000</td> <td>    0.235</td> <td>    0.317</td>\n",
              "</tr>\n",
              "</table>\n",
              "<table class=\"simpletable\">\n",
              "<tr>\n",
              "  <th>Ljung-Box (L1) (Q):</th>      <td>0.08</td>  <th>  Jarque-Bera (JB):  </th> <td>78.18</td>\n",
              "</tr>\n",
              "<tr>\n",
              "  <th>Prob(Q):</th>                 <td>0.78</td>  <th>  Prob(JB):          </th> <td>0.00</td> \n",
              "</tr>\n",
              "<tr>\n",
              "  <th>Heteroskedasticity (H):</th> <td>231.62</td> <th>  Skew:              </th> <td>-0.17</td>\n",
              "</tr>\n",
              "<tr>\n",
              "  <th>Prob(H) (two-sided):</th>     <td>0.00</td>  <th>  Kurtosis:          </th> <td>5.94</td> \n",
              "</tr>\n",
              "</table><br/><br/>Warnings:<br/>[1] Covariance matrix calculated using the outer product of gradients (complex-step)."
            ]
          },
          "metadata": {},
          "execution_count": 140
        }
      ]
    },
    {
      "cell_type": "code",
      "source": [
        "future_df['CO2'] = final_arima.predict(start = 215, end = 220, dynamic= False)  "
      ],
      "metadata": {
        "id": "VMwVkFbFncAe"
      },
      "id": "VMwVkFbFncAe",
      "execution_count": 141,
      "outputs": []
    },
    {
      "cell_type": "code",
      "source": [
        "future_df"
      ],
      "metadata": {
        "colab": {
          "base_uri": "https://localhost:8080/",
          "height": 206
        },
        "id": "hZv_A31SEylH",
        "outputId": "00596508-0d5f-4f36-d993-9908951d718c"
      },
      "id": "hZv_A31SEylH",
      "execution_count": 142,
      "outputs": [
        {
          "output_type": "execute_result",
          "data": {
            "text/plain": [
              "                  CO2\n",
              "2015-01-01  14.773561\n",
              "2016-01-01  14.559110\n",
              "2017-01-01  14.503463\n",
              "2018-01-01  14.462163\n",
              "2019-01-01  14.502526"
            ],
            "text/html": [
              "\n",
              "  <div id=\"df-e0fd0958-2f3f-4f09-ac49-d0a59fd73d4a\">\n",
              "    <div class=\"colab-df-container\">\n",
              "      <div>\n",
              "<style scoped>\n",
              "    .dataframe tbody tr th:only-of-type {\n",
              "        vertical-align: middle;\n",
              "    }\n",
              "\n",
              "    .dataframe tbody tr th {\n",
              "        vertical-align: top;\n",
              "    }\n",
              "\n",
              "    .dataframe thead th {\n",
              "        text-align: right;\n",
              "    }\n",
              "</style>\n",
              "<table border=\"1\" class=\"dataframe\">\n",
              "  <thead>\n",
              "    <tr style=\"text-align: right;\">\n",
              "      <th></th>\n",
              "      <th>CO2</th>\n",
              "    </tr>\n",
              "  </thead>\n",
              "  <tbody>\n",
              "    <tr>\n",
              "      <th>2015-01-01</th>\n",
              "      <td>14.773561</td>\n",
              "    </tr>\n",
              "    <tr>\n",
              "      <th>2016-01-01</th>\n",
              "      <td>14.559110</td>\n",
              "    </tr>\n",
              "    <tr>\n",
              "      <th>2017-01-01</th>\n",
              "      <td>14.503463</td>\n",
              "    </tr>\n",
              "    <tr>\n",
              "      <th>2018-01-01</th>\n",
              "      <td>14.462163</td>\n",
              "    </tr>\n",
              "    <tr>\n",
              "      <th>2019-01-01</th>\n",
              "      <td>14.502526</td>\n",
              "    </tr>\n",
              "  </tbody>\n",
              "</table>\n",
              "</div>\n",
              "      <button class=\"colab-df-convert\" onclick=\"convertToInteractive('df-e0fd0958-2f3f-4f09-ac49-d0a59fd73d4a')\"\n",
              "              title=\"Convert this dataframe to an interactive table.\"\n",
              "              style=\"display:none;\">\n",
              "        \n",
              "  <svg xmlns=\"http://www.w3.org/2000/svg\" height=\"24px\"viewBox=\"0 0 24 24\"\n",
              "       width=\"24px\">\n",
              "    <path d=\"M0 0h24v24H0V0z\" fill=\"none\"/>\n",
              "    <path d=\"M18.56 5.44l.94 2.06.94-2.06 2.06-.94-2.06-.94-.94-2.06-.94 2.06-2.06.94zm-11 1L8.5 8.5l.94-2.06 2.06-.94-2.06-.94L8.5 2.5l-.94 2.06-2.06.94zm10 10l.94 2.06.94-2.06 2.06-.94-2.06-.94-.94-2.06-.94 2.06-2.06.94z\"/><path d=\"M17.41 7.96l-1.37-1.37c-.4-.4-.92-.59-1.43-.59-.52 0-1.04.2-1.43.59L10.3 9.45l-7.72 7.72c-.78.78-.78 2.05 0 2.83L4 21.41c.39.39.9.59 1.41.59.51 0 1.02-.2 1.41-.59l7.78-7.78 2.81-2.81c.8-.78.8-2.07 0-2.86zM5.41 20L4 18.59l7.72-7.72 1.47 1.35L5.41 20z\"/>\n",
              "  </svg>\n",
              "      </button>\n",
              "      \n",
              "  <style>\n",
              "    .colab-df-container {\n",
              "      display:flex;\n",
              "      flex-wrap:wrap;\n",
              "      gap: 12px;\n",
              "    }\n",
              "\n",
              "    .colab-df-convert {\n",
              "      background-color: #E8F0FE;\n",
              "      border: none;\n",
              "      border-radius: 50%;\n",
              "      cursor: pointer;\n",
              "      display: none;\n",
              "      fill: #1967D2;\n",
              "      height: 32px;\n",
              "      padding: 0 0 0 0;\n",
              "      width: 32px;\n",
              "    }\n",
              "\n",
              "    .colab-df-convert:hover {\n",
              "      background-color: #E2EBFA;\n",
              "      box-shadow: 0px 1px 2px rgba(60, 64, 67, 0.3), 0px 1px 3px 1px rgba(60, 64, 67, 0.15);\n",
              "      fill: #174EA6;\n",
              "    }\n",
              "\n",
              "    [theme=dark] .colab-df-convert {\n",
              "      background-color: #3B4455;\n",
              "      fill: #D2E3FC;\n",
              "    }\n",
              "\n",
              "    [theme=dark] .colab-df-convert:hover {\n",
              "      background-color: #434B5C;\n",
              "      box-shadow: 0px 1px 3px 1px rgba(0, 0, 0, 0.15);\n",
              "      filter: drop-shadow(0px 1px 2px rgba(0, 0, 0, 0.3));\n",
              "      fill: #FFFFFF;\n",
              "    }\n",
              "  </style>\n",
              "\n",
              "      <script>\n",
              "        const buttonEl =\n",
              "          document.querySelector('#df-e0fd0958-2f3f-4f09-ac49-d0a59fd73d4a button.colab-df-convert');\n",
              "        buttonEl.style.display =\n",
              "          google.colab.kernel.accessAllowed ? 'block' : 'none';\n",
              "\n",
              "        async function convertToInteractive(key) {\n",
              "          const element = document.querySelector('#df-e0fd0958-2f3f-4f09-ac49-d0a59fd73d4a');\n",
              "          const dataTable =\n",
              "            await google.colab.kernel.invokeFunction('convertToInteractive',\n",
              "                                                     [key], {});\n",
              "          if (!dataTable) return;\n",
              "\n",
              "          const docLinkHtml = 'Like what you see? Visit the ' +\n",
              "            '<a target=\"_blank\" href=https://colab.research.google.com/notebooks/data_table.ipynb>data table notebook</a>'\n",
              "            + ' to learn more about interactive tables.';\n",
              "          element.innerHTML = '';\n",
              "          dataTable['output_type'] = 'display_data';\n",
              "          await google.colab.output.renderOutput(dataTable, element);\n",
              "          const docLink = document.createElement('div');\n",
              "          docLink.innerHTML = docLinkHtml;\n",
              "          element.appendChild(docLink);\n",
              "        }\n",
              "      </script>\n",
              "    </div>\n",
              "  </div>\n",
              "  "
            ]
          },
          "metadata": {},
          "execution_count": 142
        }
      ]
    },
    {
      "cell_type": "code",
      "source": [
        "# Exporting to csv file# Exporting to csv file\n",
        "future_df.to_csv(r'forecast_data_5years1.csv',index=True)"
      ],
      "metadata": {
        "id": "PABrq-JdE1M9"
      },
      "id": "PABrq-JdE1M9",
      "execution_count": 143,
      "outputs": []
    },
    {
      "cell_type": "markdown",
      "source": [
        "## Forecast for 10 years"
      ],
      "metadata": {
        "id": "dFMHbjLnIRZ5"
      },
      "id": "dFMHbjLnIRZ5"
    },
    {
      "cell_type": "code",
      "source": [
        "future_dates_10=[data1.index[-1]+ DateOffset(years=x)for x in range(0,11)]\n",
        "future_df_10=pd.DataFrame(index=future_dates_10[1:],columns=data1.columns)\n",
        "future_df_10.tail()\n",
        "len(future_df_10)"
      ],
      "metadata": {
        "colab": {
          "base_uri": "https://localhost:8080/"
        },
        "id": "UXnvFqfVIHPs",
        "outputId": "01e40bae-fb82-461b-f221-f9fb83e86a1c"
      },
      "id": "UXnvFqfVIHPs",
      "execution_count": 144,
      "outputs": [
        {
          "output_type": "execute_result",
          "data": {
            "text/plain": [
              "10"
            ]
          },
          "metadata": {},
          "execution_count": 144
        }
      ]
    },
    {
      "cell_type": "code",
      "source": [
        "future_df_10"
      ],
      "metadata": {
        "colab": {
          "base_uri": "https://localhost:8080/",
          "height": 363
        },
        "id": "YY14a8AdIZkH",
        "outputId": "2b3d8ae5-9daa-42ce-b8e6-37309961af27"
      },
      "id": "YY14a8AdIZkH",
      "execution_count": 145,
      "outputs": [
        {
          "output_type": "execute_result",
          "data": {
            "text/plain": [
              "            CO2\n",
              "2015-01-01  NaN\n",
              "2016-01-01  NaN\n",
              "2017-01-01  NaN\n",
              "2018-01-01  NaN\n",
              "2019-01-01  NaN\n",
              "2020-01-01  NaN\n",
              "2021-01-01  NaN\n",
              "2022-01-01  NaN\n",
              "2023-01-01  NaN\n",
              "2024-01-01  NaN"
            ],
            "text/html": [
              "\n",
              "  <div id=\"df-677eaf8b-8509-4265-8687-529018f01f0b\">\n",
              "    <div class=\"colab-df-container\">\n",
              "      <div>\n",
              "<style scoped>\n",
              "    .dataframe tbody tr th:only-of-type {\n",
              "        vertical-align: middle;\n",
              "    }\n",
              "\n",
              "    .dataframe tbody tr th {\n",
              "        vertical-align: top;\n",
              "    }\n",
              "\n",
              "    .dataframe thead th {\n",
              "        text-align: right;\n",
              "    }\n",
              "</style>\n",
              "<table border=\"1\" class=\"dataframe\">\n",
              "  <thead>\n",
              "    <tr style=\"text-align: right;\">\n",
              "      <th></th>\n",
              "      <th>CO2</th>\n",
              "    </tr>\n",
              "  </thead>\n",
              "  <tbody>\n",
              "    <tr>\n",
              "      <th>2015-01-01</th>\n",
              "      <td>NaN</td>\n",
              "    </tr>\n",
              "    <tr>\n",
              "      <th>2016-01-01</th>\n",
              "      <td>NaN</td>\n",
              "    </tr>\n",
              "    <tr>\n",
              "      <th>2017-01-01</th>\n",
              "      <td>NaN</td>\n",
              "    </tr>\n",
              "    <tr>\n",
              "      <th>2018-01-01</th>\n",
              "      <td>NaN</td>\n",
              "    </tr>\n",
              "    <tr>\n",
              "      <th>2019-01-01</th>\n",
              "      <td>NaN</td>\n",
              "    </tr>\n",
              "    <tr>\n",
              "      <th>2020-01-01</th>\n",
              "      <td>NaN</td>\n",
              "    </tr>\n",
              "    <tr>\n",
              "      <th>2021-01-01</th>\n",
              "      <td>NaN</td>\n",
              "    </tr>\n",
              "    <tr>\n",
              "      <th>2022-01-01</th>\n",
              "      <td>NaN</td>\n",
              "    </tr>\n",
              "    <tr>\n",
              "      <th>2023-01-01</th>\n",
              "      <td>NaN</td>\n",
              "    </tr>\n",
              "    <tr>\n",
              "      <th>2024-01-01</th>\n",
              "      <td>NaN</td>\n",
              "    </tr>\n",
              "  </tbody>\n",
              "</table>\n",
              "</div>\n",
              "      <button class=\"colab-df-convert\" onclick=\"convertToInteractive('df-677eaf8b-8509-4265-8687-529018f01f0b')\"\n",
              "              title=\"Convert this dataframe to an interactive table.\"\n",
              "              style=\"display:none;\">\n",
              "        \n",
              "  <svg xmlns=\"http://www.w3.org/2000/svg\" height=\"24px\"viewBox=\"0 0 24 24\"\n",
              "       width=\"24px\">\n",
              "    <path d=\"M0 0h24v24H0V0z\" fill=\"none\"/>\n",
              "    <path d=\"M18.56 5.44l.94 2.06.94-2.06 2.06-.94-2.06-.94-.94-2.06-.94 2.06-2.06.94zm-11 1L8.5 8.5l.94-2.06 2.06-.94-2.06-.94L8.5 2.5l-.94 2.06-2.06.94zm10 10l.94 2.06.94-2.06 2.06-.94-2.06-.94-.94-2.06-.94 2.06-2.06.94z\"/><path d=\"M17.41 7.96l-1.37-1.37c-.4-.4-.92-.59-1.43-.59-.52 0-1.04.2-1.43.59L10.3 9.45l-7.72 7.72c-.78.78-.78 2.05 0 2.83L4 21.41c.39.39.9.59 1.41.59.51 0 1.02-.2 1.41-.59l7.78-7.78 2.81-2.81c.8-.78.8-2.07 0-2.86zM5.41 20L4 18.59l7.72-7.72 1.47 1.35L5.41 20z\"/>\n",
              "  </svg>\n",
              "      </button>\n",
              "      \n",
              "  <style>\n",
              "    .colab-df-container {\n",
              "      display:flex;\n",
              "      flex-wrap:wrap;\n",
              "      gap: 12px;\n",
              "    }\n",
              "\n",
              "    .colab-df-convert {\n",
              "      background-color: #E8F0FE;\n",
              "      border: none;\n",
              "      border-radius: 50%;\n",
              "      cursor: pointer;\n",
              "      display: none;\n",
              "      fill: #1967D2;\n",
              "      height: 32px;\n",
              "      padding: 0 0 0 0;\n",
              "      width: 32px;\n",
              "    }\n",
              "\n",
              "    .colab-df-convert:hover {\n",
              "      background-color: #E2EBFA;\n",
              "      box-shadow: 0px 1px 2px rgba(60, 64, 67, 0.3), 0px 1px 3px 1px rgba(60, 64, 67, 0.15);\n",
              "      fill: #174EA6;\n",
              "    }\n",
              "\n",
              "    [theme=dark] .colab-df-convert {\n",
              "      background-color: #3B4455;\n",
              "      fill: #D2E3FC;\n",
              "    }\n",
              "\n",
              "    [theme=dark] .colab-df-convert:hover {\n",
              "      background-color: #434B5C;\n",
              "      box-shadow: 0px 1px 3px 1px rgba(0, 0, 0, 0.15);\n",
              "      filter: drop-shadow(0px 1px 2px rgba(0, 0, 0, 0.3));\n",
              "      fill: #FFFFFF;\n",
              "    }\n",
              "  </style>\n",
              "\n",
              "      <script>\n",
              "        const buttonEl =\n",
              "          document.querySelector('#df-677eaf8b-8509-4265-8687-529018f01f0b button.colab-df-convert');\n",
              "        buttonEl.style.display =\n",
              "          google.colab.kernel.accessAllowed ? 'block' : 'none';\n",
              "\n",
              "        async function convertToInteractive(key) {\n",
              "          const element = document.querySelector('#df-677eaf8b-8509-4265-8687-529018f01f0b');\n",
              "          const dataTable =\n",
              "            await google.colab.kernel.invokeFunction('convertToInteractive',\n",
              "                                                     [key], {});\n",
              "          if (!dataTable) return;\n",
              "\n",
              "          const docLinkHtml = 'Like what you see? Visit the ' +\n",
              "            '<a target=\"_blank\" href=https://colab.research.google.com/notebooks/data_table.ipynb>data table notebook</a>'\n",
              "            + ' to learn more about interactive tables.';\n",
              "          element.innerHTML = '';\n",
              "          dataTable['output_type'] = 'display_data';\n",
              "          await google.colab.output.renderOutput(dataTable, element);\n",
              "          const docLink = document.createElement('div');\n",
              "          docLink.innerHTML = docLinkHtml;\n",
              "          element.appendChild(docLink);\n",
              "        }\n",
              "      </script>\n",
              "    </div>\n",
              "  </div>\n",
              "  "
            ]
          },
          "metadata": {},
          "execution_count": 145
        }
      ]
    },
    {
      "cell_type": "code",
      "source": [
        "future_df_10['CO2'] = final_arima.predict(start = 215, end = 225, dynamic= True) "
      ],
      "metadata": {
        "id": "lf_HKuZGIcDM"
      },
      "id": "lf_HKuZGIcDM",
      "execution_count": 146,
      "outputs": []
    },
    {
      "cell_type": "code",
      "source": [
        "future_df_10"
      ],
      "metadata": {
        "colab": {
          "base_uri": "https://localhost:8080/",
          "height": 363
        },
        "id": "vCcOWLYxIf_z",
        "outputId": "d71f46f7-2a85-4ca2-c6fb-92f584a15513"
      },
      "id": "vCcOWLYxIf_z",
      "execution_count": 148,
      "outputs": [
        {
          "output_type": "execute_result",
          "data": {
            "text/plain": [
              "                  CO2\n",
              "2015-01-01  14.773561\n",
              "2016-01-01  14.559110\n",
              "2017-01-01  14.503463\n",
              "2018-01-01  14.462163\n",
              "2019-01-01  14.502526\n",
              "2020-01-01  14.591596\n",
              "2021-01-01  14.737352\n",
              "2022-01-01  14.925328\n",
              "2023-01-01  15.147876\n",
              "2024-01-01  15.391729"
            ],
            "text/html": [
              "\n",
              "  <div id=\"df-23fbe61f-6f40-4b46-813e-08457cfae302\">\n",
              "    <div class=\"colab-df-container\">\n",
              "      <div>\n",
              "<style scoped>\n",
              "    .dataframe tbody tr th:only-of-type {\n",
              "        vertical-align: middle;\n",
              "    }\n",
              "\n",
              "    .dataframe tbody tr th {\n",
              "        vertical-align: top;\n",
              "    }\n",
              "\n",
              "    .dataframe thead th {\n",
              "        text-align: right;\n",
              "    }\n",
              "</style>\n",
              "<table border=\"1\" class=\"dataframe\">\n",
              "  <thead>\n",
              "    <tr style=\"text-align: right;\">\n",
              "      <th></th>\n",
              "      <th>CO2</th>\n",
              "    </tr>\n",
              "  </thead>\n",
              "  <tbody>\n",
              "    <tr>\n",
              "      <th>2015-01-01</th>\n",
              "      <td>14.773561</td>\n",
              "    </tr>\n",
              "    <tr>\n",
              "      <th>2016-01-01</th>\n",
              "      <td>14.559110</td>\n",
              "    </tr>\n",
              "    <tr>\n",
              "      <th>2017-01-01</th>\n",
              "      <td>14.503463</td>\n",
              "    </tr>\n",
              "    <tr>\n",
              "      <th>2018-01-01</th>\n",
              "      <td>14.462163</td>\n",
              "    </tr>\n",
              "    <tr>\n",
              "      <th>2019-01-01</th>\n",
              "      <td>14.502526</td>\n",
              "    </tr>\n",
              "    <tr>\n",
              "      <th>2020-01-01</th>\n",
              "      <td>14.591596</td>\n",
              "    </tr>\n",
              "    <tr>\n",
              "      <th>2021-01-01</th>\n",
              "      <td>14.737352</td>\n",
              "    </tr>\n",
              "    <tr>\n",
              "      <th>2022-01-01</th>\n",
              "      <td>14.925328</td>\n",
              "    </tr>\n",
              "    <tr>\n",
              "      <th>2023-01-01</th>\n",
              "      <td>15.147876</td>\n",
              "    </tr>\n",
              "    <tr>\n",
              "      <th>2024-01-01</th>\n",
              "      <td>15.391729</td>\n",
              "    </tr>\n",
              "  </tbody>\n",
              "</table>\n",
              "</div>\n",
              "      <button class=\"colab-df-convert\" onclick=\"convertToInteractive('df-23fbe61f-6f40-4b46-813e-08457cfae302')\"\n",
              "              title=\"Convert this dataframe to an interactive table.\"\n",
              "              style=\"display:none;\">\n",
              "        \n",
              "  <svg xmlns=\"http://www.w3.org/2000/svg\" height=\"24px\"viewBox=\"0 0 24 24\"\n",
              "       width=\"24px\">\n",
              "    <path d=\"M0 0h24v24H0V0z\" fill=\"none\"/>\n",
              "    <path d=\"M18.56 5.44l.94 2.06.94-2.06 2.06-.94-2.06-.94-.94-2.06-.94 2.06-2.06.94zm-11 1L8.5 8.5l.94-2.06 2.06-.94-2.06-.94L8.5 2.5l-.94 2.06-2.06.94zm10 10l.94 2.06.94-2.06 2.06-.94-2.06-.94-.94-2.06-.94 2.06-2.06.94z\"/><path d=\"M17.41 7.96l-1.37-1.37c-.4-.4-.92-.59-1.43-.59-.52 0-1.04.2-1.43.59L10.3 9.45l-7.72 7.72c-.78.78-.78 2.05 0 2.83L4 21.41c.39.39.9.59 1.41.59.51 0 1.02-.2 1.41-.59l7.78-7.78 2.81-2.81c.8-.78.8-2.07 0-2.86zM5.41 20L4 18.59l7.72-7.72 1.47 1.35L5.41 20z\"/>\n",
              "  </svg>\n",
              "      </button>\n",
              "      \n",
              "  <style>\n",
              "    .colab-df-container {\n",
              "      display:flex;\n",
              "      flex-wrap:wrap;\n",
              "      gap: 12px;\n",
              "    }\n",
              "\n",
              "    .colab-df-convert {\n",
              "      background-color: #E8F0FE;\n",
              "      border: none;\n",
              "      border-radius: 50%;\n",
              "      cursor: pointer;\n",
              "      display: none;\n",
              "      fill: #1967D2;\n",
              "      height: 32px;\n",
              "      padding: 0 0 0 0;\n",
              "      width: 32px;\n",
              "    }\n",
              "\n",
              "    .colab-df-convert:hover {\n",
              "      background-color: #E2EBFA;\n",
              "      box-shadow: 0px 1px 2px rgba(60, 64, 67, 0.3), 0px 1px 3px 1px rgba(60, 64, 67, 0.15);\n",
              "      fill: #174EA6;\n",
              "    }\n",
              "\n",
              "    [theme=dark] .colab-df-convert {\n",
              "      background-color: #3B4455;\n",
              "      fill: #D2E3FC;\n",
              "    }\n",
              "\n",
              "    [theme=dark] .colab-df-convert:hover {\n",
              "      background-color: #434B5C;\n",
              "      box-shadow: 0px 1px 3px 1px rgba(0, 0, 0, 0.15);\n",
              "      filter: drop-shadow(0px 1px 2px rgba(0, 0, 0, 0.3));\n",
              "      fill: #FFFFFF;\n",
              "    }\n",
              "  </style>\n",
              "\n",
              "      <script>\n",
              "        const buttonEl =\n",
              "          document.querySelector('#df-23fbe61f-6f40-4b46-813e-08457cfae302 button.colab-df-convert');\n",
              "        buttonEl.style.display =\n",
              "          google.colab.kernel.accessAllowed ? 'block' : 'none';\n",
              "\n",
              "        async function convertToInteractive(key) {\n",
              "          const element = document.querySelector('#df-23fbe61f-6f40-4b46-813e-08457cfae302');\n",
              "          const dataTable =\n",
              "            await google.colab.kernel.invokeFunction('convertToInteractive',\n",
              "                                                     [key], {});\n",
              "          if (!dataTable) return;\n",
              "\n",
              "          const docLinkHtml = 'Like what you see? Visit the ' +\n",
              "            '<a target=\"_blank\" href=https://colab.research.google.com/notebooks/data_table.ipynb>data table notebook</a>'\n",
              "            + ' to learn more about interactive tables.';\n",
              "          element.innerHTML = '';\n",
              "          dataTable['output_type'] = 'display_data';\n",
              "          await google.colab.output.renderOutput(dataTable, element);\n",
              "          const docLink = document.createElement('div');\n",
              "          docLink.innerHTML = docLinkHtml;\n",
              "          element.appendChild(docLink);\n",
              "        }\n",
              "      </script>\n",
              "    </div>\n",
              "  </div>\n",
              "  "
            ]
          },
          "metadata": {},
          "execution_count": 148
        }
      ]
    },
    {
      "cell_type": "code",
      "source": [
        "# Exporting to csv file\n",
        "future_df_10.to_csv(r'forecast_data_10years.csv',index=True)"
      ],
      "metadata": {
        "id": "cS9TO8DCI7Vh"
      },
      "id": "cS9TO8DCI7Vh",
      "execution_count": 150,
      "outputs": []
    },
    {
      "cell_type": "code",
      "source": [
        "# Saving the pickle file\n",
        "import pickle\n",
        "pickle.dump(final_arima, open('Forecast_arima.pkl','wb'))"
      ],
      "metadata": {
        "id": "w3iWT8P8JEZe"
      },
      "id": "w3iWT8P8JEZe",
      "execution_count": 154,
      "outputs": []
    },
    {
      "cell_type": "code",
      "source": [],
      "metadata": {
        "id": "JEiY0P4xJmap"
      },
      "id": "JEiY0P4xJmap",
      "execution_count": null,
      "outputs": []
    }
  ],
  "metadata": {
    "kernelspec": {
      "display_name": "Python 3 (ipykernel)",
      "language": "python",
      "name": "python3"
    },
    "language_info": {
      "codemirror_mode": {
        "name": "ipython",
        "version": 3
      },
      "file_extension": ".py",
      "mimetype": "text/x-python",
      "name": "python",
      "nbconvert_exporter": "python",
      "pygments_lexer": "ipython3",
      "version": "3.9.12"
    },
    "colab": {
      "provenance": []
    }
  },
  "nbformat": 4,
  "nbformat_minor": 5
}